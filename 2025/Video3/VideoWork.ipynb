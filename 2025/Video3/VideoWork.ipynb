{
 "cells": [
  {
   "cell_type": "code",
   "execution_count": 2,
   "metadata": {},
   "outputs": [],
   "source": [
    "from manim import *\n",
    "config.renderer=\"opengl\""
   ]
  },
  {
   "cell_type": "code",
   "execution_count": 3,
   "metadata": {},
   "outputs": [
    {
     "data": {
      "text/html": [
       "<pre style=\"white-space:pre;overflow-x:auto;line-height:normal;font-family:Menlo,'DejaVu Sans Mono',consolas,'Courier New',monospace\">Manim Community <span style=\"color: #008000; text-decoration-color: #008000\">v0.19.0</span>\n",
       "\n",
       "</pre>\n"
      ],
      "text/plain": [
       "Manim Community \u001b[32mv0.\u001b[0m\u001b[32m19.0\u001b[0m\n",
       "\n"
      ]
     },
     "metadata": {},
     "output_type": "display_data"
    },
    {
     "name": "stderr",
     "output_type": "stream",
     "text": [
      "                                                                                                                     \r"
     ]
    },
    {
     "data": {
      "text/html": [
       "<video src=\"media\\jupyter\\Part1@2025-03-19@16-30-50.mp4\" controls autoplay loop style=\"max-width: 60%;\"  >\n",
       "      Your browser does not support the <code>video</code> element.\n",
       "    </video>"
      ],
      "text/plain": [
       "<IPython.core.display.Video object>"
      ]
     },
     "metadata": {},
     "output_type": "display_data"
    }
   ],
   "source": [
    "%%manim -qh -v WARNING Part1\n",
    "\n",
    "class Part1(MovingCameraScene):\n",
    "\n",
    "    def construct(self):\n",
    "        \n",
    "        text=Text(\"වෘත්ත චලිතය\", font=\"Noto Sans Sinhala\", weight=\"BOLD\", font_size=28).to_edge(UP*0.5)\n",
    "\n",
    "        radius = 2.8\n",
    "        ball_1 = Dot(color=RED, fill_color=RED).scale(3)\n",
    "        ball_2 = Dot(color=BLUE, fill_color=BLUE).scale(1)\n",
    "\n",
    "        ball_2.add_updater(\n",
    "            lambda m: m.move_to(ball_1.get_center())\n",
    "        )\n",
    "\n",
    "        def get_ball_position(t):\n",
    "            angle = t * PI \n",
    "            return radius * np.array([\n",
    "                np.cos(angle),\n",
    "                np.sin(angle),\n",
    "                0\n",
    "            ])\n",
    "\n",
    "        time_tracker = ValueTracker(3/2)  # Start at the bottom of the circle\n",
    "\n",
    "        ball_1.add_updater(\n",
    "            lambda m: m.move_to(get_ball_position(time_tracker.get_value()))\n",
    "        )    \n",
    "\n",
    "        self.play(Write(text))\n",
    "        self.add(ball_1.move_to(DOWN*2.8))\n",
    "        self.wait(1)\n",
    "        self.play(time_tracker.animate.set_value((25/4)), run_time=5, rate_func=rate_functions.rush_from)\n",
    "        self.wait(1)\n",
    "        self.play(Uncreate(text))\n",
    "\n",
    "        ax1 = NumberPlane(\n",
    "            x_range=[-11, 11, 0.5],  \n",
    "            y_range=[-7, 7, 0.5],  \n",
    "            axis_config={\"include_numbers\": False},  # Show numbers on axes\n",
    "            background_line_style={\n",
    "                \"stroke_color\": WHITE,     # Color of the grid lines\n",
    "                \"stroke_width\": 0.5,        # Thickness of the grid lines\n",
    "                \"stroke_opacity\": 0.5     # Opacity of the grid lines\n",
    "            }\n",
    "        )\n",
    "\n",
    "        ax2 = NumberPlane(\n",
    "            x_range=[-11, 11, 1],  \n",
    "            y_range=[-7, 7, 1],  \n",
    "            axis_config={\"include_numbers\": False},  # Show numbers on axes\n",
    "            background_line_style={\n",
    "                \"stroke_color\": BLUE,     # Color of the grid lines\n",
    "                \"stroke_width\": 0.9,        # Thickness of the grid lines\n",
    "                \"stroke_opacity\": 1     # Opacity of the grid lines\n",
    "            }\n",
    "        ).add_coordinates()\n",
    "\n",
    "        labels = ax2.get_axis_labels(x_label=\"X\", y_label=\"Y\")  # Add labels to the axes\n",
    "\n",
    "        self.play(Create(VGroup(ax1, ax2, labels)))\n",
    "        self.wait(1)\n",
    "        self.play(ReplacementTransform(ball_1, ball_2))\n",
    "        self.wait(1)\n",
    "\n",
    "        circle_1=Circle(radius=2.8, color=BLUE, stroke_width=0.3).move_to(ORIGIN)\n",
    "        dash_1=DashedLine(start=ORIGIN, end=np.array([2,2,0]), color=BLUE, stroke_width=1.2)\n",
    "        text_1=Text(\"r\", font=\"Arial\", weight=\"BOLD\", font_size=28).move_to(np.array([1,1,0]))\n",
    "\n",
    "        self.play(Create(circle_1),Create(dash_1), Create(text_1))\n",
    "        self.wait(1)\n",
    " \n",
    "        self.camera.frame.save_state()\n",
    "        self.play(self.camera.frame.animate.move_to(np.array([2,2,0])).scale(0.75))\n",
    "        \n",
    "        arrow_1 = Arrow(start=ORIGIN, end=np.array([2,0,0]), color=YELLOW, buff=0, stroke_width=1.5,max_tip_length_to_length_ratio=0.1)\n",
    "        arrow_2 = Arrow(start=np.array([0,0,0]), end=np.array([0,2,0]), color=YELLOW, buff=0, stroke_width=1.5,max_tip_length_to_length_ratio=0.1)\n",
    "        labels_1=Text(\"X\", font=\"Noto Sans Sinhala\", weight=\"BOLD\", font_size=24).next_to(arrow_1, DOWN)\n",
    "        labels_2=Text(\"Y\", font=\"Noto Sans Sinhala\", weight=\"BOLD\", font_size=24).next_to(arrow_2, LEFT , buff=0.05)\n",
    "\n",
    "        self.play( Create(arrow_1), Create(arrow_2), Write(labels_1), Write(labels_2))  \n",
    "        self.wait(3)\n",
    "\n",
    "        arrow_3 = Arrow(start=np.array([2,2,0]), end=np.array([3,2,0]), color=RED, buff=0, stroke_width=1.5,max_tip_length_to_length_ratio=0.1)\n",
    "        arrow_4 = Arrow(start=np.array([2,2,0]), end=np.array([2,3,0]), color=RED, buff=0, stroke_width=1.5,max_tip_length_to_length_ratio=0.1)\n",
    "        labels_3 = MathTex(r\"\\left[\\frac{d x}{d t}\\right]\", font_size=24).next_to(arrow_3, RIGHT)\n",
    "        labels_4 = MathTex(r\"\\left[\\frac{d y}{d t}\\right]\", font_size=24).next_to(arrow_4, UP)\n",
    "        self.play(Create(arrow_3),Create(arrow_4),Write(labels_3),Write(labels_4))\n",
    "        self.wait(1)\n",
    "\n",
    "        arrow_5 = Arrow(start=np.array([2,2,0]), end=np.array([2.8,2,0]), color=PURPLE, buff=0, stroke_width=1.5,max_tip_length_to_length_ratio=0.1)\n",
    "        arrow_6 = Arrow(start=np.array([2,2,0]), end=np.array([2,2.8,0]), color=PURPLE, buff=0, stroke_width=1.5,max_tip_length_to_length_ratio=0.1)\n",
    "        labels_5 = MathTex(r\"\\left[\\frac{d^2 x}{d t^2}\\right]\" , font_size=24).next_to(labels_3, RIGHT)\n",
    "        labels_6 = MathTex(r\"\\left[\\frac{d^2 y}{d t^2}\\right]\" , font_size=24).next_to(labels_4, UP)\n",
    "        self.play(Create(arrow_5),Create(arrow_6))\n",
    "        self.wait(1)\n",
    "        self.play(Create(labels_5),Create(labels_6))\n",
    "        self.wait(1)\n",
    "\n",
    "        angle_1 = Angle(arrow_1, dash_1, radius=0.5) \n",
    "        angel_label_1=MathTex(r\"\\theta\", font_size=28).next_to(angle_1, RIGHT)\n",
    "        self.play(Create(angle_1),Create(angel_label_1)) \n",
    "        self.wait(1)\n",
    "\n",
    "        dash_2=DashedLine(start=np.array([2,2,0]), end=np.array([3,3,0]), color=BLUE, stroke_width=1.2)\n",
    "        dash_3=DashedLine(start=np.array([1,3,0]), end=np.array([3,1,0]), color=BLUE, stroke_width=1.2)\n",
    "        self.play(Create(dash_2),Create(dash_3))\n",
    "        self.wait(1)\n",
    "\n",
    "        angle_2 = Angle(arrow_3, dash_2, radius=0.5) \n",
    "        angel_label_2=MathTex(r\"\\theta\", font_size=28).next_to(angle_2, RIGHT)\n",
    "        self.play(Create(angle_2),Create(angel_label_2))\n",
    "        self.wait(1)\n",
    "\n",
    "        self.play(labels_6.animate.next_to(labels_4,RIGHT))\n",
    "        self.play(Restore(self.camera.frame))\n",
    "        self.camera.frame.save_state()\n",
    "\n",
    "        rectangle_1=Polygon([-1,0,0],[-1,7,0],[-10,7,0],[-10,0,0], color=WHITE, fill_color=BLACK, fill_opacity=5, stroke_width=1)\n",
    "        self.play(Create(rectangle_1))\n",
    "        self.wait(1)\n",
    "\n",
    "        self.play(self.camera.frame.animate.move_to(np.array([-2,2,0])).scale(0.75))\n",
    "   \n",
    "        tex_1=MathTex(\"\\\\sqrt{x^2 + y^2} = \\\\text{r} = \\\\text{Constant}\", font_size=24)\n",
    "        tex_2=MathTex(\"x = r \\\\cos(\\\\theta)\", font_size=24)\n",
    "        tex_3=MathTex(\"y = r \\\\sin(\\\\theta)\", font_size=24)\n",
    "        tex_4=MathTex(\"\\\\frac{d x}{d t} = -r \\\\sin(\\\\theta) \\\\frac{d \\\\theta }{d t}\", font_size=24)\n",
    "        tex_5=MathTex(\"\\\\frac{d y}{d t} =  r \\\\cos(\\\\theta) \\\\frac{d \\\\theta }{d t}\", font_size=24)\n",
    "        tex_6=MathTex(\"\\\\frac{d x}{d t}\", font_size=24)\n",
    "        tex_7=MathTex(\"\\\\frac{d y}{d t}\",font_size=24)\n",
    "        tex_8 = Text(\"හා\", font=\"Noto Sans Sinhala\", font_size=14)\n",
    "        tex_9 = Text(\"ස්පර්ශකය දිගේ විභේදනයෙන්;\", font=\"Noto Sans Sinhala\", font_size=14)\n",
    "        tex_10 = Text(\"ස්පර්ශකයට ලම්භකව විභේදනයෙන්;\", font=\"Noto Sans Sinhala\", font_size=14)\n",
    "        tex_11 = MathTex(r\"V = \\frac{dy}{dt} \\cos(\\theta) - \\frac{dx}{dt} \\sin(\\theta )\", font_size=24).move_to(np.array([-4,3,0]))\n",
    "        tex_12 = MathTex(r\"V = r \\cos(\\theta) \\frac{d\\theta}{dt} \\cos(\\theta) - r(-) \\sin(\\theta) \\frac{d\\theta}{dt} \\sin(\\theta)\", font_size=24).move_to(np.array([-4,3,0]))\n",
    "        tex_13 = MathTex(r\"V = r (\\cos^2(\\theta) + \\sin^2(\\theta)) \\frac{d\\theta}{dt}\", font_size=24)\n",
    "        tex_14 = MathTex(r\"V = r \\omega\", font_size=24)\n",
    "        tex_15 = MathTex(r\"\\frac{dy}{dt}\", font_size=24)\n",
    "        tex_16 = MathTex(r\"\\frac{dx}{dt}\", font_size=24)\n",
    "        tex_17 = MathTex(r\"V^l = \\frac{dy}{dt} \\sin(\\theta) + \\frac{dx}{dt} \\cos(\\theta)\", font_size=24)\n",
    "        tex_18 = MathTex(r\"V^l = r \\cos(\\theta) \\frac{d \\theta}{d t} \\sin(\\theta) + r(-) \\sin(\\theta) \\frac{d \\theta }{d t} \\cos(\\theta)\", font_size=24)\n",
    "        tex_19 = MathTex(r\"V^l = 0\" , font_size=24)\n",
    "        tex_20 = MathTex(r\"\\frac{d^2 x}{d t^2} = (-) r \\sin(\\theta) \\frac{d^2 \\theta}{d t^2} + (-) r \\frac{d \\theta}{d t } \\cos(\\theta) \\frac{d \\theta}{d t }\", font_size=24)\n",
    "        tex_21 = MathTex(r\"\\frac{d^2 x}{d t^2} = r \\cos(\\theta) \\frac{d^2 \\theta}{d t^2} + (-) r \\frac{d \\theta}{d t } \\sin(\\theta) (-) \\frac{d \\theta}{d t }\", font_size=24)\n",
    "        tex_22 = MathTex(r\"a = \\frac{d^2 y}{d t^2} \\cos(\\theta) - \\frac{d^2 x}{d t} \\sin(\\theta)\", font_size=24)\n",
    "        tex_23 = MathTex(r\"a = {r \\cos(\\theta) \\frac{d^2 \\theta}{d t^2} - r \\sin(\\theta)[\\frac{d \\theta}{d t}]^2} \\cos(\\theta)- {(-) \\sin(\\theta) \\frac{d^2 x}{d t} - r \\cos(\\theta)[\\frac{d \\theta}{d t}]^2}\", font_size=18)\n",
    "        tex_24 = MathTex(r\"a = ( \\cos^2(\\theta) + \\sin^2(\\theta) ) \\frac{d^2 x}{d t^2}\", font_size=24)\n",
    "        tex_25 = MathTex(r\"a = r \\alpha\",font_size=24)\n",
    "        tex_26 = MathTex(r\"a^l = \\frac{d^2 y}{d t^2} \\sin(\\theta) + \\frac{d^2 x}{d t} \\cos(\\theta)\", font_size=24)\n",
    "        tex_27 = MathTex(r\"a^l = r [\\frac{d \\theta}{d t}]^2\", font_size=24)\n",
    "        tex_28 = MathTex(r\"a^l = r(\\omega)^2\", font_size=24)\n",
    "        tex_29 = MathTex(r\"\\left[\\frac{d x}{d t}\\right]\", font_size=24)\n",
    "        tex_30 = MathTex(r\"\\left[\\frac{d y}{d t}\\right]\", font_size=24)\n",
    "        tex_31 = Text(\"හා\", font=\"Noto Sans Sinhala\", font_size=14)\n",
    "        tex_32 = MathTex(r\"\\left[\\frac{d x}{d t}\\right]\", font_size=24)\n",
    "        tex_33 = MathTex(r\"\\left[\\frac{d y}{d t}\\right]\", font_size=24)\n",
    "        tex_34 = MathTex(r\"\\left[\\frac{d^2 x}{d t^2}\\right]\", font_size=24)\n",
    "        tex_35 = MathTex(r\"\\left[\\frac{d^2 y}{d t^2}\\right]\", font_size=24)\n",
    "        tex_36 = Text(\"හා\", font=\"Noto Sans Sinhala\", font_size=14)\n",
    "        tex_37 = Text(\"ස්පර්ශකය දිගේ විභේදනයෙන්;\", font=\"Noto Sans Sinhala\", font_size=14)\n",
    "        tex_38 = Text(\"ස්පර්ශකයට ලම්භකව විභේදනයෙන්;\", font=\"Noto Sans Sinhala\", font_size=14)\n",
    "        tex_39 = MathTex(r\"\\left[\\frac{d^2 x}{d t^2}\\right]\", font_size=24)\n",
    "        tex_40 = MathTex(r\"\\left[\\frac{d^2 y}{d t^2}\\right]\", font_size=24)\n",
    "        tex_41 = Text(\"හා\", font=\"Noto Sans Sinhala\", font_size=14)\n",
    "\n",
    "\n",
    "        VG_1=VGroup(tex_1,tex_2,tex_3)\n",
    "        VG_1.arrange(DOWN)\n",
    "        VG_1.move_to(np.array([-4,3,0]))\n",
    "\n",
    "        VG_2=VGroup(tex_29, tex_8, tex_30,tex_9)\n",
    "        VG_2.arrange(RIGHT)\n",
    "        VG_2.move_to(np.array([-4,3,0]))\n",
    "\n",
    "        VG_3=VGroup(tex_11, tex_12, tex_13,tex_14)\n",
    "        VG_3.arrange(DOWN)\n",
    "        VG_3.move_to(np.array([-4,3,0]))\n",
    "\n",
    "        VG_4=VGroup(tex_32, tex_31, tex_33,tex_10)\n",
    "        VG_4.arrange(RIGHT)\n",
    "        VG_4.move_to(np.array([-4,3,0]))\n",
    "\n",
    "        VG_5=VGroup(tex_17,tex_18,tex_19)\n",
    "        VG_5.arrange(DOWN)\n",
    "        VG_5.move_to(np.array([-4,3,0]))\n",
    "\n",
    "        VG_6=VGroup(tex_4,tex_5)\n",
    "        VG_6.arrange(DOWN)\n",
    "        VG_6.move_to(np.array([-4,3,0]))\n",
    "\n",
    "        VG_7=VGroup(tex_20,tex_21)\n",
    "        VG_7.arrange(DOWN)\n",
    "        VG_7.move_to(np.array([-4,3,0]))\n",
    "\n",
    "        VG_8=VGroup(tex_34,tex_36, tex_35,tex_37)\n",
    "        VG_8.arrange(RIGHT)\n",
    "        VG_8.move_to(np.array([-4,3,0]))\n",
    "\n",
    "        VG_9=VGroup(tex_22,tex_23, tex_24,tex_25)\n",
    "        VG_9.arrange(DOWN)\n",
    "        VG_9.move_to(np.array([-4,3,0]))\n",
    "\n",
    "        VG_10=VGroup(tex_39,tex_41, tex_40,tex_38)\n",
    "        VG_10.arrange(RIGHT)\n",
    "        VG_10.move_to(np.array([-4,3,0]))\n",
    "\n",
    "        VG_11=VGroup(tex_26, tex_27, tex_28)\n",
    "        VG_11.arrange(DOWN)\n",
    "        VG_11.move_to(np.array([-4,3,0]))\n",
    "\n",
    "        self.play(Write(VG_1))\n",
    "        self.wait(1)\n",
    "        self.play(Unwrite(VG_1))\n",
    "        self.wait(1)\n",
    "        self.play(Write(VG_6))\n",
    "        self.wait(1)\n",
    "        self.play(Unwrite(VG_6))\n",
    "        self.wait(1)\n",
    "        self.play(Write(VG_7))\n",
    "        self.wait(1)\n",
    "        self.play(Unwrite(VG_7))\n",
    "        self.wait(1)\n",
    "        self.play(Write(VG_2))\n",
    "        self.wait(1)\n",
    "        self.play(Unwrite(VG_2))\n",
    "        self.wait(1)\n",
    "        self.play(Write(VG_3))\n",
    "        self.wait(1)\n",
    "        self.play(Unwrite(VG_3))\n",
    "        self.wait(1)\n",
    "        self.play(Write(VG_4))\n",
    "        self.wait(1)\n",
    "        self.play(Unwrite(VG_4))\n",
    "        self.wait(1)\n",
    "        self.play(Write(VG_5))\n",
    "        self.wait(1)\n",
    "        self.play(Unwrite(VG_5))\n",
    "        self.wait(1)\n",
    "        self.play(Write(VG_8))\n",
    "        self.wait(1)\n",
    "        self.play(Unwrite(VG_8))\n",
    "        self.wait(1)\n",
    "        self.play(Write(VG_9))\n",
    "        self.wait(1)\n",
    "        self.play(Unwrite(VG_9))\n",
    "        self.wait(1)\n",
    "        self.play(Write(VG_10))\n",
    "        self.wait(1)\n",
    "        self.play(Unwrite(VG_10))\n",
    "        self.wait(1)\n",
    "        self.play(Write(VG_11))\n",
    "        self.wait(1)\n",
    "        self.play(Unwrite(VG_11))\n",
    "        self.wait(1)"
   ]
  },
  {
   "cell_type": "code",
   "execution_count": 5,
   "metadata": {},
   "outputs": [
    {
     "data": {
      "text/html": [
       "<pre style=\"white-space:pre;overflow-x:auto;line-height:normal;font-family:Menlo,'DejaVu Sans Mono',consolas,'Courier New',monospace\">Manim Community <span style=\"color: #008000; text-decoration-color: #008000\">v0.19.0</span>\n",
       "\n",
       "</pre>\n"
      ],
      "text/plain": [
       "Manim Community \u001b[32mv0.\u001b[0m\u001b[32m19.0\u001b[0m\n",
       "\n"
      ]
     },
     "metadata": {},
     "output_type": "display_data"
    },
    {
     "name": "stderr",
     "output_type": "stream",
     "text": [
      "                                                                                                \r"
     ]
    },
    {
     "data": {
      "text/html": [
       "<video src=\"media\\jupyter\\Part2@2025-03-18@19-13-32.mp4\" controls autoplay loop style=\"max-width: 60%;\"  >\n",
       "      Your browser does not support the <code>video</code> element.\n",
       "    </video>"
      ],
      "text/plain": [
       "<IPython.core.display.Video object>"
      ]
     },
     "metadata": {},
     "output_type": "display_data"
    }
   ],
   "source": [
    "%%manim -qh -v WARNING Part2\n",
    "\n",
    "class Part2(MovingCameraScene):\n",
    "\n",
    "    def construct(self):\n",
    "        \n",
    "        time_tracker_1 = ValueTracker(3/2) \n",
    "\n",
    "        text=Text(\"සිරස් වෘත්ත චලිතය\", font=\"Noto Sans Sinhala\", weight=\"BOLD\", font_size=28).to_edge(UP*0.5)\n",
    "\n",
    "        self.play(Write(text))\n",
    "\n",
    "        radius = 2.8\n",
    "        ball_1 = Dot(color=GREEN, fill_color=GREEN).scale(3)\n",
    "\n",
    "        def get_ball_position(t):\n",
    "            angle = t * PI \n",
    "            return radius * np.array([\n",
    "                np.cos(angle),\n",
    "                np.sin(angle),\n",
    "                0\n",
    "            ])\n",
    "\n",
    "        ball_1.add_updater(\n",
    "            lambda m: m.move_to(get_ball_position(time_tracker_1.get_value()))\n",
    "        )    \n",
    "\n",
    "        self.add(ball_1.move_to(DOWN*2.8))\n",
    "        self.play(time_tracker_1.animate.set_value((15/2)), run_time=5, rate_func=rate_functions.rush_from)\n",
    "        self.play(Unwrite(text))"
   ]
  },
  {
   "cell_type": "code",
   "execution_count": 6,
   "metadata": {},
   "outputs": [
    {
     "data": {
      "text/html": [
       "<pre style=\"white-space:pre;overflow-x:auto;line-height:normal;font-family:Menlo,'DejaVu Sans Mono',consolas,'Courier New',monospace\">Manim Community <span style=\"color: #008000; text-decoration-color: #008000\">v0.19.0</span>\n",
       "\n",
       "</pre>\n"
      ],
      "text/plain": [
       "Manim Community \u001b[32mv0.\u001b[0m\u001b[32m19.0\u001b[0m\n",
       "\n"
      ]
     },
     "metadata": {},
     "output_type": "display_data"
    },
    {
     "name": "stderr",
     "output_type": "stream",
     "text": [
      "                                                                                              \r"
     ]
    },
    {
     "data": {
      "text/html": [
       "<video src=\"media\\jupyter\\Part3@2025-03-18@19-13-42.mp4\" controls autoplay loop style=\"max-width: 60%;\"  >\n",
       "      Your browser does not support the <code>video</code> element.\n",
       "    </video>"
      ],
      "text/plain": [
       "<IPython.core.display.Video object>"
      ]
     },
     "metadata": {},
     "output_type": "display_data"
    }
   ],
   "source": [
    "%%manim -qh -v WARNING Part3\n",
    "\n",
    "class Part3(Scene):\n",
    "\n",
    "    def construct(self):\n",
    "        \n",
    "        screen_1=FullScreenRectangle(stroke_width=0.01)\n",
    "        screen_1.set_fill(\n",
    "                    color=GRAY_E,\n",
    "                    opacity=1           \n",
    "                )\n",
    "        self.play(FadeIn(screen_1))\n",
    "        self.wait(1)\n",
    "\n",
    "        text_1=Text(\"ශ.ස.නි\", font=\"Noto Sans Sinhala\", weight=\"BOLD\", font_size=28, color=YELLOW).to_edge(UP*2 + LEFT*2)\n",
    "        self.add(text_1)\n",
    "        self.wait(1)\n",
    "        \n",
    "        text_2=Text(\"පෙර ශක්තිය = පසු ශක්තිය \", font=\"Noto Sans Sinhala\", weight=\"BOLD\", font_size=28, color=YELLOW).to_edge(UP*3 + LEFT*2)\n",
    "        self.add(text_2)\n",
    "        self.wait(1)\n",
    "\n",
    "        text_3=MathTex(r\"\\frac{1}{2} m u^2 = \\frac{1}{2} m v^2 + mga(1-cos(\\theta))\")\n",
    "        text_4=MathTex(r\"v^2 = u^2 - 2ga(1-cos(\\theta))\")\n",
    "        VG=VGroup(text_3,text_4).arrange(DOWN)\n",
    "        self.play(Write(VG))\n",
    "        self.wait(1)"
   ]
  },
  {
   "cell_type": "code",
   "execution_count": 7,
   "metadata": {},
   "outputs": [
    {
     "data": {
      "text/html": [
       "<pre style=\"white-space:pre;overflow-x:auto;line-height:normal;font-family:Menlo,'DejaVu Sans Mono',consolas,'Courier New',monospace\">Manim Community <span style=\"color: #008000; text-decoration-color: #008000\">v0.19.0</span>\n",
       "\n",
       "</pre>\n"
      ],
      "text/plain": [
       "Manim Community \u001b[32mv0.\u001b[0m\u001b[32m19.0\u001b[0m\n",
       "\n"
      ]
     },
     "metadata": {},
     "output_type": "display_data"
    },
    {
     "name": "stderr",
     "output_type": "stream",
     "text": [
      "                                                                                                  \r"
     ]
    },
    {
     "data": {
      "text/html": [
       "<video src=\"media\\jupyter\\Part4@2025-03-18@19-14-37.mp4\" controls autoplay loop style=\"max-width: 60%;\"  >\n",
       "      Your browser does not support the <code>video</code> element.\n",
       "    </video>"
      ],
      "text/plain": [
       "<IPython.core.display.Video object>"
      ]
     },
     "metadata": {},
     "output_type": "display_data"
    }
   ],
   "source": [
    "%%manim -qh -v WARNING Part4\n",
    "\n",
    "import numpy as np  \n",
    "\n",
    "class Part4(Scene):\n",
    "\n",
    "    def construct(self):\n",
    "\n",
    "        ball_1 = Dot(color=GREEN, fill_color=GREEN, fill_opacity=1).scale(3)\n",
    "        circle_1 = Circle(radius=2.8, color=BLUE, stroke_width=1).move_to(ORIGIN)\n",
    "        dash_1 = DashedLine(start=ORIGIN, end=DOWN * 2.8, color=BLUE, stroke_width=1)\n",
    "        text=Text(\"Radius=a\").to_edge(UP*2 + LEFT*2)\n",
    "\n",
    "        self.add(ball_1.move_to(DOWN * 2.8))\n",
    "        self.play(Create(circle_1), Create(dash_1))\n",
    "        self.add(text)\n",
    "        self.wait(1)\n",
    "\n",
    "        ball_2 = Dot(color=GREEN, fill_color=GREEN, fill_opacity=0.3).scale(3)\n",
    "        time_tracker_1 = ValueTracker(3 / 2)\n",
    "        radius = 2.8\n",
    "        def get_ball_position(t):\n",
    "            angle = t * PI\n",
    "            return radius * np.array([\n",
    "                np.cos(angle),\n",
    "                np.sin(angle),\n",
    "                0\n",
    "            ])\n",
    "\n",
    "        ball_2.add_updater(\n",
    "            lambda m: m.move_to(get_ball_position(time_tracker_1.get_value()))\n",
    "        )\n",
    "        self.add(ball_2.move_to(DOWN * 2.8))\n",
    "        self.wait(1)\n",
    "\n",
    "        dash_2 = always_redraw(lambda: DashedLine(start=ORIGIN, end=ball_2.get_center() + np.array([0.01, 0.01, 0]), color=BLUE, stroke_width=1.2))\n",
    "        angle_1 = always_redraw(lambda: Angle(dash_1, dash_2, radius=0.5))\n",
    "        label_1 = always_redraw(lambda: MathTex(r\"\\theta\", font_size=24).next_to(angle_1, DOWN))\n",
    "\n",
    "        self.add(dash_2)\n",
    "        self.add(angle_1)\n",
    "        self.add(label_1)\n",
    "        self.play(time_tracker_1.animate.set_value((1.75)), run_time=3, rate_func=rate_functions.rush_from)\n",
    "        self.wait(1)\n",
    "\n",
    "        line_1 = always_redraw(lambda: DashedLine(start=ball_2.get_center(), end=ball_2.get_center() * np.array([2.5, 1, 0])))\n",
    "        line_2 = DashedLine(start=np.array([-5, -2.8, 0]), end=np.array([5, -2.8, 0]))\n",
    "\n",
    "        self.play(Create(line_1))\n",
    "        self.play(Create(line_2))\n",
    "        self.wait(1)\n",
    "\n",
    "        brace = always_redraw(lambda: BraceBetweenPoints(line_2.get_end(), line_1.get_end() , buff=0.3))\n",
    "        brace_label=MathTex(r\"a(1-cos(\\theta))\", font_size=21 ).next_to(brace)\n",
    "        self.play(Create(brace))\n",
    "        self.play(Create(brace_label))\n",
    "        self.wait(1)"
   ]
  },
  {
   "cell_type": "code",
   "execution_count": 8,
   "metadata": {},
   "outputs": [
    {
     "data": {
      "text/html": [
       "<pre style=\"white-space:pre;overflow-x:auto;line-height:normal;font-family:Menlo,'DejaVu Sans Mono',consolas,'Courier New',monospace\">Manim Community <span style=\"color: #008000; text-decoration-color: #008000\">v0.19.0</span>\n",
       "\n",
       "</pre>\n"
      ],
      "text/plain": [
       "Manim Community \u001b[32mv0.\u001b[0m\u001b[32m19.0\u001b[0m\n",
       "\n"
      ]
     },
     "metadata": {},
     "output_type": "display_data"
    },
    {
     "name": "stderr",
     "output_type": "stream",
     "text": [
      "                                                                                              \r"
     ]
    },
    {
     "data": {
      "text/html": [
       "<video src=\"media\\jupyter\\Part5@2025-03-18@19-15-26.mp4\" controls autoplay loop style=\"max-width: 60%;\"  >\n",
       "      Your browser does not support the <code>video</code> element.\n",
       "    </video>"
      ],
      "text/plain": [
       "<IPython.core.display.Video object>"
      ]
     },
     "metadata": {},
     "output_type": "display_data"
    }
   ],
   "source": [
    "%%manim -qh -v WARNING Part5\n",
    "\n",
    "class Part5(Scene):\n",
    "\n",
    "    def construct(self):\n",
    "\n",
    "        ball_1 = Dot(color=GREEN, fill_color=GREEN, fill_opacity=1).scale(3)\n",
    "        circle_1 = Circle(radius=2.8, color=BLUE, stroke_width=1).move_to(ORIGIN)\n",
    "        dash_1 = DashedLine(start=ORIGIN, end=DOWN * 2.8, color=BLUE, stroke_width=1)\n",
    "\n",
    "        self.add(ball_1.move_to(DOWN * 2.8))\n",
    "        self.play(Create(circle_1), Create(dash_1))\n",
    "        self.wait(1)\n",
    "\n",
    "        ball_2 = Dot(color=GREEN, fill_color=GREEN, fill_opacity=0.3).scale(3)\n",
    "        time_tracker_1 = ValueTracker(3 / 2)\n",
    "        radius = 2.8\n",
    "        def get_ball_position(t):\n",
    "            angle = t * PI\n",
    "            return radius * np.array([\n",
    "                np.cos(angle),\n",
    "                np.sin(angle),\n",
    "                0\n",
    "            ])\n",
    "\n",
    "        ball_2.add_updater(\n",
    "            lambda m: m.move_to(get_ball_position(time_tracker_1.get_value()))\n",
    "        )\n",
    "        self.add(ball_2.move_to(DOWN * 2.8))\n",
    "        self.wait(1)\n",
    "\n",
    "        dash_2 = always_redraw(lambda: DashedLine(start=ORIGIN, end=ball_2.get_center() + np.array([0.01, 0.01, 0]), color=BLUE, stroke_width=1.2))\n",
    "        angle_1 = always_redraw(lambda: Angle(dash_1, dash_2, radius=0.5))\n",
    "        label_1 = always_redraw(lambda: MathTex(r\"\\theta\", font_size=24).next_to(angle_1, DOWN))\n",
    "\n",
    "        self.add(dash_2)\n",
    "        self.add(angle_1)\n",
    "        self.add(label_1)\n",
    "        self.play(time_tracker_1.animate.set_value((2.25)), run_time=3, rate_func=rate_functions.rush_from)\n",
    "        self.wait(1)\n",
    "\n",
    "        line_1 = always_redraw(lambda: DashedLine(start=ball_2.get_center(), end=ball_2.get_center() * np.array([2.5, 1, 0])))\n",
    "        line_2 = DashedLine(start=np.array([-5,-2.8, 0]), end=np.array([5, -2.8, 0]))\n",
    "\n",
    "        self.play(Create(line_1))\n",
    "        self.play(Create(line_2))\n",
    "        self.wait(1)\n",
    "\n",
    "        brace = always_redraw(lambda: BraceBetweenPoints(line_2.get_end(), line_1.get_end() , buff=0.5))\n",
    "        brace_label=Text(\"h\", font_size=14 ,font=\"Arial\").next_to(brace)\n",
    "        self.play(Create(brace))\n",
    "        self.play(Create(brace_label))\n",
    "        self.wait(1)"
   ]
  },
  {
   "cell_type": "code",
   "execution_count": 9,
   "metadata": {},
   "outputs": [
    {
     "data": {
      "text/html": [
       "<pre style=\"white-space:pre;overflow-x:auto;line-height:normal;font-family:Menlo,'DejaVu Sans Mono',consolas,'Courier New',monospace\">Manim Community <span style=\"color: #008000; text-decoration-color: #008000\">v0.19.0</span>\n",
       "\n",
       "</pre>\n"
      ],
      "text/plain": [
       "Manim Community \u001b[32mv0.\u001b[0m\u001b[32m19.0\u001b[0m\n",
       "\n"
      ]
     },
     "metadata": {},
     "output_type": "display_data"
    },
    {
     "name": "stderr",
     "output_type": "stream",
     "text": [
      "                                                                                              \r"
     ]
    },
    {
     "data": {
      "text/html": [
       "<video src=\"media\\jupyter\\Part6@2025-03-18@19-16-16.mp4\" controls autoplay loop style=\"max-width: 60%;\"  >\n",
       "      Your browser does not support the <code>video</code> element.\n",
       "    </video>"
      ],
      "text/plain": [
       "<IPython.core.display.Video object>"
      ]
     },
     "metadata": {},
     "output_type": "display_data"
    }
   ],
   "source": [
    "%%manim -qh -v WARNING Part6\n",
    "\n",
    "class Part6(Scene):\n",
    "\n",
    "    def construct(self):\n",
    "\n",
    "        ball_1 = Dot(color=GREEN, fill_color=GREEN, fill_opacity=1).scale(3)\n",
    "        circle_1 = Circle(radius=2.8, color=BLUE, stroke_width=1).move_to(ORIGIN)\n",
    "        dash_1 = DashedLine(start=ORIGIN, end=DOWN * 2.8, color=BLUE, stroke_width=1)\n",
    "        dash_3 = DashedLine(start=ORIGIN, end=UP * 2.8, color=BLUE, stroke_width=1)\n",
    "\n",
    "        self.add(ball_1.move_to(UP* 2.8))\n",
    "        self.play(Create(circle_1), Create(dash_1), Create(dash_3))\n",
    "        self.wait(1)\n",
    "\n",
    "        ball_2 = Dot(color=GREEN, fill_color=GREEN, fill_opacity=0.3).scale(3)\n",
    "        time_tracker_1 = ValueTracker(1 / 2)\n",
    "        radius = 2.8\n",
    "        def get_ball_position(t):\n",
    "            angle = t * PI\n",
    "            return radius * np.array([\n",
    "                np.cos(angle),\n",
    "                np.sin(angle),\n",
    "                0\n",
    "            ])\n",
    "\n",
    "        ball_2.add_updater(\n",
    "            lambda m: m.move_to(get_ball_position(time_tracker_1.get_value()))\n",
    "        )\n",
    "        self.add(ball_2.move_to(UP * 2.8))\n",
    "        self.wait(1)\n",
    "\n",
    "        dash_2 = always_redraw(lambda: DashedLine(start=ORIGIN, end=ball_2.get_center() + np.array([0.01, 0.01, 0]), color=BLUE, stroke_width=1.2))\n",
    "        angle_1 = always_redraw(lambda: Angle(dash_2, dash_3, radius=0.5))\n",
    "        label_1 = always_redraw(lambda: MathTex(r\"\\theta\", font_size=24).next_to(angle_1, RIGHT))\n",
    "\n",
    "        self.add(dash_2)\n",
    "        self.add(angle_1)\n",
    "        self.add(label_1)\n",
    "        self.play(time_tracker_1.animate.set_value((-0.25)), run_time=3, rate_func=rate_functions.rush_from)\n",
    "        self.wait(1) \n",
    "        \n",
    "        line_1 = always_redraw(lambda: DashedLine(start=ball_2.get_center(), end=ball_2.get_center() * np.array([2.5, 1, 0])))\n",
    "        line_2 = DashedLine(start=np.array([-5, 2.8, 0]), end=np.array([5, 2.8, 0]))\n",
    "\n",
    "        self.play(Create(line_1))\n",
    "        self.play(Create(line_2))\n",
    "        self.wait(1)\n",
    "\n",
    "        brace = always_redraw(lambda: BraceBetweenPoints(line_1.get_end(), line_2.get_end() , buff=0.5))\n",
    "        brace_label=Text(\"h\", font_size=14 ,font=\"Arial\").next_to(brace)\n",
    "        self.play(Create(brace))\n",
    "        self.play(Create(brace_label))\n",
    "        self.wait(1)"
   ]
  },
  {
   "cell_type": "code",
   "execution_count": 10,
   "metadata": {},
   "outputs": [
    {
     "data": {
      "text/html": [
       "<pre style=\"white-space:pre;overflow-x:auto;line-height:normal;font-family:Menlo,'DejaVu Sans Mono',consolas,'Courier New',monospace\">Manim Community <span style=\"color: #008000; text-decoration-color: #008000\">v0.19.0</span>\n",
       "\n",
       "</pre>\n"
      ],
      "text/plain": [
       "Manim Community \u001b[32mv0.\u001b[0m\u001b[32m19.0\u001b[0m\n",
       "\n"
      ]
     },
     "metadata": {},
     "output_type": "display_data"
    },
    {
     "name": "stderr",
     "output_type": "stream",
     "text": [
      "                                                                                              \r"
     ]
    },
    {
     "data": {
      "text/html": [
       "<video src=\"media\\jupyter\\Part7@2025-03-18@19-17-09.mp4\" controls autoplay loop style=\"max-width: 60%;\"  >\n",
       "      Your browser does not support the <code>video</code> element.\n",
       "    </video>"
      ],
      "text/plain": [
       "<IPython.core.display.Video object>"
      ]
     },
     "metadata": {},
     "output_type": "display_data"
    }
   ],
   "source": [
    "%%manim -qh -v WARNING Part7\n",
    "\n",
    "class Part7(Scene):\n",
    "\n",
    "    def construct(self):\n",
    "\n",
    "        ball_1 = Dot(color=GREEN, fill_color=GREEN, fill_opacity=1).scale(3)\n",
    "        circle_1 = Circle(radius=2.8, color=BLUE, stroke_width=1).move_to(ORIGIN)\n",
    "        dash_1 = DashedLine(start=ORIGIN, end=DOWN * 2.8, color=BLUE, stroke_width=1)\n",
    "        dash_3 = DashedLine(start=ORIGIN, end=UP * 2.8, color=BLUE, stroke_width=1)\n",
    "\n",
    "        self.add(ball_1.move_to(UP* 2.8))\n",
    "        self.play(Create(circle_1), Create(dash_1), Create(dash_3))\n",
    "        self.wait(1)\n",
    "\n",
    "        ball_2 = Dot(color=GREEN, fill_color=GREEN, fill_opacity=0.3).scale(3)\n",
    "        time_tracker_1 = ValueTracker(1 / 2)\n",
    "        radius = 2.8\n",
    "        def get_ball_position(t):\n",
    "            angle = t * PI\n",
    "            return radius * np.array([\n",
    "                np.cos(angle),\n",
    "                np.sin(angle),\n",
    "                0\n",
    "            ])\n",
    "\n",
    "        ball_2.add_updater(\n",
    "            lambda m: m.move_to(get_ball_position(time_tracker_1.get_value()))\n",
    "        )\n",
    "        self.add(ball_2.move_to(UP * 2.8))\n",
    "        self.wait(1)\n",
    "\n",
    "        dash_2 = always_redraw(lambda: DashedLine(start=ORIGIN, end=ball_2.get_center() + np.array([0.01, 0.01, 0]), color=BLUE, stroke_width=1.2))\n",
    "        angle_1 = always_redraw(lambda: Angle(dash_2, dash_3, radius=0.5))\n",
    "        label_1 = always_redraw(lambda: MathTex(r\"\\theta\", font_size=24).next_to(angle_1, UP))\n",
    "\n",
    "        self.add(dash_2)\n",
    "        self.add(angle_1)\n",
    "        self.add(label_1)\n",
    "        self.play(time_tracker_1.animate.set_value((0.25)), run_time=3, rate_func=rate_functions.rush_from)\n",
    "        self.wait(1) \n",
    "        \n",
    "        line_1 = always_redraw(lambda: DashedLine(start=ball_2.get_center(), end=ball_2.get_center() * np.array([2.5, 1, 0])))\n",
    "        line_2 = DashedLine(start=np.array([-5, 2.8, 0]), end=np.array([5, 2.8, 0]))\n",
    "\n",
    "        self.play(Create(line_1))\n",
    "        self.play(Create(line_2))\n",
    "        self.wait(1)\n",
    "\n",
    "        brace = always_redraw(lambda: BraceBetweenPoints(line_1.get_end(), line_2.get_end() , buff=0.5))\n",
    "        brace_label=Text(\"h\", font_size=14 ,font=\"Arial\").next_to(brace)\n",
    "        self.play(Create(brace))\n",
    "        self.play(Create(brace_label))\n",
    "        self.wait(1)"
   ]
  },
  {
   "cell_type": "code",
   "execution_count": 11,
   "metadata": {},
   "outputs": [
    {
     "data": {
      "text/html": [
       "<pre style=\"white-space:pre;overflow-x:auto;line-height:normal;font-family:Menlo,'DejaVu Sans Mono',consolas,'Courier New',monospace\">Manim Community <span style=\"color: #008000; text-decoration-color: #008000\">v0.19.0</span>\n",
       "\n",
       "</pre>\n"
      ],
      "text/plain": [
       "Manim Community \u001b[32mv0.\u001b[0m\u001b[32m19.0\u001b[0m\n",
       "\n"
      ]
     },
     "metadata": {},
     "output_type": "display_data"
    },
    {
     "name": "stderr",
     "output_type": "stream",
     "text": [
      "                                                                                              \r"
     ]
    },
    {
     "data": {
      "text/html": [
       "<video src=\"media\\jupyter\\Part8@2025-03-18@19-17-25.mp4\" controls autoplay loop style=\"max-width: 60%;\"  >\n",
       "      Your browser does not support the <code>video</code> element.\n",
       "    </video>"
      ],
      "text/plain": [
       "<IPython.core.display.Video object>"
      ]
     },
     "metadata": {},
     "output_type": "display_data"
    }
   ],
   "source": [
    "%%manim -qh -v WARNING Part8\n",
    "\n",
    "class Part8(Scene):\n",
    "\n",
    "    def construct(self):\n",
    "        \n",
    "        screen_1=FullScreenRectangle(stroke_width=0.01)\n",
    "        screen_1.set_fill(\n",
    "                    color=GRAY_E,\n",
    "                    opacity=1           \n",
    "                )\n",
    "        self.play(FadeIn(screen_1))\n",
    "        self.wait(1)\n",
    "\n",
    "        text_1=Text(\" ස්පර්ශකයට ලම්භකව කේන්ද්‍රය දෙසට;\", font=\"Noto Sans Sinhala\", weight=\"BOLD\", font_size=28, color=YELLOW).to_edge(UP*2 + LEFT*2)\n",
    "        self.add(text_1)\n",
    "        self.wait(1)\n",
    "        \n",
    "        text_2=Text(\"F=ma යෙදීම \", font=\"Noto Sans Sinhala\", weight=\"BOLD\", font_size=28, color=YELLOW).to_edge(UP*3 + LEFT*2)\n",
    "        self.add(text_2)\n",
    "        self.wait(1)\n",
    "\n",
    "        text_3=MathTex(r\"R-mgcos(\\theta) = m \\frac{v^2}{a}\")\n",
    "        text_4=MathTex(r\"R-mgcos(\\theta) = \\frac{m}{a} [U^2-2ga(1-cos(\\theta))]\")\n",
    "        text_5=MathTex(r\"R= \\frac{mu^2}{a} + mg(3cos(\\theta)-1)\")\n",
    "        VG=VGroup(text_3,text_4,text_5).arrange(DOWN)\n",
    "        self.play(Write(VG))\n",
    "        self.wait(1)"
   ]
  },
  {
   "cell_type": "code",
   "execution_count": 95,
   "metadata": {},
   "outputs": [
    {
     "data": {
      "text/html": [
       "<pre style=\"white-space:pre;overflow-x:auto;line-height:normal;font-family:Menlo,'DejaVu Sans Mono',consolas,'Courier New',monospace\">Manim Community <span style=\"color: #008000; text-decoration-color: #008000\">v0.19.0</span>\n",
       "\n",
       "</pre>\n"
      ],
      "text/plain": [
       "Manim Community \u001b[32mv0.\u001b[0m\u001b[32m19.0\u001b[0m\n",
       "\n"
      ]
     },
     "metadata": {},
     "output_type": "display_data"
    },
    {
     "name": "stderr",
     "output_type": "stream",
     "text": [
      "                                                                                  \r"
     ]
    },
    {
     "data": {
      "text/html": [
       "<video src=\"media\\jupyter\\Part9@2025-03-21@12-07-50.mp4\" controls autoplay loop style=\"max-width: 60%;\"  >\n",
       "      Your browser does not support the <code>video</code> element.\n",
       "    </video>"
      ],
      "text/plain": [
       "<IPython.core.display.Video object>"
      ]
     },
     "metadata": {},
     "output_type": "display_data"
    }
   ],
   "source": [
    "%%manim -qh -v WARNING Part9\n",
    "\n",
    "class Part9(Scene):\n",
    "\n",
    "    def construct(self):\n",
    "        \n",
    "        screen_1=FullScreenRectangle(stroke_width=0.01)\n",
    "        screen_1.set_fill(\n",
    "                    color=\"#1D2545\",\n",
    "                    opacity=1           \n",
    "                )\n",
    "        self.play(FadeIn(screen_1))\n",
    "        self.wait(1)\n",
    "\n",
    "        text_1=Text(\" Case 1\", font=\"Noto Sans Sinhala\", weight=\"BOLD\", font_size=28, color=YELLOW).to_edge(UP*2 + LEFT*2)\n",
    "        self.play(Write(text_1))\n",
    "\n",
    "        text_2=MathTex(r\"0< \\theta <\\frac{\\pi}{2}\", font_size=28, color=WHITE)\n",
    "        text_3=Text(\"කලාපයේ දීී  වෘත චලිතය අවසන්  වුවහොත්  එම අවසන්  මොහොතේ  දී ලක්ෂණ \", font=\"Noto Sans Sinhala\", font_size=21, color=WHITE)\n",
    "        VG=VGroup(text_2,text_3)\n",
    "        VG.arrange(RIGHT)\n",
    "        VG.to_edge(UP*5)\n",
    "        self.play(Write(VG))\n",
    "        self.wait(1)\n",
    "\n",
    "        text_4=MathTex(r\"R \\neq 0\", font_size=35, color=MAROON)\n",
    "        text_5=MathTex(r\"V=0\", font_size=35, color=MAROON)\n",
    "        VG_1=VGroup(text_4,text_5)\n",
    "        VG_1.arrange(DOWN)\n",
    "        VG_1.to_edge(UP*8)\n",
    "        self.play(Write(VG_1))\n",
    "        self.wait(1)\n",
    "\n",
    "        screen_2=FullScreenRectangle(stroke_width=0.01)\n",
    "        screen_2.set_fill(\n",
    "                    color=\"#1D2545\",\n",
    "                    opacity=1           \n",
    "                )\n",
    "        self.play(FadeIn(screen_2))\n",
    "        self.wait(1)"
   ]
  },
  {
   "cell_type": "code",
   "execution_count": 3,
   "metadata": {},
   "outputs": [
    {
     "data": {
      "text/html": [
       "<pre style=\"white-space:pre;overflow-x:auto;line-height:normal;font-family:Menlo,'DejaVu Sans Mono',consolas,'Courier New',monospace\">Manim Community <span style=\"color: #008000; text-decoration-color: #008000\">v0.19.0</span>\n",
       "\n",
       "</pre>\n"
      ],
      "text/plain": [
       "Manim Community \u001b[32mv0.\u001b[0m\u001b[32m19.0\u001b[0m\n",
       "\n"
      ]
     },
     "metadata": {},
     "output_type": "display_data"
    },
    {
     "name": "stderr",
     "output_type": "stream",
     "text": [
      "                                                                                  \r"
     ]
    },
    {
     "data": {
      "text/html": [
       "<video src=\"media\\jupyter\\Part10@2025-03-18@21-28-20.mp4\" controls autoplay loop style=\"max-width: 60%;\"  >\n",
       "      Your browser does not support the <code>video</code> element.\n",
       "    </video>"
      ],
      "text/plain": [
       "<IPython.core.display.Video object>"
      ]
     },
     "metadata": {},
     "output_type": "display_data"
    }
   ],
   "source": [
    "%%manim -qh -v WARNING Part10\n",
    "\n",
    "class Part10(Scene):\n",
    "\n",
    "    def construct(self):\n",
    "        \n",
    "        screen_1=FullScreenRectangle(stroke_width=0.01)\n",
    "        screen_1.set_fill(\n",
    "                    color=\"#1D2545\",\n",
    "                    opacity=1           \n",
    "                )\n",
    "        self.play(FadeIn(screen_1))\n",
    "        self.wait(1)\n",
    "\n",
    "        text_1=Text(\" Case 2\", font=\"Noto Sans Sinhala\", weight=\"BOLD\", font_size=28, color=YELLOW).to_edge(UP*2 + LEFT*2)\n",
    "        self.play(Write(text_1))\n",
    "\n",
    "        text_2=MathTex(r\"\\frac{\\pi}{2}< \\theta <\\pi\", font_size=28, color=WHITE)\n",
    "        text_3=Text(\"කලාපයේ දීී  වෘත චලිතය අවසන්  වුවහොත්  එම අවසන්  මොහොතේ  දී ලක්ෂණ \", font=\"Noto Sans Sinhala\", font_size=21, color=WHITE)\n",
    "        VG=VGroup(text_2,text_3)\n",
    "        VG.arrange(RIGHT)\n",
    "        VG.to_edge(UP*5)\n",
    "        self.play(Write(VG))\n",
    "        self.wait(1)\n",
    "\n",
    "        text_4=MathTex(r\"R = 0\", font_size=35, color=MAROON)\n",
    "        text_5=MathTex(r\"V \\neq 0\", font_size=35, color=MAROON)\n",
    "        VG_1=VGroup(text_4,text_5)\n",
    "        VG_1.arrange(DOWN)\n",
    "        VG_1.to_edge(UP*8)\n",
    "        self.play(Write(VG_1))\n",
    "        self.wait(1)\n",
    "\n",
    "        screen_2=FullScreenRectangle(stroke_width=0.01)\n",
    "        screen_2.set_fill(\n",
    "                    color=\"#1D2545\",\n",
    "                    opacity=1           \n",
    "                )\n",
    "        self.play(FadeIn(screen_2))\n",
    "        self.wait(1)"
   ]
  },
  {
   "cell_type": "code",
   "execution_count": 4,
   "metadata": {},
   "outputs": [
    {
     "data": {
      "text/html": [
       "<pre style=\"white-space:pre;overflow-x:auto;line-height:normal;font-family:Menlo,'DejaVu Sans Mono',consolas,'Courier New',monospace\">Manim Community <span style=\"color: #008000; text-decoration-color: #008000\">v0.19.0</span>\n",
       "\n",
       "</pre>\n"
      ],
      "text/plain": [
       "Manim Community \u001b[32mv0.\u001b[0m\u001b[32m19.0\u001b[0m\n",
       "\n"
      ]
     },
     "metadata": {},
     "output_type": "display_data"
    },
    {
     "name": "stderr",
     "output_type": "stream",
     "text": [
      "                                                                                              \r"
     ]
    },
    {
     "data": {
      "text/html": [
       "<video src=\"media\\jupyter\\Part11@2025-03-18@21-28-40.mp4\" controls autoplay loop style=\"max-width: 60%;\"  >\n",
       "      Your browser does not support the <code>video</code> element.\n",
       "    </video>"
      ],
      "text/plain": [
       "<IPython.core.display.Video object>"
      ]
     },
     "metadata": {},
     "output_type": "display_data"
    }
   ],
   "source": [
    "%%manim -qh -v WARNING Part11\n",
    "\n",
    "class Part11(Scene):\n",
    "\n",
    "    def construct(self):\n",
    "        \n",
    "        screen_1=FullScreenRectangle(stroke_width=0.01)\n",
    "        screen_1.set_fill(\n",
    "                    color=\"#1D2545\",\n",
    "                    opacity=1           \n",
    "                )\n",
    "        self.play(FadeIn(screen_1))\n",
    "        self.wait(1)\n",
    "\n",
    "        text=MathTex(r\"In\\;Case\\;1\\;when\\; \\theta = \\alpha\", font_size=28, color=WHITE)\n",
    "        text_1=MathTex(r\"0 = u^2 - 2ga[1-cos(\\alpha)]\", font_size=28, color=WHITE)\n",
    "        text_2=MathTex(r\"2ga - u^2 = 2gacos(\\alpha)\", font_size=28, color=WHITE)\n",
    "        text_3=MathTex(r\"cos(\\alpha) = \\frac{2ga-u^2}{2ga}\", font_size=28, color=WHITE)\n",
    "        text_4=MathTex(r\"0<\\alpha<\\frac{\\pi}{2}\", font_size=28, color=WHITE)\n",
    "        text_5=MathTex(r\"1>cos(\\alpha)>0\", font_size=28, color=WHITE)\n",
    "        text_6=MathTex(r\"1>\\frac{2ga-u^2}{2ga}>0\", font_size=28, color=WHITE)\n",
    "        text_7=MathTex(r\"2ga>2ga- u^2>0\", font_size=28, color=WHITE)\n",
    "        text_8=MathTex(r\"0>-u^2>-2ga\", font_size=28, color=WHITE)\n",
    "        text_9=MathTex(r\"0<u^2<2ga\", font_size=28, color=WHITE)\n",
    "        text_10=MathTex(r\"0<u^2<\\sqrt{2ga}\", font_size=28, color=WHITE)\n",
    "\n",
    "        VG_1=VGroup(text,text_1,text_2,text_3)\n",
    "        VG_1.arrange(DOWN)\n",
    "        VG_1.to_edge(UP)\n",
    "        self.play(Write(VG_1))\n",
    "        self.wait(1)\n",
    "\n",
    "        VG_2=VGroup(text_4,text_5,text_6,text_7,text_8,text_9,text_10)\n",
    "        VG_2.arrange(DOWN)\n",
    "        VG_2.to_edge(DOWN)\n",
    "        self.play(Write(VG_2))\n",
    "        self.wait(1)\n"
   ]
  },
  {
   "cell_type": "code",
   "execution_count": 2,
   "metadata": {},
   "outputs": [
    {
     "data": {
      "text/html": [
       "<pre style=\"white-space:pre;overflow-x:auto;line-height:normal;font-family:Menlo,'DejaVu Sans Mono',consolas,'Courier New',monospace\">Manim Community <span style=\"color: #008000; text-decoration-color: #008000\">v0.19.0</span>\n",
       "\n",
       "</pre>\n"
      ],
      "text/plain": [
       "Manim Community \u001b[32mv0.\u001b[0m\u001b[32m19.0\u001b[0m\n",
       "\n"
      ]
     },
     "metadata": {},
     "output_type": "display_data"
    },
    {
     "name": "stderr",
     "output_type": "stream",
     "text": [
      "                                                                                  \r"
     ]
    },
    {
     "data": {
      "text/html": [
       "<video src=\"media\\jupyter\\Part12@2025-03-19@16-44-17.mp4\" controls autoplay loop style=\"max-width: 60%;\"  >\n",
       "      Your browser does not support the <code>video</code> element.\n",
       "    </video>"
      ],
      "text/plain": [
       "<IPython.core.display.Video object>"
      ]
     },
     "metadata": {},
     "output_type": "display_data"
    }
   ],
   "source": [
    "%%manim -qh -v WARNING Part12\n",
    "\n",
    "class Part12(Scene):\n",
    "\n",
    "    def construct(self):\n",
    "        \n",
    "        screen_1=FullScreenRectangle(stroke_width=0.01)\n",
    "        screen_1.set_fill(\n",
    "                    color=\"#1D2545\",\n",
    "                    opacity=1           \n",
    "                )\n",
    "        self.play(FadeIn(screen_1))\n",
    "        self.wait(1)\n",
    "\n",
    "        text=MathTex(r\"In\\;Case\\;2\\;when\\; \\theta = \\beta\", font_size=28, color=WHITE)\n",
    "        text_1=MathTex(r\"0 = \\frac{mu^2}{a} + mg[3cos(\\beta)-2]\", font_size=28, color=WHITE)\n",
    "        text_2=MathTex(r\"cos(\\beta) = \\frac{2ga-u^2}{3ga}\", font_size=28, color=WHITE)\n",
    "        text_3=MathTex(r\"\\frac{\\pi}{2}<\\beta<\\pi\", font_size=28, color=WHITE)\n",
    "        text_4=MathTex(r\"0>cos(\\beta)>-1\", font_size=28, color=WHITE)\n",
    "        text_5=MathTex(r\"0>\\frac{2ga-U^2}{3ga}>-1\", font_size=28, color=WHITE)\n",
    "        text_6=MathTex(r\"0>2ga-u^2>-3ga\", font_size=28, color=WHITE)\n",
    "        text_7=MathTex(r\"o<u^2-2ga<3ga\", font_size=28, color=WHITE)\n",
    "        text_8=MathTex(r\"2ga<u^2<5ga\", font_size=28, color=WHITE)\n",
    "        text_9=MathTex(r\"\\sqrt{2ga}<u<\\sqrt{5ga}\", font_size=28, color=WHITE)\n",
    "\n",
    "        VG_1=VGroup(text,text_1,text_2,text_3)\n",
    "        VG_1.arrange(DOWN)\n",
    "        VG_1.to_edge(UP)\n",
    "        self.play(Write(VG_1))\n",
    "        self.wait(1)\n",
    "\n",
    "        VG_2=VGroup(text_4,text_5,text_6,text_7,text_8,text_9)\n",
    "        VG_2.arrange(DOWN)\n",
    "        VG_2.to_edge(DOWN)\n",
    "        self.play(Write(VG_2))\n",
    "        self.wait(1)\n"
   ]
  },
  {
   "cell_type": "code",
   "execution_count": 89,
   "metadata": {},
   "outputs": [
    {
     "data": {
      "text/html": [
       "<pre style=\"white-space:pre;overflow-x:auto;line-height:normal;font-family:Menlo,'DejaVu Sans Mono',consolas,'Courier New',monospace\">Manim Community <span style=\"color: #008000; text-decoration-color: #008000\">v0.19.0</span>\n",
       "\n",
       "</pre>\n"
      ],
      "text/plain": [
       "Manim Community \u001b[32mv0.\u001b[0m\u001b[32m19.0\u001b[0m\n",
       "\n"
      ]
     },
     "metadata": {},
     "output_type": "display_data"
    },
    {
     "name": "stderr",
     "output_type": "stream",
     "text": [
      "                                                                                \r"
     ]
    },
    {
     "data": {
      "text/html": [
       "<video src=\"media\\jupyter\\Part13@2025-03-20@17-52-28.mp4\" controls autoplay loop style=\"max-width: 60%;\"  >\n",
       "      Your browser does not support the <code>video</code> element.\n",
       "    </video>"
      ],
      "text/plain": [
       "<IPython.core.display.Video object>"
      ]
     },
     "metadata": {},
     "output_type": "display_data"
    }
   ],
   "source": [
    "%%manim -qh -v WARNING Part13\n",
    "\n",
    "class Part13(Scene):\n",
    "\n",
    "    def construct(self):\n",
    "\n",
    "        image = ImageMobject(\"CropedQuestion.png\").scale(1.25)\n",
    "        \n",
    "        image.move_to(ORIGIN) \n",
    "             \n",
    "        self.play(FadeIn(image))\n",
    "        self.wait(5)\n"
   ]
  },
  {
   "cell_type": "code",
   "execution_count": 55,
   "metadata": {},
   "outputs": [
    {
     "data": {
      "text/html": [
       "<pre style=\"white-space:pre;overflow-x:auto;line-height:normal;font-family:Menlo,'DejaVu Sans Mono',consolas,'Courier New',monospace\">Manim Community <span style=\"color: #008000; text-decoration-color: #008000\">v0.19.0</span>\n",
       "\n",
       "</pre>\n"
      ],
      "text/plain": [
       "Manim Community \u001b[32mv0.\u001b[0m\u001b[32m19.0\u001b[0m\n",
       "\n"
      ]
     },
     "metadata": {},
     "output_type": "display_data"
    },
    {
     "name": "stderr",
     "output_type": "stream",
     "text": [
      "                                                                                  \r"
     ]
    },
    {
     "data": {
      "text/html": [
       "<video src=\"media\\jupyter\\Part14@2025-03-20@20-00-11.mp4\" controls autoplay loop style=\"max-width: 60%;\"  >\n",
       "      Your browser does not support the <code>video</code> element.\n",
       "    </video>"
      ],
      "text/plain": [
       "<IPython.core.display.Video object>"
      ]
     },
     "metadata": {},
     "output_type": "display_data"
    }
   ],
   "source": [
    "%%manim -qh -v WARNING Part14\n",
    "\n",
    "class Part14(Scene):\n",
    "\n",
    "    def construct(self):\n",
    "\n",
    "        ax1= NumberPlane(\n",
    "        x_range=[-8, 8, 0.5],\n",
    "        y_range=[-4, 4, 0.5],\n",
    "        axis_config={\"include_numbers\": False},\n",
    "        background_line_style={\n",
    "            \"stroke_color\": BLUE,\n",
    "            \"stroke_width\": 0.1,\n",
    "            \"stroke_opacity\": 0.1\n",
    "        }\n",
    "        )\n",
    "        ax2= NumberPlane(\n",
    "        x_range=[-8, 8, 1],\n",
    "        y_range=[-4, 4, 1],\n",
    "        axis_config={\"include_numbers\": False},\n",
    "        background_line_style={\n",
    "            \"stroke_color\": BLUE,\n",
    "            \"stroke_width\": 0.1,\n",
    "            \"stroke_opacity\":0.1\n",
    "        }\n",
    "        ).add_coordinates()\n",
    "        #self.add(ax1,ax2)\n",
    "\n",
    "        def positioning():\n",
    "            radius=3.25\n",
    "            angle = 3/4 * PI\n",
    "            return radius * np.array([\n",
    "                np.cos(angle),\n",
    "                np.sin(angle),\n",
    "                0\n",
    "            ])\n",
    "\n",
    "        arc_1 = Arc(radius=3, start_angle=PI/2, angle=PI / 2, color=BLUE)\n",
    "        self.add(arc_1)\n",
    "        cir_1=Circle(radius=0.5, fill_color=WHITE, color=WHITE, fill_opacity=1).move_to(np.array([0,3,0]))\n",
    "        self.add(cir_1)\n",
    "        ball_1=Circle(radius=0.25, fill_color=WHITE, fill_opacity=1, color=WHITE).move_to(positioning())\n",
    "        self.add(ball_1)\n",
    "        ball_2=Circle(radius=0.25, fill_color=WHITE, fill_opacity=1, color=WHITE).move_to(np.array([0.5,2,0]))\n",
    "        self.add(ball_2)\n",
    "        line_1=Line(start=cir_1.point_at_angle(0), end=ball_2.get_center(), color=WHITE)\n",
    "        self.add(line_1)\n",
    "        arc_1=Arc(radius=3.25, start_angle=PI/2, angle=PI/4)\n",
    "        self.add(arc_1)\n",
    "        dash_1=DashedLine(start=cir_1.get_center(), end=ORIGIN)\n",
    "        self.add(dash_1)\n",
    "        dash_2=DashedLine(start=ball_1.get_center(), end=ORIGIN)\n",
    "        self.add(dash_2)\n",
    "        dash_3=DashedLine(start=np.array([-3,0,0]), end=ORIGIN)\n",
    "        self.add(dash_3)\n",
    "        arc_2 = Arc(radius=1, start_angle=3*PI/4, angle=PI / 4, color=BLUE)\n",
    "        self.add(arc_2)\n",
    "        tex_1=Text(\"A\",color=YELLOW).move_to(cir_1.get_center())\n",
    "        self.add(tex_1)\n",
    "        tex_2=Text(\"P\",color=YELLOW).next_to(ball_1, LEFT)\n",
    "        self.add(tex_2)\n",
    "        tex_3=Text(\"Q\",color=YELLOW).next_to(ball_2, RIGHT)\n",
    "        self.add(tex_3)        \n",
    "        tex_4=Text(\"B\",color=YELLOW).next_to(dash_3.get_start(), LEFT)\n",
    "        self.add(tex_4)  \n",
    "        mtex_1=MathTex(r\"\\theta\").next_to(arc_2,LEFT)\n",
    "        self.add(mtex_1)\n",
    "        lines = [\n",
    "                    \"රූපයේ දැක්වෙන සුමට අචල ඝන වස්තුවකින් තනා ගත් වෘත පාදයක සිරස් කඩකි.\",\n",
    "                    \"එහි මුදුන A නම් සුමට කප්පියක්  උඩින් වැටී ඇති ලුහු අවිතන්‍ය තන්තුවක දෙකෙළවරට\",\n",
    "                    \"පිලිවෙලින් m හා M(M>m) ස්කන්ධ සහිත P හා Q අංශු දෙකක් ඇඳා තිබෙයි.\"\n",
    "            ]\n",
    "            \n",
    "        text_group = VGroup(*[\n",
    "                MarkupText(line, font=\"Noto Sans Sinhala\", font_size=14)\n",
    "                for line in lines\n",
    "            ]).arrange(DOWN, aligned_edge=LEFT)\n",
    "        text_group.to_edge(DOWN)\n",
    "\n",
    "        self.play(LaggedStart(*[Write(t) for t in text_group], lag_ratio=0.1))\n",
    "        self.wait(3)"
   ]
  },
  {
   "cell_type": "code",
   "execution_count": 107,
   "metadata": {},
   "outputs": [
    {
     "data": {
      "text/html": [
       "<pre style=\"white-space:pre;overflow-x:auto;line-height:normal;font-family:Menlo,'DejaVu Sans Mono',consolas,'Courier New',monospace\">Manim Community <span style=\"color: #008000; text-decoration-color: #008000\">v0.19.0</span>\n",
       "\n",
       "</pre>\n"
      ],
      "text/plain": [
       "Manim Community \u001b[32mv0.\u001b[0m\u001b[32m19.0\u001b[0m\n",
       "\n"
      ]
     },
     "metadata": {},
     "output_type": "display_data"
    },
    {
     "name": "stderr",
     "output_type": "stream",
     "text": [
      "                                                                                                \r"
     ]
    },
    {
     "data": {
      "text/html": [
       "<video src=\"media\\jupyter\\Part15@2025-03-21@12-35-51.mp4\" controls autoplay loop style=\"max-width: 60%;\"  >\n",
       "      Your browser does not support the <code>video</code> element.\n",
       "    </video>"
      ],
      "text/plain": [
       "<IPython.core.display.Video object>"
      ]
     },
     "metadata": {},
     "output_type": "display_data"
    }
   ],
   "source": [
    "%%manim -qh -v WARNING Part15\n",
    "\n",
    "class Part15(MovingCameraScene):\n",
    "\n",
    "    def construct(self):\n",
    "\n",
    "\n",
    "        def positioning():\n",
    "            radius=3.25\n",
    "            angle = 3/4 * PI\n",
    "            return radius * np.array([\n",
    "                np.cos(angle),\n",
    "                np.sin(angle),\n",
    "                0\n",
    "            ])\n",
    "\n",
    "        arc_1 = Arc(radius=3, start_angle=PI/2, angle=PI / 2, color=BLUE)\n",
    "        self.add(arc_1)\n",
    "        cir_1=Circle(radius=0.5, fill_color=WHITE, color=WHITE, fill_opacity=1).move_to(np.array([0,3,0]))\n",
    "        self.add(cir_1)\n",
    "        ball_1=Circle(radius=0.25, fill_color=WHITE, fill_opacity=1, color=WHITE).move_to(positioning())\n",
    "        self.add(ball_1)\n",
    "        ball_2=Circle(radius=0.25, fill_color=WHITE, fill_opacity=1, color=WHITE).move_to(np.array([0.5,2,0]))\n",
    "        self.add(ball_2)\n",
    "        line_1=Line(start=cir_1.point_at_angle(0), end=ball_2.get_center(), color=WHITE)\n",
    "        self.add(line_1)\n",
    "        arc_1=Arc(radius=3.25, start_angle=PI/2, angle=PI/4)\n",
    "        self.add(arc_1)\n",
    "        dash_1=DashedLine(start=cir_1.get_center(), end=ORIGIN)\n",
    "        self.add(dash_1)\n",
    "        dash_2=DashedLine(start=ball_1.get_center(), end=ORIGIN)\n",
    "        self.add(dash_2)\n",
    "        dash_3=DashedLine(start=np.array([-3,0,0]), end=ORIGIN)\n",
    "        self.add(dash_3)\n",
    "        arc_2 = Arc(radius=1, start_angle=3*PI/4, angle=PI / 4, color=BLUE)\n",
    "        self.add(arc_2)\n",
    "        tex_1=Text(\"A\",color=YELLOW).move_to(cir_1.get_center())\n",
    "        self.add(tex_1)\n",
    "        tex_2=Text(\"P\",color=YELLOW).next_to(ball_1, LEFT)\n",
    "        self.add(tex_2)\n",
    "        tex_3=Text(\"Q\",color=YELLOW).next_to(ball_2, RIGHT)\n",
    "        self.add(tex_3)        \n",
    "        tex_4=Text(\"B\",color=YELLOW).next_to(dash_3.get_start(), LEFT)\n",
    "        self.add(tex_4)  \n",
    "        mtex_1=MathTex(r\"\\theta\").next_to(arc_2,LEFT)\n",
    "        self.add(mtex_1)\n",
    "        \n",
    "        tex_5=Text(\"F = ma යේදීමෙන් ;\", font=\"Abhaya Libre\", font_size=28,color=RED)\n",
    "        tex_6=Text(\"M ගේ සිරස් දිශාවට බල සමතුලිතතාවය සලකා\", font=\"Abhaya Libre\",font_size=28, color=YELLOW)\n",
    "        mtex_2=MathTex(r\"Mg-T=Ma\\ddot{\\theta} \")\n",
    "        VG_1=VGroup(tex_5,tex_6,mtex_2)\n",
    "        VG_1.arrange(DOWN)\n",
    "        VG_1.move_to(DOWN*2)\n",
    "        self.play(Write(VG_1))\n",
    "        self.wait(3)\n",
    "        self.play(Unwrite(VG_1))\n",
    "\n",
    "        tex_7=Text(\"F = ma යේදීමෙන් ;\", font=\"Abhaya Libre\", font_size=28,color=RED)\n",
    "        tex_8=Text(\"m ගේ ස්පර්ශකය ඔස්සේ බල  සමතුලිතතාවය සලකා\", font=\"Abhaya Libre\",font_size=28, color=YELLOW)\n",
    "        mtex_3=MathTex(r\"T-Mgcos\\theta =ma\\dot{\\theta} \")\n",
    "        VG_2=VGroup(tex_7,tex_8,mtex_3)\n",
    "        VG_2.arrange(DOWN)\n",
    "        VG_2.move_to(DOWN*2)\n",
    "        self.play(Write(VG_2))\n",
    "        self.wait(3)\n",
    "        self.play(Unwrite(VG_2))\n",
    "\n",
    "        tex_9=Text(\"F = ma යේදීමෙන් ;\", font=\"Abhaya Libre\", font_size=28,color=RED)\n",
    "        tex_10=Text(\"m ගේ ස්පර්ශකයට ලම්භකව බල  සමතුලිතතාවය සලකා \", font=\"Abhaya Libre\",font_size=28, color=YELLOW)\n",
    "        mtex_4=MathTex(r\"R-mgsine\\theta = -ma\\dot{\\theta}^2 \")\n",
    "        VG_3=VGroup(tex_9,tex_10,mtex_4)\n",
    "        VG_3.arrange(DOWN)\n",
    "        VG_3.move_to(DOWN*2)\n",
    "        self.play(Write(VG_3))\n",
    "        self.wait(3)\n",
    "        self.play(Unwrite(VG_3))\n",
    "        self.wait(3)\n"
   ]
  },
  {
   "cell_type": "code",
   "execution_count": 5,
   "metadata": {},
   "outputs": [
    {
     "data": {
      "text/html": [
       "<pre style=\"white-space:pre;overflow-x:auto;line-height:normal;font-family:Menlo,'DejaVu Sans Mono',consolas,'Courier New',monospace\">Manim Community <span style=\"color: #008000; text-decoration-color: #008000\">v0.19.0</span>\n",
       "\n",
       "</pre>\n"
      ],
      "text/plain": [
       "Manim Community \u001b[32mv0.\u001b[0m\u001b[32m19.0\u001b[0m\n",
       "\n"
      ]
     },
     "metadata": {},
     "output_type": "display_data"
    },
    {
     "name": "stderr",
     "output_type": "stream",
     "text": [
      "                                                                                              \r"
     ]
    },
    {
     "data": {
      "text/html": [
       "<video src=\"media\\jupyter\\Part16@2025-03-21@19-02-06.mp4\" controls autoplay loop style=\"max-width: 60%;\"  >\n",
       "      Your browser does not support the <code>video</code> element.\n",
       "    </video>"
      ],
      "text/plain": [
       "<IPython.core.display.Video object>"
      ]
     },
     "metadata": {},
     "output_type": "display_data"
    }
   ],
   "source": [
    "%%manim -qh -v WARNING Part16\n",
    "\n",
    "class Part16(Scene):\n",
    "\n",
    "    def construct(self):\n",
    "        \n",
    "        screen_1=FullScreenRectangle(stroke_width=0.01)\n",
    "        screen_1.set_fill(\n",
    "                    color=\"#301934\",\n",
    "                    opacity=1           \n",
    "                )\n",
    "        self.play(FadeIn(screen_1))\n",
    "        self.wait(1)\n",
    "\n",
    "        mtex_1=MathTex(r\"Mg-T=Ma\\ddot{\\theta} \\;\\; (1)\", color=YELLOW)\n",
    "        mtex_2=MathTex(r\"T-Mgcos\\theta =ma\\dot{\\theta} \\;\\; (2)\", color=YELLOW)\n",
    "        mtex_3=MathTex(r\"R-mgsine\\theta = -ma\\dot{\\theta}^2 \\;\\; (3)\", color=YELLOW)\n",
    "        mtex_4=MathTex(r\"(1)+(2) ->\", font_size=28, color=RED)\n",
    "        mtex_5=MathTex(r\"g(M-mcos\\theta)=(M+m)a\\ddot{\\theta} \\;\\; (4)\", color=YELLOW)\n",
    "        mtex_6=MathTex(r\"(4) \\: \\times 2\\dot{\\theta} \\: and \\: integrating \\: relative \\: to \\: time(t) \\: ->\", font_size=28, color=RED)\n",
    "        mtex_7=MathTex(r\"C + 2g(M\\theta - m sin\\theta) = (M+m)a\\dot{\\theta}^2\", color=YELLOW)\n",
    "        mtex_8=MathTex(r\"When \\: \\theta = 0 \\: , a\\dot{\\theta}=0  \\therefore C=0\", color=YELLOW)\n",
    "        mtex_9=MathTex(r\"2g(M\\theta - m sin\\theta) = (M+m)a\\dot{\\theta}^2 \\;\\; (5)\", color=YELLOW)\n",
    "\n",
    "        VG_1=VGroup(mtex_1,mtex_2,mtex_3,mtex_4,mtex_5,mtex_6,mtex_7,mtex_8,mtex_9).arrange(DOWN)\n",
    "        VG_1.to_edge(UP+LEFT)\n",
    "\n",
    "        self.play(Write(VG_1))\n",
    "        self.wait(3)\n",
    "\n"
   ]
  },
  {
   "cell_type": "code",
   "execution_count": 4,
   "metadata": {},
   "outputs": [
    {
     "data": {
      "text/html": [
       "<pre style=\"white-space:pre;overflow-x:auto;line-height:normal;font-family:Menlo,'DejaVu Sans Mono',consolas,'Courier New',monospace\">Manim Community <span style=\"color: #008000; text-decoration-color: #008000\">v0.19.0</span>\n",
       "\n",
       "</pre>\n"
      ],
      "text/plain": [
       "Manim Community \u001b[32mv0.\u001b[0m\u001b[32m19.0\u001b[0m\n",
       "\n"
      ]
     },
     "metadata": {},
     "output_type": "display_data"
    },
    {
     "name": "stderr",
     "output_type": "stream",
     "text": [
      "                                                                                              \r"
     ]
    },
    {
     "data": {
      "text/html": [
       "<video src=\"media\\jupyter\\Part20@2025-03-21@19-01-24.mp4\" controls autoplay loop style=\"max-width: 60%;\"  >\n",
       "      Your browser does not support the <code>video</code> element.\n",
       "    </video>"
      ],
      "text/plain": [
       "<IPython.core.display.Video object>"
      ]
     },
     "metadata": {},
     "output_type": "display_data"
    }
   ],
   "source": [
    "%%manim -qh -v WARNING Part20\n",
    "\n",
    "class Part20(Scene):\n",
    "\n",
    "    def construct(self):\n",
    "        \n",
    "        screen_1=FullScreenRectangle(stroke_width=0.01)\n",
    "        screen_1.set_fill(\n",
    "                    color=\"#301934\",\n",
    "                    opacity=1           \n",
    "                )\n",
    "        self.play(FadeIn(screen_1))\n",
    "        self.wait(1)\n",
    "\n",
    "        mtex_1=MathTex(r\"using \\;(3) \\;and \\;(4)\",font_size=28, color=RED)\n",
    "        mtex_2=MathTex(r\"R = mgsin\\theta - ma\\dot{\\theta}^2\", color=YELLOW)\n",
    "        mtex_3=MathTex(r\"R = mgsin\\theta-\\frac{m.2g}{M+m}(M\\theta-msine\\theta)\", color=YELLOW)\n",
    "        mtex_4=MathTex(r\"R = \\frac{mg}{M+m}[(M+3m)sin\\theta-2M\\theta] \\;\\; (6)\", color=YELLOW)\n",
    "\n",
    "        VG_1=VGroup(mtex_1,mtex_2,mtex_3,mtex_4).arrange(DOWN)\n",
    "        VG_1.to_edge(UP+LEFT)\n",
    "\n",
    "        self.play(Write(VG_1))\n",
    "        self.wait(3)\n"
   ]
  },
  {
   "cell_type": "code",
   "execution_count": 3,
   "metadata": {},
   "outputs": [
    {
     "data": {
      "text/html": [
       "<pre style=\"white-space:pre;overflow-x:auto;line-height:normal;font-family:Menlo,'DejaVu Sans Mono',consolas,'Courier New',monospace\">Manim Community <span style=\"color: #008000; text-decoration-color: #008000\">v0.19.0</span>\n",
       "\n",
       "</pre>\n"
      ],
      "text/plain": [
       "Manim Community \u001b[32mv0.\u001b[0m\u001b[32m19.0\u001b[0m\n",
       "\n"
      ]
     },
     "metadata": {},
     "output_type": "display_data"
    },
    {
     "name": "stderr",
     "output_type": "stream",
     "text": [
      "                                                                                                                                           \r"
     ]
    },
    {
     "data": {
      "text/html": [
       "<video src=\"media\\jupyter\\Part17@2025-03-21@19-00-46.mp4\" controls autoplay loop style=\"max-width: 60%;\"  >\n",
       "      Your browser does not support the <code>video</code> element.\n",
       "    </video>"
      ],
      "text/plain": [
       "<IPython.core.display.Video object>"
      ]
     },
     "metadata": {},
     "output_type": "display_data"
    }
   ],
   "source": [
    "%%manim -qh -v WARNING Part17\n",
    "\n",
    "class Part17(Scene):\n",
    "\n",
    "    def construct(self):\n",
    "        \n",
    "        screen_1=FullScreenRectangle(stroke_width=0.01)\n",
    "        screen_1.set_fill(\n",
    "                    color=\"#023020\",\n",
    "                    opacity=1           \n",
    "                )\n",
    "        self.play(FadeIn(screen_1))\n",
    "        self.wait(1)\n",
    "\n",
    "        mtex_1=MathTex(r\"\\theta\", font_size=35, color=RED)\n",
    "        tex_1=Text(\"විෂයෙහි R අවකලනය කිරීමෙන්\", font=\"Abhaya Libre\", font_size=35, color=RED).next_to(mtex_1)\n",
    "        VG_1=VGroup(mtex_1,tex_1).to_edge(UP+LEFT)\n",
    "        self.play(Write(VG_1))\n",
    "\n",
    "        mtex_2=MathTex(r\"\\frac{dR}{d\\theta}=\\frac{mg}{M+m}[(M+3m)cos\\theta-2M]\", font_size=35, color=YELLOW).next_to(VG_1, DOWN)\n",
    "        self.play(Write(mtex_2))\n",
    "\n",
    "        mtex_3=MathTex(r\"\\frac{dR}{d\\theta}=0\",font_size=35, color=RED)\n",
    "        tex_2=Text(\"හැරවුම් ලක්ෂය හදුනා ගැනීම සදහා\", font=\"Abhaya Libre\", font_size=35, color=RED).next_to(mtex_3, RIGHT)\n",
    "        VG_2=VGroup(mtex_3,tex_2)\n",
    "        VG_2.next_to(mtex_2,DOWN+RIGHT*0.01)\n",
    "        self.play(Write(VG_2))\n",
    "\n",
    "        mtex_4=MathTex(r\"cos\\alpha= \\frac{2M}{M+3m}\", font_size=35, color=YELLOW)\n",
    "        mtex_5=MathTex(r\"cos\\alpha < 1\", font_size=35, color=YELLOW)\n",
    "        mtex_6=MathTex(r\"\\frac{2M}{M+3m} < 1\", font_size=35, color=YELLOW)\n",
    "        mtex_7=MathTex(r\"2M \\:< \\:M+3m\", font_size=35, color=YELLOW)\n",
    "        mtex_8=MathTex(r\"M \\:< \\:3m\", font_size=35, color=YELLOW)\n",
    "        VG_3=VGroup(mtex_4,mtex_5,mtex_6,mtex_7,mtex_8)\n",
    "        VG_3.arrange(DOWN)\n",
    "        VG_3.next_to(VG_2, DOWN)\n",
    "        self.play(Write(VG_3))\n",
    "\n"
   ]
  },
  {
   "cell_type": "code",
   "execution_count": 11,
   "metadata": {},
   "outputs": [
    {
     "data": {
      "text/html": [
       "<pre style=\"white-space:pre;overflow-x:auto;line-height:normal;font-family:Menlo,'DejaVu Sans Mono',consolas,'Courier New',monospace\">Manim Community <span style=\"color: #008000; text-decoration-color: #008000\">v0.19.0</span>\n",
       "\n",
       "</pre>\n"
      ],
      "text/plain": [
       "Manim Community \u001b[32mv0.\u001b[0m\u001b[32m19.0\u001b[0m\n",
       "\n"
      ]
     },
     "metadata": {},
     "output_type": "display_data"
    },
    {
     "name": "stderr",
     "output_type": "stream",
     "text": [
      "                                                                                              \r"
     ]
    },
    {
     "data": {
      "text/html": [
       "<video src=\"media\\jupyter\\Part18@2025-03-21@18-18-40.mp4\" controls autoplay loop style=\"max-width: 60%;\"  >\n",
       "      Your browser does not support the <code>video</code> element.\n",
       "    </video>"
      ],
      "text/plain": [
       "<IPython.core.display.Video object>"
      ]
     },
     "metadata": {},
     "output_type": "display_data"
    }
   ],
   "source": [
    "%%manim -qh -v WARNING Part18\n",
    "\n",
    "class Part18(Scene):\n",
    "\n",
    "    def construct(self):\n",
    "        \n",
    "        screen_1=FullScreenRectangle(stroke_width=0.01)\n",
    "        screen_1.set_fill(\n",
    "                    color=\"#2E1503\",\n",
    "                    opacity=1           \n",
    "                )\n",
    "        self.play(FadeIn(screen_1))\n",
    "        self.wait(1)\n",
    "\n",
    "        mtex_1=MathTex(r\"when \\; \\theta=\\beta ,\\; R=0\", font_size=28, color=RED)\n",
    "        mtex_2=MathTex(r\"(6) \\; -> \\; (M+3m)sin\\beta=2M\\beta\", color=YELLOW)\n",
    "        mtex_3=MathTex(r\"\\therefore \\; sin\\beta=\\frac{2M}{M+3m}\\beta\", color=YELLOW)\n",
    "        mtex_4=MathTex(r\"\\frac{2M}{M+3m}>\\frac{1}{\\pi/2}\", color=YELLOW)\n",
    "        mtex_5=MathTex(r\"\\frac{3m}{M}<\\pi-1\", color=YELLOW)\n",
    "\n",
    "        VG_1=VGroup(mtex_1,mtex_2,mtex_3,mtex_4,mtex_5).arrange(DOWN)\n",
    "        VG_1.to_edge(UP+LEFT)\n",
    "\n",
    "        self.play(Write(VG_1))\n",
    "        self.wait(3)"
   ]
  },
  {
   "cell_type": "code",
   "execution_count": 5,
   "metadata": {},
   "outputs": [
    {
     "data": {
      "text/html": [
       "<pre style=\"white-space:pre;overflow-x:auto;line-height:normal;font-family:Menlo,'DejaVu Sans Mono',consolas,'Courier New',monospace\">Manim Community <span style=\"color: #008000; text-decoration-color: #008000\">v0.19.0</span>\n",
       "\n",
       "</pre>\n"
      ],
      "text/plain": [
       "Manim Community \u001b[32mv0.\u001b[0m\u001b[32m19.0\u001b[0m\n",
       "\n"
      ]
     },
     "metadata": {},
     "output_type": "display_data"
    },
    {
     "name": "stderr",
     "output_type": "stream",
     "text": [
      "                                                                                                \r"
     ]
    },
    {
     "data": {
      "text/html": [
       "<video src=\"media\\jupyter\\Part19@2025-03-21@18-57-08.mp4\" controls autoplay loop style=\"max-width: 60%;\"  >\n",
       "      Your browser does not support the <code>video</code> element.\n",
       "    </video>"
      ],
      "text/plain": [
       "<IPython.core.display.Video object>"
      ]
     },
     "metadata": {},
     "output_type": "display_data"
    }
   ],
   "source": [
    "\n",
    "%%manim -qh -v WARNING Part19\n",
    "\n",
    "class Part19(Scene):\n",
    "\n",
    "    def construct(self):\n",
    "        table = MathTable(\n",
    "            [[\".\",r\"0<\\theta<\\alpha\",r\"\\alpha<\\theta<\\pi/2\"],[r\"\\frac{dy}{dx}\",\"+\",\"-\"]],include_outer_lines=True)\n",
    "        self.play(Create(table))\n",
    "        self.wait(3)"
   ]
  }
 ],
 "metadata": {
  "kernelspec": {
   "display_name": "Python 3",
   "language": "python",
   "name": "python3"
  },
  "language_info": {
   "codemirror_mode": {
    "name": "ipython",
    "version": 3
   },
   "file_extension": ".py",
   "mimetype": "text/x-python",
   "name": "python",
   "nbconvert_exporter": "python",
   "pygments_lexer": "ipython3",
   "version": "3.12.8"
  }
 },
 "nbformat": 4,
 "nbformat_minor": 2
}
