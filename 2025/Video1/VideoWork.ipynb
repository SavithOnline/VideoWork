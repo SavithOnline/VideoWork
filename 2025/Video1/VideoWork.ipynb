{
 "cells": [
  {
   "cell_type": "code",
   "execution_count": 2,
   "metadata": {},
   "outputs": [],
   "source": [
    "from manim import *"
   ]
  },
  {
   "cell_type": "code",
   "execution_count": 3,
   "metadata": {},
   "outputs": [],
   "source": [
    "config.renderer=\"opengl\"\n",
    "SINHALA_FONT = \"Noto Sans Sinhala\"\n",
    "TABLE_FONT = \"Abhaya Libre\""
   ]
  },
  {
   "cell_type": "code",
   "execution_count": 4,
   "metadata": {},
   "outputs": [
    {
     "data": {
      "text/html": [
       "<pre style=\"white-space:pre;overflow-x:auto;line-height:normal;font-family:Menlo,'DejaVu Sans Mono',consolas,'Courier New',monospace\">Manim Community <span style=\"color: #008000; text-decoration-color: #008000\">v0.19.0</span>\n",
       "\n",
       "</pre>\n"
      ],
      "text/plain": [
       "Manim Community \u001b[32mv0.\u001b[0m\u001b[32m19.0\u001b[0m\n",
       "\n"
      ]
     },
     "metadata": {},
     "output_type": "display_data"
    },
    {
     "name": "stderr",
     "output_type": "stream",
     "text": [
      "                                                                                  \r"
     ]
    },
    {
     "data": {
      "text/html": [
       "<video src=\"media\\jupyter\\Part1@2025-03-04@11-25-46.mp4\" controls autoplay loop style=\"max-width: 60%;\"  >\n",
       "      Your browser does not support the <code>video</code> element.\n",
       "    </video>"
      ],
      "text/plain": [
       "<IPython.core.display.Video object>"
      ]
     },
     "metadata": {},
     "output_type": "display_data"
    }
   ],
   "source": [
    "%%manim -qh -v WARNING Part1\n",
    "\n",
    "class Part1(Scene):\n",
    "    \n",
    "    def construct(self):\n",
    "        lines = [\n",
    "                \"මෙහි දැක්වෙන රූපය සමද්විපාද සෘජුකෝණීක\",\n",
    "                \"ත්‍රිකෝණ වලින් සැදී අති අතර ඒයින් නිරූපනය\",\n",
    "                \"කරන්නෙ සුමට ලෙස සන්දි කල සැහැල්ලුන් දඩු\",\n",
    "                \"වලින් සැදුනු රාමු සැකිල්ලකි. එය E හි දී අචල\",\n",
    "                \"ලක්ෂ්‍ය වලදී පිලිවලින් 100Kg ද 10Kg ද බගින් වූ\",\n",
    "                \"බාර එල්ලා තිබේ. දඩූ වල ප්‍රත්‍ය බල සොයන්න.\",\n",
    "                \"අතති හා සම්පීඩන ලෙස වෙන් කරන්න.\"\n",
    "            ]\n",
    "            \n",
    "        text_group = VGroup(*[\n",
    "                MarkupText(line, font=SINHALA_FONT, font_size=28)\n",
    "                for line in lines\n",
    "            ]).arrange(DOWN, aligned_edge=LEFT)\n",
    "\n",
    "        self.play(LaggedStart(*[Write(t) for t in text_group], lag_ratio=0.1))\n",
    "        self.wait(3)"
   ]
  },
  {
   "cell_type": "code",
   "execution_count": 5,
   "metadata": {},
   "outputs": [
    {
     "data": {
      "text/html": [
       "<pre style=\"white-space:pre;overflow-x:auto;line-height:normal;font-family:Menlo,'DejaVu Sans Mono',consolas,'Courier New',monospace\">Manim Community <span style=\"color: #008000; text-decoration-color: #008000\">v0.19.0</span>\n",
       "\n",
       "</pre>\n"
      ],
      "text/plain": [
       "Manim Community \u001b[32mv0.\u001b[0m\u001b[32m19.0\u001b[0m\n",
       "\n"
      ]
     },
     "metadata": {},
     "output_type": "display_data"
    },
    {
     "name": "stderr",
     "output_type": "stream",
     "text": [
      "                                                                                             \r"
     ]
    },
    {
     "data": {
      "text/html": [
       "<video src=\"media\\jupyter\\Part2@2025-03-04@11-27-07.mp4\" controls autoplay loop style=\"max-width: 60%;\"  >\n",
       "      Your browser does not support the <code>video</code> element.\n",
       "    </video>"
      ],
      "text/plain": [
       "<IPython.core.display.Video object>"
      ]
     },
     "metadata": {},
     "output_type": "display_data"
    }
   ],
   "source": [
    "%%manim -qh -v WARNING Part2\n",
    "\n",
    "class Part2(Scene):\n",
    "    \n",
    "    def construct(self):\n",
    "\n",
    "        structure=SVGMobject(r\"C:\\Users\\savit\\Downloads\\Mathematics Animations\\Video1\\svg01.svg\")\n",
    "        structure.scale(2.5)\n",
    "        structure.move_to(np.array([-1,-1,0]))          #uploading the SVG     \n",
    "        \n",
    "        line2= structure.submobjects[1]\n",
    "        line5= structure.submobjects[4]\n",
    "        line8= structure.submobjects[7]\n",
    "        line9= structure.submobjects[8]\n",
    "        line10= structure.submobjects[9]            #accessing its parts\n",
    "\n",
    "        line8.set_opacity(0)\n",
    "        line9.set_opacity(0)\n",
    "        line10.set_opacity(0)           #modifing parts\n",
    "\n",
    "        letter1=Text(\"A\", color=\"YELLOW\", font_size=21)\n",
    "        letter2=Text(\"C\", color=\"YELLOW\", font_size=21)\n",
    "        letter3=Text(\"D\", color=\"YELLOW\", font_size=21)\n",
    "        letter4=Text(\"B\", color=\"YELLOW\", font_size=21)\n",
    "        letter5=Text(\"E\", color=\"YELLOW\", font_size=21)          \n",
    "\n",
    "        letter1.next_to(line10.get_start(),LEFT, buff=0.2)\n",
    "        letter2.next_to(line9.get_start(),RIGHT, buff=0.2)\n",
    "        letter3.next_to(line8.get_start(),LEFT+DOWN, buff=0.2)\n",
    "        letter4.next_to(line2.get_end(),UP, buff=0.2)\n",
    "        letter5.next_to(line5.get_start(),DOWN+LEFT, buff=0.5)             #labeling the corners\n",
    "\n",
    "        arrow1=Arrow(start=line10.get_start(), \n",
    "                     end=(line10.get_end()), \n",
    "                     buff=0, color=RED)\n",
    "        \n",
    "        arrow2=Arrow(start=line9.get_start(),\n",
    "                      end=(line9.get_end()),\n",
    "                        buff=0, color=RED)\n",
    "        \n",
    "        arrow3=Arrow(start=line8.get_start(),\n",
    "                      end=(line8.get_end()), \n",
    "                      buff=0, color=RED)          \n",
    "\n",
    "        dot8 = Dot(point=line8.get_start(),\n",
    "                    color=RED)\n",
    "        dot9 = Dot(point=line9.get_start(),\n",
    "                    color=RED)\n",
    "        dot10 = Dot(point=line10.get_start(),\n",
    "                     color=RED)                     #other parts\n",
    "\n",
    "        self.play(Create(VGroup(structure,\n",
    "                                arrow1, arrow2, arrow3,\n",
    "                                  dot8, dot9, dot10)))\n",
    "\n",
    "        self.play(Create(VGroup(letter1,\n",
    "                                letter2,\n",
    "                                letter3,\n",
    "                                letter4,\n",
    "                                letter5)))          #reveling\n",
    "\n",
    "        self.wait(3)\n",
    "\n",
    "        number1=Text(\"1\",font_size=42, font=\"Arial\")\n",
    "        number2=Text(\"2\", font_size=42, font=\"Arial\")\n",
    "        number3=Text(\"3\", font_size=42, font=\"Arial\")\n",
    "        number4=Text(\"4\", font_size=42, font=\"Arial\")\n",
    "        number5=Text(\"5\",font_size=42, font=\"Arial\")\n",
    "        number6=Text(\"6\",font_size=42, font=\"Arial\")\n",
    "        number7=Text(\"7\", font_size=42, font=\"Arial\")\n",
    "    \n",
    "        number1.move_to(np.array([3,-2,0]))\n",
    "        number2.move_to(np.array([1.8,0.9,0]))\n",
    "        number3.move_to(np.array([0.1,0.65,0]))\n",
    "        number4.move_to(np.array([0,3,0]))\n",
    "        number5.move_to(np.array([-1.5,0.75,0]))\n",
    "        number6.move_to(np.array([-4,-2,0]))           \n",
    "        number7.move_to(np.array([0,-2,0]))    \n",
    "        \n",
    "        \n",
    "        dashline=DashedLine(start=(line5.get_start()), end=np.array([2,-20,0]))\n",
    "\n",
    "        self.play(arrow1.animate.scale(5, about_point=arrow1.get_start()))\n",
    "        self.play(arrow2.animate.scale(5, about_point=arrow2.get_start()))\n",
    "        self.play(arrow3.animate.scale(5, about_point=arrow3.get_start()))\n",
    "\n",
    "        self.play(Create(VGroup(\n",
    "                number1, number2, number3,\n",
    "                number4, number5, number6, number7\n",
    "                        )))\n",
    "        self.play(Create(dashline))             #solveing\n",
    "        self.wait(5)"
   ]
  },
  {
   "cell_type": "code",
   "execution_count": 152,
   "metadata": {},
   "outputs": [
    {
     "data": {
      "text/html": [
       "<pre style=\"white-space:pre;overflow-x:auto;line-height:normal;font-family:Menlo,'DejaVu Sans Mono',consolas,'Courier New',monospace\">Manim Community <span style=\"color: #008000; text-decoration-color: #008000\">v0.19.0</span>\n",
       "\n",
       "</pre>\n"
      ],
      "text/plain": [
       "Manim Community \u001b[32mv0.\u001b[0m\u001b[32m19.0\u001b[0m\n",
       "\n"
      ]
     },
     "metadata": {},
     "output_type": "display_data"
    },
    {
     "name": "stderr",
     "output_type": "stream",
     "text": [
      "                                                                                             \r"
     ]
    },
    {
     "data": {
      "text/html": [
       "<video src=\"media\\jupyter\\Part3@2025-03-05@08-18-05.mp4\" controls autoplay loop style=\"max-width: 60%;\"  >\n",
       "      Your browser does not support the <code>video</code> element.\n",
       "    </video>"
      ],
      "text/plain": [
       "<IPython.core.display.Video object>"
      ]
     },
     "metadata": {},
     "output_type": "display_data"
    }
   ],
   "source": [
    "%%manim -qh -v WARNING Part3\n",
    "\n",
    "class Part3(Scene):\n",
    "\n",
    "    def construct(self):\n",
    "                                \n",
    "        # Use LaTeX strings instead of pre-created Tex objects\n",
    "        check = r'\\checkmark'\n",
    "        m1 = r'200\\,\\mathrm{N}'\n",
    "        m2 = r'1000\\,\\mathrm{N}'\n",
    "        m3 = r'1000\\sqrt{2}\\,\\mathrm{N}'\n",
    "        m4 = r'500\\,\\mathrm{N}'\n",
    "        m5 = r'200\\sqrt{2}\\,\\mathrm{N}'\n",
    "        m6 = r'300\\sqrt{2}\\,\\mathrm{N}'\n",
    "        m7 = r'300\\sqrt{2}\\,\\mathrm{N}'\n",
    "\n",
    "        # Custom function to handle different elements\n",
    "        def custom_element_to_mobject(element, **kwargs):\n",
    "            if element == check:\n",
    "                return Tex(element, color=GREEN, stroke_width=1, **kwargs).scale(0.6)\n",
    "            elif element in [m1, m2, m3, m4, m5, m6, m7]:\n",
    "                return MathTex(element, **kwargs)\n",
    "            else:\n",
    "                return Text(element, font=TABLE_FONT, font_size=28, **kwargs)\n",
    "\n",
    "        table = Table(\n",
    "            [\n",
    "                [\"AB\", \"54\", check, \" \", m1],\n",
    "                [\"BC\", \"24\", check, \" \", m2],\n",
    "                [\"CE\", \"12\", \" \", check, m3],\n",
    "                [\"ED\", \"73\", \" \", check, m4],\n",
    "                [\"DA\", \"65\", \" \", check, m5],\n",
    "                [\"DB\", \"53\", check, \" \", m6],\n",
    "                [\"EB\", \"23\", \" \", check, m7]\n",
    "            ],\n",
    "            col_labels=[\n",
    "                Text(\"දණ්ඩ\", font=TABLE_FONT, font_size=49, color=YELLOW),\n",
    "                Text(\"අංකනය\", font=TABLE_FONT, font_size=49, color=YELLOW),\n",
    "                Text(\"ආතති\", font=TABLE_FONT, font_size=49, color=YELLOW),\n",
    "                Text(\"තෙරපුම්\", font=TABLE_FONT, font_size=49, color=YELLOW),\n",
    "                Text(\"බලය\", font=TABLE_FONT, font_size=49, color=YELLOW)\n",
    "            ],\n",
    "            include_outer_lines=True,\n",
    "            line_config={\"color\": YELLOW, \"stroke_width\": 2},\n",
    "            element_to_mobject=custom_element_to_mobject\n",
    "        )\n",
    "        table.move_to(ORIGIN)\n",
    "        table.scale(0.5)\n",
    "       \n",
    "        self.play(Create(table))\n",
    "        self.wait(3)"
   ]
  },
  {
   "cell_type": "code",
   "execution_count": null,
   "metadata": {},
   "outputs": [
    {
     "data": {
      "text/html": [
       "<pre style=\"white-space:pre;overflow-x:auto;line-height:normal;font-family:Menlo,'DejaVu Sans Mono',consolas,'Courier New',monospace\">Manim Community <span style=\"color: #008000; text-decoration-color: #008000\">v0.19.0</span>\n",
       "\n",
       "</pre>\n"
      ],
      "text/plain": [
       "Manim Community \u001b[32mv0.\u001b[0m\u001b[32m19.0\u001b[0m\n",
       "\n"
      ]
     },
     "metadata": {},
     "output_type": "display_data"
    },
    {
     "name": "stderr",
     "output_type": "stream",
     "text": [
      "                                                                                             \r"
     ]
    },
    {
     "data": {
      "text/html": [
       "<video src=\"media\\jupyter\\Part4@2025-03-04@11-29-52.mp4\" controls autoplay loop style=\"max-width: 60%;\"  >\n",
       "      Your browser does not support the <code>video</code> element.\n",
       "    </video>"
      ],
      "text/plain": [
       "<IPython.core.display.Video object>"
      ]
     },
     "metadata": {},
     "output_type": "display_data"
    }
   ],
   "source": [
    "%%manim -qh -v WARNING Part4\n",
    "\n",
    "class Part4(Scene):\n",
    "\n",
    "    def construct(self):\n",
    "                                \n",
    "        # Use LaTeX strings instead of pre-created Tex objects\n",
    "        check = r'\\checkmark'\n",
    "        m1 = r'200\\,\\mathrm{N}'\n",
    "        m2 = r'1000\\,\\mathrm{N}'\n",
    "        m3 = r'1000\\sqrt{2}\\,\\mathrm{N}'\n",
    "        m4 = r'500\\,\\mathrm{N}'\n",
    "        m5 = r'200\\sqrt{2}\\,\\mathrm{N}'\n",
    "        m6 = r'300\\sqrt{2}\\,\\mathrm{N}'\n",
    "        m7 = r'300\\sqrt{2}\\,\\mathrm{N}'\n",
    "\n",
    "\n",
    "        # Custom function to handle different elements\n",
    "        def custom_element_to_mobject(element, **kwargs):\n",
    "            if element == check:\n",
    "                return Tex(element, color=GREEN, stroke_width=1, **kwargs).scale(0.6)\n",
    "            elif element in [m1, m2, m3, m4, m5, m6, m7]:\n",
    "                return MathTex(element, **kwargs)\n",
    "            else:\n",
    "                return Text(element, font=TABLE_FONT, font_size=28, **kwargs)\n",
    "\n",
    "        table = Table(\n",
    "            [\n",
    "                [\"AB\", \"54\", check, \" \", \" \"],\n",
    "                [\"BC\", \"24\", check, \" \", \" \"],\n",
    "                [\"CE\", \"12\", \" \", check, \" \"],\n",
    "                [\"ED\", \"73\", \" \", check, \" \"],\n",
    "                [\"DA\", \"65\", \" \", check, \" \"],\n",
    "                [\"DB\", \"53\", check, \" \", \" \"],\n",
    "                [\"EB\", \"23\", \" \", check, \" \"]\n",
    "            ],\n",
    "            col_labels=[\n",
    "                Text(\"දණ්ඩ\", font=TABLE_FONT, font_size=49, color=YELLOW),\n",
    "                Text(\"අංකනය\", font=TABLE_FONT, font_size=49, color=YELLOW),\n",
    "                Text(\"ආතති\", font=TABLE_FONT, font_size=49, color=YELLOW),\n",
    "                Text(\"තෙරපුම්\", font=TABLE_FONT, font_size=49, color=YELLOW),\n",
    "                Text(\"බලය\", font=TABLE_FONT, font_size=49, color=YELLOW)\n",
    "            ],\n",
    "            include_outer_lines=True,\n",
    "            line_config={\"color\": YELLOW, \"stroke_width\": 2},\n",
    "            element_to_mobject=custom_element_to_mobject\n",
    "        )\n",
    "        table.move_to(ORIGIN)\n",
    "        table.scale(0.5)\n",
    "       \n",
    "        self.play(Create(table))\n",
    "        self.wait(3)"
   ]
  },
  {
   "cell_type": "code",
   "execution_count": null,
   "metadata": {},
   "outputs": [
    {
     "data": {
      "text/html": [
       "<pre style=\"white-space:pre;overflow-x:auto;line-height:normal;font-family:Menlo,'DejaVu Sans Mono',consolas,'Courier New',monospace\">Manim Community <span style=\"color: #008000; text-decoration-color: #008000\">v0.19.0</span>\n",
       "\n",
       "</pre>\n"
      ],
      "text/plain": [
       "Manim Community \u001b[32mv0.\u001b[0m\u001b[32m19.0\u001b[0m\n",
       "\n"
      ]
     },
     "metadata": {},
     "output_type": "display_data"
    },
    {
     "name": "stderr",
     "output_type": "stream",
     "text": [
      "                                                                                             \r"
     ]
    },
    {
     "data": {
      "text/html": [
       "<video src=\"media\\jupyter\\Part5@2025-03-04@11-50-37.mp4\" controls autoplay loop style=\"max-width: 60%;\"  >\n",
       "      Your browser does not support the <code>video</code> element.\n",
       "    </video>"
      ],
      "text/plain": [
       "<IPython.core.display.Video object>"
      ]
     },
     "metadata": {},
     "output_type": "display_data"
    }
   ],
   "source": [
    "%%manim -qh -v WARNING Part5\n",
    "\n",
    "class Part5(Scene):\n",
    "\n",
    "    def construct(self):\n",
    "                                \n",
    "        # Use LaTeX strings instead of pre-created Tex objects\n",
    "        check = r'\\checkmark'\n",
    "        m1 = r'200\\,\\mathrm{N}'\n",
    "        m2 = r'1000\\,\\mathrm{N}'\n",
    "        m3 = r'1000\\sqrt{2}\\,\\mathrm{N}'\n",
    "        m4 = r'500\\,\\mathrm{N}'\n",
    "        m5 = r'200\\sqrt{2}\\,\\mathrm{N}'\n",
    "        m6 = r'300\\sqrt{2}\\,\\mathrm{N}'\n",
    "        m7 = r'300\\sqrt{2}\\,\\mathrm{N}'\n",
    "\n",
    "\n",
    "        # Custom function to handle different elements\n",
    "        def custom_element_to_mobject(element, **kwargs):\n",
    "            if element == check:\n",
    "                return Tex(element, color=GREEN, stroke_width=1, **kwargs).scale(0.6)\n",
    "            elif element in [m1, m2, m3, m4, m5, m6, m7]:\n",
    "                return MathTex(element, **kwargs)\n",
    "            else:\n",
    "                return Text(element, font=TABLE_FONT, font_size=28, **kwargs)\n",
    "\n",
    "        table = Table(\n",
    "            [\n",
    "                [\"AB\", \"54\", check, \" \", \" \"],\n",
    "                [\"BC\", \"24\", check, \" \", \" \"],\n",
    "                [\"CE\", \"12\", \" \", check, \" \"],\n",
    "                [\"ED\", \"73\", \" \", check, \" \"],\n",
    "                [\"DA\", \"65\", \" \", check, \" \"],\n",
    "                [\"DB\", \"53\", check, \" \", \" \"],\n",
    "                [\"EB\", \"23\", \" \", \" \", \" \"]\n",
    "            ],\n",
    "            col_labels=[\n",
    "                Text(\"දණ්ඩ\", font=TABLE_FONT, font_size=49, color=YELLOW),\n",
    "                Text(\"අංකනය\", font=TABLE_FONT, font_size=49, color=YELLOW),\n",
    "                Text(\"ආතති\", font=TABLE_FONT, font_size=49, color=YELLOW),\n",
    "                Text(\"තෙරපුම්\", font=TABLE_FONT, font_size=49, color=YELLOW),\n",
    "                Text(\"බලය\", font=TABLE_FONT, font_size=49, color=YELLOW)\n",
    "            ],\n",
    "            include_outer_lines=True,\n",
    "            line_config={\"color\": YELLOW, \"stroke_width\": 2},\n",
    "            element_to_mobject=custom_element_to_mobject\n",
    "        )\n",
    "        table.move_to(ORIGIN)\n",
    "        table.scale(0.5)\n",
    "       \n",
    "        self.play(Create(table))\n",
    "        self.wait(3)"
   ]
  },
  {
   "cell_type": "code",
   "execution_count": null,
   "metadata": {},
   "outputs": [
    {
     "data": {
      "text/html": [
       "<pre style=\"white-space:pre;overflow-x:auto;line-height:normal;font-family:Menlo,'DejaVu Sans Mono',consolas,'Courier New',monospace\">Manim Community <span style=\"color: #008000; text-decoration-color: #008000\">v0.19.0</span>\n",
       "\n",
       "</pre>\n"
      ],
      "text/plain": [
       "Manim Community \u001b[32mv0.\u001b[0m\u001b[32m19.0\u001b[0m\n",
       "\n"
      ]
     },
     "metadata": {},
     "output_type": "display_data"
    },
    {
     "name": "stderr",
     "output_type": "stream",
     "text": [
      "                                                                                             \r"
     ]
    },
    {
     "data": {
      "text/html": [
       "<video src=\"media\\jupyter\\Part6@2025-03-04@11-50-29.mp4\" controls autoplay loop style=\"max-width: 60%;\"  >\n",
       "      Your browser does not support the <code>video</code> element.\n",
       "    </video>"
      ],
      "text/plain": [
       "<IPython.core.display.Video object>"
      ]
     },
     "metadata": {},
     "output_type": "display_data"
    }
   ],
   "source": [
    "%%manim -qh -v WARNING Part6\n",
    "\n",
    "class Part6(Scene):\n",
    "\n",
    "    def construct(self):\n",
    "                                \n",
    "        # Use LaTeX strings instead of pre-created Tex objects\n",
    "        check = r'\\checkmark'\n",
    "        m1 = r'200\\,\\mathrm{N}'\n",
    "        m2 = r'1000\\,\\mathrm{N}'\n",
    "        m3 = r'1000\\sqrt{2}\\,\\mathrm{N}'\n",
    "        m4 = r'500\\,\\mathrm{N}'\n",
    "        m5 = r'200\\sqrt{2}\\,\\mathrm{N}'\n",
    "        m6 = r'300\\sqrt{2}\\,\\mathrm{N}'\n",
    "        m7 = r'300\\sqrt{2}\\,\\mathrm{N}'\n",
    "\n",
    "\n",
    "        # Custom function to handle different elements\n",
    "        def custom_element_to_mobject(element, **kwargs):\n",
    "            if element == check:\n",
    "                return Tex(element, color=GREEN, stroke_width=1, **kwargs).scale(0.6)\n",
    "            elif element in [m1, m2, m3, m4, m5, m6, m7]:\n",
    "                return MathTex(element, **kwargs)\n",
    "            else:\n",
    "                return Text(element, font=TABLE_FONT, font_size=28, **kwargs)\n",
    "\n",
    "        table = Table(\n",
    "            [\n",
    "                [\"AB\", \"54\", check, \" \", \" \"],\n",
    "                [\"BC\", \"24\", check, \" \", \" \"],\n",
    "                [\"CE\", \"12\", \" \", check, \" \"],\n",
    "                [\"ED\", \"73\", \" \", check, \" \"],\n",
    "                [\"DA\", \"65\", \" \", check, \" \"],\n",
    "                [\"DB\", \"53\", \" \", \" \", \" \"],\n",
    "                [\"EB\", \"23\", \" \", \" \", \" \"]\n",
    "            ],\n",
    "            col_labels=[\n",
    "                Text(\"දණ්ඩ\", font=TABLE_FONT, font_size=49, color=YELLOW),\n",
    "                Text(\"අංකනය\", font=TABLE_FONT, font_size=49, color=YELLOW),\n",
    "                Text(\"ආතති\", font=TABLE_FONT, font_size=49, color=YELLOW),\n",
    "                Text(\"තෙරපුම්\", font=TABLE_FONT, font_size=49, color=YELLOW),\n",
    "                Text(\"බලය\", font=TABLE_FONT, font_size=49, color=YELLOW)\n",
    "            ],\n",
    "            include_outer_lines=True,\n",
    "            line_config={\"color\": YELLOW, \"stroke_width\": 2},\n",
    "            element_to_mobject=custom_element_to_mobject\n",
    "        )\n",
    "        table.move_to(ORIGIN)\n",
    "        table.scale(0.5)\n",
    "       \n",
    "        self.play(Create(table))\n",
    "        self.wait(3)"
   ]
  },
  {
   "cell_type": "code",
   "execution_count": null,
   "metadata": {},
   "outputs": [
    {
     "data": {
      "text/html": [
       "<pre style=\"white-space:pre;overflow-x:auto;line-height:normal;font-family:Menlo,'DejaVu Sans Mono',consolas,'Courier New',monospace\">Manim Community <span style=\"color: #008000; text-decoration-color: #008000\">v0.19.0</span>\n",
       "\n",
       "</pre>\n"
      ],
      "text/plain": [
       "Manim Community \u001b[32mv0.\u001b[0m\u001b[32m19.0\u001b[0m\n",
       "\n"
      ]
     },
     "metadata": {},
     "output_type": "display_data"
    },
    {
     "name": "stderr",
     "output_type": "stream",
     "text": [
      "                                                                                             \r"
     ]
    },
    {
     "data": {
      "text/html": [
       "<video src=\"media\\jupyter\\Part7@2025-03-04@11-51-46.mp4\" controls autoplay loop style=\"max-width: 60%;\"  >\n",
       "      Your browser does not support the <code>video</code> element.\n",
       "    </video>"
      ],
      "text/plain": [
       "<IPython.core.display.Video object>"
      ]
     },
     "metadata": {},
     "output_type": "display_data"
    }
   ],
   "source": [
    "%%manim -qh -v WARNING Part7\n",
    "\n",
    "class Part7(Scene):\n",
    "\n",
    "    def construct(self):\n",
    "                                \n",
    "        # Use LaTeX strings instead of pre-created Tex objects\n",
    "        check = r'\\checkmark'\n",
    "        m1 = r'200\\,\\mathrm{N}'\n",
    "        m2 = r'1000\\,\\mathrm{N}'\n",
    "        m3 = r'1000\\sqrt{2}\\,\\mathrm{N}'\n",
    "        m4 = r'500\\,\\mathrm{N}'\n",
    "        m5 = r'200\\sqrt{2}\\,\\mathrm{N}'\n",
    "        m6 = r'300\\sqrt{2}\\,\\mathrm{N}'\n",
    "        m7 = r'300\\sqrt{2}\\,\\mathrm{N}'\n",
    "\n",
    "\n",
    "        # Custom function to handle different elements\n",
    "        def custom_element_to_mobject(element, **kwargs):\n",
    "            if element == check:\n",
    "                return Tex(element, color=GREEN, stroke_width=1, **kwargs).scale(0.6)\n",
    "            elif element in [m1, m2, m3, m4, m5, m6, m7]:\n",
    "                return MathTex(element, **kwargs)\n",
    "            else:\n",
    "                return Text(element, font=TABLE_FONT, font_size=28, **kwargs)\n",
    "\n",
    "        table = Table(\n",
    "            [\n",
    "                [\"AB\", \"54\", check, \" \", \" \"],\n",
    "                [\"BC\", \"24\", check, \" \", \" \"],\n",
    "                [\"CE\", \"12\", \" \", check, \" \"],\n",
    "                [\"ED\", \"73\", \" \", check, \" \"],\n",
    "                [\"DA\", \"65\", \" \", \" \", \" \"],\n",
    "                [\"DB\", \"53\", \" \", \" \", \" \"],\n",
    "                [\"EB\", \"23\", \" \", \" \", \" \"]\n",
    "            ],\n",
    "            col_labels=[\n",
    "                Text(\"දණ්ඩ\", font=TABLE_FONT, font_size=49, color=YELLOW),\n",
    "                Text(\"අංකනය\", font=TABLE_FONT, font_size=49, color=YELLOW),\n",
    "                Text(\"ආතති\", font=TABLE_FONT, font_size=49, color=YELLOW),\n",
    "                Text(\"තෙරපුම්\", font=TABLE_FONT, font_size=49, color=YELLOW),\n",
    "                Text(\"බලය\", font=TABLE_FONT, font_size=49, color=YELLOW)\n",
    "            ],\n",
    "            include_outer_lines=True,\n",
    "            line_config={\"color\": YELLOW, \"stroke_width\": 2},\n",
    "            element_to_mobject=custom_element_to_mobject\n",
    "        )\n",
    "        table.move_to(ORIGIN)\n",
    "        table.scale(0.5)\n",
    "       \n",
    "        self.play(Create(table))\n",
    "        self.wait(3)"
   ]
  },
  {
   "cell_type": "code",
   "execution_count": null,
   "metadata": {},
   "outputs": [
    {
     "data": {
      "text/html": [
       "<pre style=\"white-space:pre;overflow-x:auto;line-height:normal;font-family:Menlo,'DejaVu Sans Mono',consolas,'Courier New',monospace\">Manim Community <span style=\"color: #008000; text-decoration-color: #008000\">v0.19.0</span>\n",
       "\n",
       "</pre>\n"
      ],
      "text/plain": [
       "Manim Community \u001b[32mv0.\u001b[0m\u001b[32m19.0\u001b[0m\n",
       "\n"
      ]
     },
     "metadata": {},
     "output_type": "display_data"
    },
    {
     "name": "stderr",
     "output_type": "stream",
     "text": [
      "                                                                                             \r"
     ]
    },
    {
     "data": {
      "text/html": [
       "<video src=\"media\\jupyter\\Part8@2025-03-04@11-52-09.mp4\" controls autoplay loop style=\"max-width: 60%;\"  >\n",
       "      Your browser does not support the <code>video</code> element.\n",
       "    </video>"
      ],
      "text/plain": [
       "<IPython.core.display.Video object>"
      ]
     },
     "metadata": {},
     "output_type": "display_data"
    }
   ],
   "source": [
    "%%manim -qh -v WARNING Part8\n",
    "\n",
    "class Part8(Scene):\n",
    "\n",
    "    def construct(self):\n",
    "                                \n",
    "        # Use LaTeX strings instead of pre-created Tex objects\n",
    "        check = r'\\checkmark'\n",
    "        m1 = r'200\\,\\mathrm{N}'\n",
    "        m2 = r'1000\\,\\mathrm{N}'\n",
    "        m3 = r'1000\\sqrt{2}\\,\\mathrm{N}'\n",
    "        m4 = r'500\\,\\mathrm{N}'\n",
    "        m5 = r'200\\sqrt{2}\\,\\mathrm{N}'\n",
    "        m6 = r'300\\sqrt{2}\\,\\mathrm{N}'\n",
    "        m7 = r'300\\sqrt{2}\\,\\mathrm{N}'\n",
    "\n",
    "\n",
    "        # Custom function to handle different elements\n",
    "        def custom_element_to_mobject(element, **kwargs):\n",
    "            if element == check:\n",
    "                return Tex(element, color=GREEN, stroke_width=1, **kwargs).scale(0.6)\n",
    "            elif element in [m1, m2, m3, m4, m5, m6, m7]:\n",
    "                return MathTex(element, **kwargs)\n",
    "            else:\n",
    "                return Text(element, font=TABLE_FONT, font_size=28, **kwargs)\n",
    "\n",
    "        table = Table(\n",
    "            [\n",
    "                [\"AB\", \"54\", check, \" \", \" \"],\n",
    "                [\"BC\", \"24\", check, \" \", \" \"],\n",
    "                [\"CE\", \"12\", \" \", check, \" \"],\n",
    "                [\"ED\", \"73\", \" \", \" \", \" \"],\n",
    "                [\"DA\", \"65\", \" \", \" \", \" \"],\n",
    "                [\"DB\", \"53\", \" \", \" \", \" \"],\n",
    "                [\"EB\", \"23\", \" \", \" \", \" \"]\n",
    "            ],\n",
    "            col_labels=[\n",
    "                Text(\"දණ්ඩ\", font=TABLE_FONT, font_size=49, color=YELLOW),\n",
    "                Text(\"අංකනය\", font=TABLE_FONT, font_size=49, color=YELLOW),\n",
    "                Text(\"ආතති\", font=TABLE_FONT, font_size=49, color=YELLOW),\n",
    "                Text(\"තෙරපුම්\", font=TABLE_FONT, font_size=49, color=YELLOW),\n",
    "                Text(\"බලය\", font=TABLE_FONT, font_size=49, color=YELLOW)\n",
    "            ],\n",
    "            include_outer_lines=True,\n",
    "            line_config={\"color\": YELLOW, \"stroke_width\": 2},\n",
    "            element_to_mobject=custom_element_to_mobject\n",
    "        )\n",
    "        table.move_to(ORIGIN)\n",
    "        table.scale(0.5)\n",
    "       \n",
    "        self.play(Create(table))\n",
    "        self.wait(3)"
   ]
  },
  {
   "cell_type": "code",
   "execution_count": null,
   "metadata": {},
   "outputs": [
    {
     "data": {
      "text/html": [
       "<pre style=\"white-space:pre;overflow-x:auto;line-height:normal;font-family:Menlo,'DejaVu Sans Mono',consolas,'Courier New',monospace\">Manim Community <span style=\"color: #008000; text-decoration-color: #008000\">v0.19.0</span>\n",
       "\n",
       "</pre>\n"
      ],
      "text/plain": [
       "Manim Community \u001b[32mv0.\u001b[0m\u001b[32m19.0\u001b[0m\n",
       "\n"
      ]
     },
     "metadata": {},
     "output_type": "display_data"
    },
    {
     "name": "stderr",
     "output_type": "stream",
     "text": [
      "                                                                                             \r"
     ]
    },
    {
     "data": {
      "text/html": [
       "<video src=\"media\\jupyter\\Part9@2025-03-04@11-52-56.mp4\" controls autoplay loop style=\"max-width: 60%;\"  >\n",
       "      Your browser does not support the <code>video</code> element.\n",
       "    </video>"
      ],
      "text/plain": [
       "<IPython.core.display.Video object>"
      ]
     },
     "metadata": {},
     "output_type": "display_data"
    }
   ],
   "source": [
    "%%manim -qh -v WARNING Part9\n",
    "\n",
    "class Part9(Scene):\n",
    "\n",
    "    def construct(self):\n",
    "                                \n",
    "        # Use LaTeX strings instead of pre-created Tex objects\n",
    "        check = r'\\checkmark'\n",
    "        m1 = r'200\\,\\mathrm{N}'\n",
    "        m2 = r'1000\\,\\mathrm{N}'\n",
    "        m3 = r'1000\\sqrt{2}\\,\\mathrm{N}'\n",
    "        m4 = r'500\\,\\mathrm{N}'\n",
    "        m5 = r'200\\sqrt{2}\\,\\mathrm{N}'\n",
    "        m6 = r'300\\sqrt{2}\\,\\mathrm{N}'\n",
    "        m7 = r'300\\sqrt{2}\\,\\mathrm{N}'\n",
    "\n",
    "\n",
    "        # Custom function to handle different elements\n",
    "        def custom_element_to_mobject(element, **kwargs):\n",
    "            if element == check:\n",
    "                return Tex(element, color=GREEN, stroke_width=1, **kwargs).scale(0.6)\n",
    "            elif element in [m1, m2, m3, m4, m5, m6, m7]:\n",
    "                return MathTex(element, **kwargs)\n",
    "            else:\n",
    "                return Text(element, font=TABLE_FONT, font_size=28, **kwargs)\n",
    "\n",
    "        table = Table(\n",
    "            [\n",
    "                [\"AB\", \"54\", check, \" \", \" \"],\n",
    "                [\"BC\", \"24\", check, \" \", \" \"],\n",
    "                [\"CE\", \"12\", \" \", \" \", \" \"],\n",
    "                [\"ED\", \"73\", \" \", \" \", \" \"],\n",
    "                [\"DA\", \"65\", \" \", \" \", \" \"],\n",
    "                [\"DB\", \"53\", \" \", \" \", \" \"],\n",
    "                [\"EB\", \"23\", \" \", \" \", \" \"]\n",
    "            ],\n",
    "            col_labels=[\n",
    "                Text(\"දණ්ඩ\", font=TABLE_FONT, font_size=49, color=YELLOW),\n",
    "                Text(\"අංකනය\", font=TABLE_FONT, font_size=49, color=YELLOW),\n",
    "                Text(\"ආතති\", font=TABLE_FONT, font_size=49, color=YELLOW),\n",
    "                Text(\"තෙරපුම්\", font=TABLE_FONT, font_size=49, color=YELLOW),\n",
    "                Text(\"බලය\", font=TABLE_FONT, font_size=49, color=YELLOW)\n",
    "            ],\n",
    "            include_outer_lines=True,\n",
    "            line_config={\"color\": YELLOW, \"stroke_width\": 2},\n",
    "            element_to_mobject=custom_element_to_mobject\n",
    "        )\n",
    "        table.move_to(ORIGIN)\n",
    "        table.scale(0.5)\n",
    "       \n",
    "        self.play(Create(table))\n",
    "        self.wait(3)"
   ]
  },
  {
   "cell_type": "code",
   "execution_count": null,
   "metadata": {},
   "outputs": [
    {
     "data": {
      "text/html": [
       "<pre style=\"white-space:pre;overflow-x:auto;line-height:normal;font-family:Menlo,'DejaVu Sans Mono',consolas,'Courier New',monospace\">Manim Community <span style=\"color: #008000; text-decoration-color: #008000\">v0.19.0</span>\n",
       "\n",
       "</pre>\n"
      ],
      "text/plain": [
       "Manim Community \u001b[32mv0.\u001b[0m\u001b[32m19.0\u001b[0m\n",
       "\n"
      ]
     },
     "metadata": {},
     "output_type": "display_data"
    },
    {
     "name": "stderr",
     "output_type": "stream",
     "text": [
      "                                                                                             \r"
     ]
    },
    {
     "data": {
      "text/html": [
       "<video src=\"media\\jupyter\\Part10@2025-03-04@11-53-06.mp4\" controls autoplay loop style=\"max-width: 60%;\"  >\n",
       "      Your browser does not support the <code>video</code> element.\n",
       "    </video>"
      ],
      "text/plain": [
       "<IPython.core.display.Video object>"
      ]
     },
     "metadata": {},
     "output_type": "display_data"
    }
   ],
   "source": [
    "%%manim -qh -v WARNING Part10\n",
    "\n",
    "class Part10(Scene):\n",
    "\n",
    "    def construct(self):\n",
    "                                \n",
    "        # Use LaTeX strings instead of pre-created Tex objects\n",
    "        check = r'\\checkmark'\n",
    "        m1 = r'200\\,\\mathrm{N}'\n",
    "        m2 = r'1000\\,\\mathrm{N}'\n",
    "        m3 = r'1000\\sqrt{2}\\,\\mathrm{N}'\n",
    "        m4 = r'500\\,\\mathrm{N}'\n",
    "        m5 = r'200\\sqrt{2}\\,\\mathrm{N}'\n",
    "        m6 = r'300\\sqrt{2}\\,\\mathrm{N}'\n",
    "        m7 = r'300\\sqrt{2}\\,\\mathrm{N}'\n",
    "\n",
    "\n",
    "        # Custom function to handle different elements\n",
    "        def custom_element_to_mobject(element, **kwargs):\n",
    "            if element == check:\n",
    "                return Tex(element, color=GREEN, stroke_width=1, **kwargs).scale(0.6)\n",
    "            elif element in [m1, m2, m3, m4, m5, m6, m7]:\n",
    "                return MathTex(element, **kwargs)\n",
    "            else:\n",
    "                return Text(element, font=TABLE_FONT, font_size=28, **kwargs)\n",
    "\n",
    "        table = Table(\n",
    "            [\n",
    "                [\"AB\", \"54\", check, \" \", \" \"],\n",
    "                [\"BC\", \"24\", \" \", \" \", \" \"],\n",
    "                [\"CE\", \"12\", \" \", \" \", \" \"],\n",
    "                [\"ED\", \"73\", \" \", \" \", \" \"],\n",
    "                [\"DA\", \"65\", \" \", \" \", \" \"],\n",
    "                [\"DB\", \"53\", \" \", \" \", \" \"],\n",
    "                [\"EB\", \"23\", \" \", \" \", \" \"]\n",
    "            ],\n",
    "            col_labels=[\n",
    "                Text(\"දණ්ඩ\", font=TABLE_FONT, font_size=49, color=YELLOW),\n",
    "                Text(\"අංකනය\", font=TABLE_FONT, font_size=49, color=YELLOW),\n",
    "                Text(\"ආතති\", font=TABLE_FONT, font_size=49, color=YELLOW),\n",
    "                Text(\"තෙරපුම්\", font=TABLE_FONT, font_size=49, color=YELLOW),\n",
    "                Text(\"බලය\", font=TABLE_FONT, font_size=49, color=YELLOW)\n",
    "            ],\n",
    "            include_outer_lines=True,\n",
    "            line_config={\"color\": YELLOW, \"stroke_width\": 2},\n",
    "            element_to_mobject=custom_element_to_mobject\n",
    "        )\n",
    "        table.move_to(ORIGIN)\n",
    "        table.scale(0.5)\n",
    "       \n",
    "        self.play(Create(table))\n",
    "        self.wait(3)"
   ]
  },
  {
   "cell_type": "code",
   "execution_count": null,
   "metadata": {},
   "outputs": [
    {
     "data": {
      "text/html": [
       "<pre style=\"white-space:pre;overflow-x:auto;line-height:normal;font-family:Menlo,'DejaVu Sans Mono',consolas,'Courier New',monospace\">Manim Community <span style=\"color: #008000; text-decoration-color: #008000\">v0.19.0</span>\n",
       "\n",
       "</pre>\n"
      ],
      "text/plain": [
       "Manim Community \u001b[32mv0.\u001b[0m\u001b[32m19.0\u001b[0m\n",
       "\n"
      ]
     },
     "metadata": {},
     "output_type": "display_data"
    },
    {
     "name": "stderr",
     "output_type": "stream",
     "text": [
      "                                                                                             \r"
     ]
    },
    {
     "data": {
      "text/html": [
       "<video src=\"media\\jupyter\\Part11@2025-03-04@11-53-28.mp4\" controls autoplay loop style=\"max-width: 60%;\"  >\n",
       "      Your browser does not support the <code>video</code> element.\n",
       "    </video>"
      ],
      "text/plain": [
       "<IPython.core.display.Video object>"
      ]
     },
     "metadata": {},
     "output_type": "display_data"
    }
   ],
   "source": [
    "%%manim -qh -v WARNING Part11\n",
    "\n",
    "class Part11(Scene):\n",
    "\n",
    "    def construct(self):\n",
    "                                \n",
    "        # Use LaTeX strings instead of pre-created Tex objects\n",
    "        check = r'\\checkmark'\n",
    "        m1 = r'200\\,\\mathrm{N}'\n",
    "        m2 = r'1000\\,\\mathrm{N}'\n",
    "        m3 = r'1000\\sqrt{2}\\,\\mathrm{N}'\n",
    "        m4 = r'500\\,\\mathrm{N}'\n",
    "        m5 = r'200\\sqrt{2}\\,\\mathrm{N}'\n",
    "        m6 = r'300\\sqrt{2}\\,\\mathrm{N}'\n",
    "        m7 = r'300\\sqrt{2}\\,\\mathrm{N}'\n",
    "\n",
    "\n",
    "        # Custom function to handle different elements\n",
    "        def custom_element_to_mobject(element, **kwargs):\n",
    "            if element == check:\n",
    "                return Tex(element, color=GREEN, stroke_width=1, **kwargs).scale(0.6)\n",
    "            elif element in [m1, m2, m3, m4, m5, m6, m7]:\n",
    "                return MathTex(element, **kwargs)\n",
    "            else:\n",
    "                return Text(element, font=TABLE_FONT, font_size=28, **kwargs)\n",
    "\n",
    "        table = Table(\n",
    "            [\n",
    "                [\"AB\", \"54\", \" \", \" \", \" \"],\n",
    "                [\"BC\", \"24\", \" \", \" \", \" \"],\n",
    "                [\"CE\", \"12\", \" \", \" \", \" \"],\n",
    "                [\"ED\", \"73\", \" \", \" \", \" \"],\n",
    "                [\"DA\", \"65\", \" \", \" \", \" \"],\n",
    "                [\"DB\", \"53\", \" \", \" \", \" \"],\n",
    "                [\"EB\", \"23\", \" \", \" \", \" \"]\n",
    "            ],\n",
    "            col_labels=[\n",
    "                Text(\"දණ්ඩ\", font=TABLE_FONT, font_size=49, color=YELLOW),\n",
    "                Text(\"අංකනය\", font=TABLE_FONT, font_size=49, color=YELLOW),\n",
    "                Text(\"ආතති\", font=TABLE_FONT, font_size=49, color=YELLOW),\n",
    "                Text(\"තෙරපුම්\", font=TABLE_FONT, font_size=49, color=YELLOW),\n",
    "                Text(\"බලය\", font=TABLE_FONT, font_size=49, color=YELLOW)\n",
    "            ],\n",
    "            include_outer_lines=True,\n",
    "            line_config={\"color\": YELLOW, \"stroke_width\": 2},\n",
    "            element_to_mobject=custom_element_to_mobject\n",
    "        )\n",
    "        table.move_to(ORIGIN)\n",
    "        table.scale(0.5)\n",
    "       \n",
    "        self.play(Create(table))\n",
    "        self.wait(3)"
   ]
  },
  {
   "cell_type": "code",
   "execution_count": 27,
   "metadata": {},
   "outputs": [
    {
     "data": {
      "text/html": [
       "<pre style=\"white-space:pre;overflow-x:auto;line-height:normal;font-family:Menlo,'DejaVu Sans Mono',consolas,'Courier New',monospace\">Manim Community <span style=\"color: #008000; text-decoration-color: #008000\">v0.19.0</span>\n",
       "\n",
       "</pre>\n"
      ],
      "text/plain": [
       "Manim Community \u001b[32mv0.\u001b[0m\u001b[32m19.0\u001b[0m\n",
       "\n"
      ]
     },
     "metadata": {},
     "output_type": "display_data"
    },
    {
     "name": "stderr",
     "output_type": "stream",
     "text": [
      "                                                                                             \r"
     ]
    },
    {
     "data": {
      "text/html": [
       "<video src=\"media\\jupyter\\Part12@2025-03-04@12-45-40.mp4\" controls autoplay loop style=\"max-width: 60%;\"  >\n",
       "      Your browser does not support the <code>video</code> element.\n",
       "    </video>"
      ],
      "text/plain": [
       "<IPython.core.display.Video object>"
      ]
     },
     "metadata": {},
     "output_type": "display_data"
    }
   ],
   "source": [
    "%%manim -qh -v WARNING Part12\n",
    "\n",
    "class Part12(Scene):     \n",
    "   \n",
    "    def construct(self):\n",
    "        answer = SVGMobject(r\"C:\\Users\\savit\\Downloads\\Mathematics Animations\\Video1\\svg02.svg\")\n",
    "        answer.scale(3)\n",
    "        answer.move_to(np.array([1, 0, 0]))\n",
    "\n",
    "        answer0= answer.submobjects[0]\n",
    "        answer1 = answer.submobjects[1]\n",
    "        answer2 = answer.submobjects[2]\n",
    "        answer3= answer.submobjects[3]\n",
    "        answer4= answer.submobjects[4]\n",
    "        answer5 = answer.submobjects[5]\n",
    "        answer6 = answer.submobjects[6]\n",
    "        answer7 = answer.submobjects[7]\n",
    "        answer8 = answer.submobjects[8]\n",
    "        answer9 = answer.submobjects[9]\n",
    "        answer10= answer.submobjects[10]\n",
    "        answer11 = answer.submobjects[11]\n",
    "        answer12 = answer.submobjects[12]\n",
    "        answer13 = answer.submobjects[13]\n",
    "        answer14 = answer.submobjects[14]\n",
    "        answer15= answer.submobjects[15]\n",
    "        answer16= answer.submobjects[16]\n",
    "\n",
    "        answer0.set_opacity(0)\n",
    "        answer1.set_opacity(0)\n",
    "        answer2.set_opacity(0)\n",
    "        answer3.set_opacity(0)\n",
    "        answer4.set_opacity(0)\n",
    "        answer5.set_opacity(0)\n",
    "        answer6.set_opacity(0)\n",
    "        answer7.set_opacity(0)\n",
    "        answer8.set_opacity(0)\n",
    "        answer9.set_opacity(0)\n",
    "        answer10.set_opacity(0)\n",
    "        answer11.set_opacity(0)\n",
    "        answer12.set_opacity(0)\n",
    "        answer13.set_opacity(0)\n",
    "        answer14.set_opacity(0)\n",
    "        answer15.set_opacity(0)\n",
    "        answer16.set_opacity(0)\n",
    "\n",
    "        superline0=Line(start=answer0.get_end(),end=answer0.get_start(), buff=0)\n",
    "        superline1=DashedLine(start=answer1.get_start(),end=answer1.get_end(), buff=0)\n",
    "        superline2=Line(start=answer2.get_start(),end=answer2.get_end(), buff=0)\n",
    "        superline3=DashedLine(start=answer3.get_start(),end=answer3.get_end(), buff=0)\n",
    "        superline4=Line(start=answer4.get_start(),end=answer4.get_end(), buff=0)        \n",
    "        superline5=Line(start=answer5.get_start(),end=answer5.get_end(), buff=0)\n",
    "        superline6=DashedLine(start=answer6.get_start(),end=answer6.get_end(), buff=0)\n",
    "        superline7=DashedLine(start=answer7.get_start(),end=answer7.get_end(), buff=0)\n",
    "        superline8=DashedLine(start=answer8.get_start(),end=answer8.get_end(), buff=0)\n",
    "        superline9=Line(start=answer9.get_end(),end=answer9.get_start(), buff=0)\n",
    "        superline10=DashedLine(start=answer10.get_start(),end=answer10.get_end(), buff=0)\n",
    "        superline11=DashedLine(start=answer11.get_start(),end=answer11.get_end(), buff=0)\n",
    "        superline12=DashedLine(start=answer12.get_start(),end=answer12.get_end(), buff=0)\n",
    "        superline13=Line(start=answer13.get_start(),end=answer13.get_end(), buff=0)        \n",
    "        superline14=Line(start=answer14.get_start(),end=answer14.get_end(), buff=0)\n",
    "        superline15=Line(start=answer15.get_start(),end=answer15.get_end(), buff=0)            \n",
    "        superline16=Line(start=answer16.get_start(),end=answer16.get_end(), buff=0)  \n",
    "\n",
    "        text_label1 = Text(\"1\")\n",
    "        text_label1.next_to(superline0.get_start(), buff=0.2)\n",
    "        \n",
    "        text_label4 = Text(\"4\")\n",
    "        text_label4.next_to(superline0.get_end(), buff=0.2)\n",
    "\n",
    "        self.play(Create(VGroup(superline0,text_label1,text_label4)))\n",
    "        self.wait(1)\n",
    "        "
   ]
  },
  {
   "cell_type": "code",
   "execution_count": 33,
   "metadata": {},
   "outputs": [
    {
     "data": {
      "text/html": [
       "<pre style=\"white-space:pre;overflow-x:auto;line-height:normal;font-family:Menlo,'DejaVu Sans Mono',consolas,'Courier New',monospace\">Manim Community <span style=\"color: #008000; text-decoration-color: #008000\">v0.19.0</span>\n",
       "\n",
       "</pre>\n"
      ],
      "text/plain": [
       "Manim Community \u001b[32mv0.\u001b[0m\u001b[32m19.0\u001b[0m\n",
       "\n"
      ]
     },
     "metadata": {},
     "output_type": "display_data"
    },
    {
     "name": "stderr",
     "output_type": "stream",
     "text": [
      "                                                                                             \r"
     ]
    },
    {
     "data": {
      "text/html": [
       "<video src=\"media\\jupyter\\Part13@2025-03-04@12-56-18.mp4\" controls autoplay loop style=\"max-width: 60%;\"  >\n",
       "      Your browser does not support the <code>video</code> element.\n",
       "    </video>"
      ],
      "text/plain": [
       "<IPython.core.display.Video object>"
      ]
     },
     "metadata": {},
     "output_type": "display_data"
    }
   ],
   "source": [
    "%%manim -qh -v WARNING Part13\n",
    "\n",
    "\n",
    "class Part13(Scene):     \n",
    "   \n",
    "    def construct(self):\n",
    "        answer = SVGMobject(r\"C:\\Users\\savit\\Downloads\\Mathematics Animations\\Video1\\svg02.svg\")\n",
    "        answer.scale(3)\n",
    "        answer.move_to(np.array([1, 0, 0]))\n",
    "\n",
    "        answer0= answer.submobjects[0]\n",
    "        answer1 = answer.submobjects[1]\n",
    "        answer2 = answer.submobjects[2]\n",
    "        answer3= answer.submobjects[3]\n",
    "        answer4= answer.submobjects[4]\n",
    "        answer5 = answer.submobjects[5]\n",
    "        answer6 = answer.submobjects[6]\n",
    "        answer7 = answer.submobjects[7]\n",
    "        answer8 = answer.submobjects[8]\n",
    "        answer9 = answer.submobjects[9]\n",
    "        answer10= answer.submobjects[10]\n",
    "        answer11 = answer.submobjects[11]\n",
    "        answer12 = answer.submobjects[12]\n",
    "        answer13 = answer.submobjects[13]\n",
    "        answer14 = answer.submobjects[14]\n",
    "        answer15= answer.submobjects[15]\n",
    "        answer16= answer.submobjects[16]\n",
    "\n",
    "        answer0.set_opacity(0)\n",
    "        answer1.set_opacity(0)\n",
    "        answer2.set_opacity(0)\n",
    "        answer3.set_opacity(0)\n",
    "        answer4.set_opacity(0)\n",
    "        answer5.set_opacity(0)\n",
    "        answer6.set_opacity(0)\n",
    "        answer7.set_opacity(0)\n",
    "        answer8.set_opacity(0)\n",
    "        answer9.set_opacity(0)\n",
    "        answer10.set_opacity(0)\n",
    "        answer11.set_opacity(0)\n",
    "        answer12.set_opacity(0)\n",
    "        answer13.set_opacity(0)\n",
    "        answer14.set_opacity(0)\n",
    "        answer15.set_opacity(0)\n",
    "        answer16.set_opacity(0)\n",
    "\n",
    "        superline0=Line(start=answer0.get_end(),end=answer0.get_start(), buff=0)\n",
    "        superline1=DashedLine(start=answer1.get_start(),end=answer1.get_end(), buff=0)\n",
    "        superline2=Line(start=answer2.get_start(),end=answer2.get_end(), buff=0)\n",
    "        superline3=DashedLine(start=answer3.get_start(),end=answer3.get_end(), buff=0)\n",
    "        superline4=Line(start=answer4.get_start(),end=answer4.get_end(), buff=0)        \n",
    "        superline5=Line(start=answer5.get_start(),end=answer5.get_end(), buff=0)\n",
    "        superline6=DashedLine(start=answer6.get_start(),end=answer6.get_end(), buff=0)\n",
    "        superline7=DashedLine(start=answer7.get_start(),end=answer7.get_end(), buff=0)\n",
    "        superline8=DashedLine(start=answer8.get_start(),end=answer8.get_end(), buff=0)\n",
    "        superline9=Line(start=answer9.get_end(),end=answer9.get_start(), buff=0)\n",
    "        superline10=DashedLine(start=answer10.get_start(),end=answer10.get_end(), buff=0)\n",
    "        superline11=DashedLine(start=answer11.get_start(),end=answer11.get_end(), buff=0)\n",
    "        superline12=DashedLine(start=answer12.get_start(),end=answer12.get_end(), buff=0)\n",
    "        superline13=Line(start=answer13.get_start(),end=answer13.get_end(), buff=0)        \n",
    "        superline14=Line(start=answer14.get_start(),end=answer14.get_end(), buff=0)\n",
    "        superline15=Line(start=answer15.get_start(),end=answer15.get_end(), buff=0)            \n",
    "        superline16=Line(start=answer16.get_start(),end=answer16.get_end(), buff=0)  \n",
    "       \n",
    "        text_label1 = Text(\"1\")\n",
    "        text_label1.next_to(superline0.get_start(), buff=0.2)\n",
    "        \n",
    "        text_label4 = Text(\"4\")\n",
    "        text_label4.next_to(superline0.get_end(), buff=0.2,direction=DOWN)\n",
    "\n",
    "        text_label2 = Text(\"2\")\n",
    "        text_label2.next_to(superline1.get_end(), buff=0.2,direction=DOWN)\n",
    "\n",
    "        self.play(Create(VGroup(superline0,superline1,text_label1,text_label4,text_label2)))\n",
    "        self.wait(1)"
   ]
  },
  {
   "cell_type": "code",
   "execution_count": 35,
   "metadata": {},
   "outputs": [
    {
     "data": {
      "text/html": [
       "<pre style=\"white-space:pre;overflow-x:auto;line-height:normal;font-family:Menlo,'DejaVu Sans Mono',consolas,'Courier New',monospace\">Manim Community <span style=\"color: #008000; text-decoration-color: #008000\">v0.19.0</span>\n",
       "\n",
       "</pre>\n"
      ],
      "text/plain": [
       "Manim Community \u001b[32mv0.\u001b[0m\u001b[32m19.0\u001b[0m\n",
       "\n"
      ]
     },
     "metadata": {},
     "output_type": "display_data"
    },
    {
     "name": "stderr",
     "output_type": "stream",
     "text": [
      "                                                                                   \r"
     ]
    },
    {
     "data": {
      "text/html": [
       "<video src=\"media\\jupyter\\Part14@2025-03-04@13-02-28.mp4\" controls autoplay loop style=\"max-width: 60%;\"  >\n",
       "      Your browser does not support the <code>video</code> element.\n",
       "    </video>"
      ],
      "text/plain": [
       "<IPython.core.display.Video object>"
      ]
     },
     "metadata": {},
     "output_type": "display_data"
    }
   ],
   "source": [
    "%%manim -qh -v WARNING Part14\n",
    "\n",
    "class Part14(Scene):     \n",
    "   \n",
    "    def construct(self):\n",
    "        answer = SVGMobject(r\"C:\\Users\\savit\\Downloads\\Mathematics Animations\\Video1\\svg02.svg\")\n",
    "        answer.scale(3)\n",
    "        answer.move_to(np.array([1, 0, 0]))\n",
    "\n",
    "        answer0= answer.submobjects[0]\n",
    "        answer1 = answer.submobjects[1]\n",
    "        answer2 = answer.submobjects[2]\n",
    "        answer3= answer.submobjects[3]\n",
    "        answer4= answer.submobjects[4]\n",
    "        answer5 = answer.submobjects[5]\n",
    "        answer6 = answer.submobjects[6]\n",
    "        answer7 = answer.submobjects[7]\n",
    "        answer8 = answer.submobjects[8]\n",
    "        answer9 = answer.submobjects[9]\n",
    "        answer10= answer.submobjects[10]\n",
    "        answer11 = answer.submobjects[11]\n",
    "        answer12 = answer.submobjects[12]\n",
    "        answer13 = answer.submobjects[13]\n",
    "        answer14 = answer.submobjects[14]\n",
    "        answer15= answer.submobjects[15]\n",
    "        answer16= answer.submobjects[16]\n",
    "\n",
    "        answer0.set_opacity(0)\n",
    "        answer1.set_opacity(0)\n",
    "        answer2.set_opacity(0)\n",
    "        answer3.set_opacity(0)\n",
    "        answer4.set_opacity(0)\n",
    "        answer5.set_opacity(0)\n",
    "        answer6.set_opacity(0)\n",
    "        answer7.set_opacity(0)\n",
    "        answer8.set_opacity(0)\n",
    "        answer9.set_opacity(0)\n",
    "        answer10.set_opacity(0)\n",
    "        answer11.set_opacity(0)\n",
    "        answer12.set_opacity(0)\n",
    "        answer13.set_opacity(0)\n",
    "        answer14.set_opacity(0)\n",
    "        answer15.set_opacity(0)\n",
    "        answer16.set_opacity(0)\n",
    "\n",
    "        superline0=Line(start=answer0.get_end(),end=answer0.get_start(), buff=0)\n",
    "        superline1=DashedLine(start=answer1.get_start(),end=answer1.get_end(), buff=0)\n",
    "        superline2=Line(start=answer2.get_start(),end=answer2.get_end(), buff=0)\n",
    "        superline3=DashedLine(start=answer3.get_start(),end=answer3.get_end(), buff=0)\n",
    "        superline4=Line(start=answer4.get_start(),end=answer4.get_end(), buff=0)        \n",
    "        superline5=Line(start=answer5.get_start(),end=answer5.get_end(), buff=0)\n",
    "        superline6=DashedLine(start=answer6.get_start(),end=answer6.get_end(), buff=0)\n",
    "        superline7=DashedLine(start=answer7.get_start(),end=answer7.get_end(), buff=0)\n",
    "        superline8=DashedLine(start=answer8.get_start(),end=answer8.get_end(), buff=0)\n",
    "        superline9=Line(start=answer9.get_end(),end=answer9.get_start(), buff=0)\n",
    "        superline10=DashedLine(start=answer10.get_start(),end=answer10.get_end(), buff=0)\n",
    "        superline11=DashedLine(start=answer11.get_start(),end=answer11.get_end(), buff=0)\n",
    "        superline12=DashedLine(start=answer12.get_start(),end=answer12.get_end(), buff=0)\n",
    "        superline13=Line(start=answer13.get_start(),end=answer13.get_end(), buff=0)        \n",
    "        superline14=Line(start=answer14.get_start(),end=answer14.get_end(), buff=0)\n",
    "        superline15=Line(start=answer15.get_start(),end=answer15.get_end(), buff=0)            \n",
    "        superline16=Line(start=answer16.get_start(),end=answer16.get_end(), buff=0)  \n",
    "\n",
    "        text_label1 = Text(\"1\")\n",
    "        text_label1.next_to(superline0.get_start(), buff=0.2)\n",
    "        \n",
    "        text_label4 = Text(\"4\")\n",
    "        text_label4.next_to(superline0.get_end(), buff=0.2,direction=DOWN)\n",
    "\n",
    "        text_label2 = Text(\"2\")\n",
    "        text_label2.next_to(superline1.get_end(), buff=0.2,direction=DOWN)\n",
    "\n",
    "        self.play(Create(VGroup(superline0,superline1,superline3,text_label1,text_label4,text_label2)))\n",
    "        self.wait(1)\n"
   ]
  },
  {
   "cell_type": "code",
   "execution_count": 38,
   "metadata": {},
   "outputs": [
    {
     "data": {
      "text/html": [
       "<pre style=\"white-space:pre;overflow-x:auto;line-height:normal;font-family:Menlo,'DejaVu Sans Mono',consolas,'Courier New',monospace\">Manim Community <span style=\"color: #008000; text-decoration-color: #008000\">v0.19.0</span>\n",
       "\n",
       "</pre>\n"
      ],
      "text/plain": [
       "Manim Community \u001b[32mv0.\u001b[0m\u001b[32m19.0\u001b[0m\n",
       "\n"
      ]
     },
     "metadata": {},
     "output_type": "display_data"
    },
    {
     "name": "stderr",
     "output_type": "stream",
     "text": [
      "                                                                                             \r"
     ]
    },
    {
     "data": {
      "text/html": [
       "<video src=\"media\\jupyter\\Part15@2025-03-04@13-04-43.mp4\" controls autoplay loop style=\"max-width: 60%;\"  >\n",
       "      Your browser does not support the <code>video</code> element.\n",
       "    </video>"
      ],
      "text/plain": [
       "<IPython.core.display.Video object>"
      ]
     },
     "metadata": {},
     "output_type": "display_data"
    }
   ],
   "source": [
    "%%manim -qh -v WARNING Part15\n",
    "\n",
    "class Part15(Scene):     \n",
    "   \n",
    "    def construct(self):\n",
    "        answer = SVGMobject(r\"C:\\Users\\savit\\Downloads\\Mathematics Animations\\Video1\\svg02.svg\")\n",
    "        answer.scale(3)\n",
    "        answer.move_to(np.array([1, 0, 0]))\n",
    "\n",
    "        answer0= answer.submobjects[0]\n",
    "        answer1 = answer.submobjects[1]\n",
    "        answer2 = answer.submobjects[2]\n",
    "        answer3= answer.submobjects[3]\n",
    "        answer4= answer.submobjects[4]\n",
    "        answer5 = answer.submobjects[5]\n",
    "        answer6 = answer.submobjects[6]\n",
    "        answer7 = answer.submobjects[7]\n",
    "        answer8 = answer.submobjects[8]\n",
    "        answer9 = answer.submobjects[9]\n",
    "        answer10= answer.submobjects[10]\n",
    "        answer11 = answer.submobjects[11]\n",
    "        answer12 = answer.submobjects[12]\n",
    "        answer13 = answer.submobjects[13]\n",
    "        answer14 = answer.submobjects[14]\n",
    "        answer15= answer.submobjects[15]\n",
    "        answer16= answer.submobjects[16]\n",
    "\n",
    "        answer0.set_opacity(0)\n",
    "        answer1.set_opacity(0)\n",
    "        answer2.set_opacity(0)\n",
    "        answer3.set_opacity(0)\n",
    "        answer4.set_opacity(0)\n",
    "        answer5.set_opacity(0)\n",
    "        answer6.set_opacity(0)\n",
    "        answer7.set_opacity(0)\n",
    "        answer8.set_opacity(0)\n",
    "        answer9.set_opacity(0)\n",
    "        answer10.set_opacity(0)\n",
    "        answer11.set_opacity(0)\n",
    "        answer12.set_opacity(0)\n",
    "        answer13.set_opacity(0)\n",
    "        answer14.set_opacity(0)\n",
    "        answer15.set_opacity(0)\n",
    "        answer16.set_opacity(0)\n",
    "\n",
    "        superline0=Line(start=answer0.get_end(),end=answer0.get_start(), buff=0)\n",
    "        superline1=DashedLine(start=answer1.get_start(),end=answer1.get_end(), buff=0)\n",
    "        superline2=Line(start=answer2.get_start(),end=answer2.get_end(), buff=0)\n",
    "        superline3=DashedLine(start=answer3.get_start(),end=answer3.get_end(), buff=0)\n",
    "        superline4=Line(start=answer4.get_start(),end=answer4.get_end(), buff=0)        \n",
    "        superline5=Line(start=answer5.get_start(),end=answer5.get_end(), buff=0)\n",
    "        superline6=DashedLine(start=answer6.get_start(),end=answer6.get_end(), buff=0)\n",
    "        superline7=DashedLine(start=answer7.get_start(),end=answer7.get_end(), buff=0)\n",
    "        superline8=DashedLine(start=answer8.get_start(),end=answer8.get_end(), buff=0)\n",
    "        superline9=Line(start=answer9.get_end(),end=answer9.get_start(), buff=0)\n",
    "        superline10=DashedLine(start=answer10.get_start(),end=answer10.get_end(), buff=0)\n",
    "        superline11=DashedLine(start=answer11.get_start(),end=answer11.get_end(), buff=0)\n",
    "        superline12=DashedLine(start=answer12.get_start(),end=answer12.get_end(), buff=0)\n",
    "        superline13=Line(start=answer13.get_start(),end=answer13.get_end(), buff=0)        \n",
    "        superline14=Line(start=answer14.get_start(),end=answer14.get_end(), buff=0)\n",
    "        superline15=Line(start=answer15.get_start(),end=answer15.get_end(), buff=0)            \n",
    "        superline16=Line(start=answer16.get_start(),end=answer16.get_end(), buff=0)  \n",
    "\n",
    "        text_label1 = Text(\"1\")\n",
    "        text_label1.next_to(superline0.get_start(), buff=0.2)\n",
    "        \n",
    "        text_label4 = Text(\"4\")\n",
    "        text_label4.next_to(superline0.get_end(), buff=0.2,direction=DOWN)\n",
    "\n",
    "        text_label2 = Text(\"2\")\n",
    "        text_label2.next_to(superline2.get_end(), buff=0.2,direction=DOWN)\n",
    "\n",
    "        self.play(Create(VGroup(superline0,superline2,superline4,text_label1,text_label4,text_label2)))\n",
    "        self.wait(1)"
   ]
  },
  {
   "cell_type": "code",
   "execution_count": 45,
   "metadata": {},
   "outputs": [
    {
     "data": {
      "text/html": [
       "<pre style=\"white-space:pre;overflow-x:auto;line-height:normal;font-family:Menlo,'DejaVu Sans Mono',consolas,'Courier New',monospace\">Manim Community <span style=\"color: #008000; text-decoration-color: #008000\">v0.19.0</span>\n",
       "\n",
       "</pre>\n"
      ],
      "text/plain": [
       "Manim Community \u001b[32mv0.\u001b[0m\u001b[32m19.0\u001b[0m\n",
       "\n"
      ]
     },
     "metadata": {},
     "output_type": "display_data"
    },
    {
     "name": "stderr",
     "output_type": "stream",
     "text": [
      "                                                                                             \r"
     ]
    },
    {
     "data": {
      "text/html": [
       "<video src=\"media\\jupyter\\Part16@2025-03-04@13-26-44.mp4\" controls autoplay loop style=\"max-width: 60%;\"  >\n",
       "      Your browser does not support the <code>video</code> element.\n",
       "    </video>"
      ],
      "text/plain": [
       "<IPython.core.display.Video object>"
      ]
     },
     "metadata": {},
     "output_type": "display_data"
    }
   ],
   "source": [
    "%%manim -qh -v WARNING Part16\n",
    "\n",
    "class Part16(Scene):     \n",
    "   \n",
    "    def construct(self):\n",
    "        answer = SVGMobject(r\"C:\\Users\\savit\\Downloads\\Mathematics Animations\\Video1\\svg02.svg\")\n",
    "        answer.scale(3)\n",
    "        answer.move_to(np.array([1, 0, 0]))\n",
    "\n",
    "        answer0= answer.submobjects[0]\n",
    "        answer1 = answer.submobjects[1]\n",
    "        answer2 = answer.submobjects[2]\n",
    "        answer3= answer.submobjects[3]\n",
    "        answer4= answer.submobjects[4]\n",
    "        answer5 = answer.submobjects[5]\n",
    "        answer6 = answer.submobjects[6]\n",
    "        answer7 = answer.submobjects[7]\n",
    "        answer8 = answer.submobjects[8]\n",
    "        answer9 = answer.submobjects[9]\n",
    "        answer10= answer.submobjects[10]\n",
    "        answer11 = answer.submobjects[11]\n",
    "        answer12 = answer.submobjects[12]\n",
    "        answer13 = answer.submobjects[13]\n",
    "        answer14 = answer.submobjects[14]\n",
    "        answer15= answer.submobjects[15]\n",
    "        answer16= answer.submobjects[16]\n",
    "\n",
    "        answer0.set_opacity(0)\n",
    "        answer1.set_opacity(0)\n",
    "        answer2.set_opacity(0)\n",
    "        answer3.set_opacity(0)\n",
    "        answer4.set_opacity(0)\n",
    "        answer5.set_opacity(0)\n",
    "        answer6.set_opacity(0)\n",
    "        answer7.set_opacity(0)\n",
    "        answer8.set_opacity(0)\n",
    "        answer9.set_opacity(0)\n",
    "        answer10.set_opacity(0)\n",
    "        answer11.set_opacity(0)\n",
    "        answer12.set_opacity(0)\n",
    "        answer13.set_opacity(0)\n",
    "        answer14.set_opacity(0)\n",
    "        answer15.set_opacity(0)\n",
    "        answer16.set_opacity(0)\n",
    "\n",
    "        superline0=Line(start=answer0.get_end(),end=answer0.get_start(), buff=0)\n",
    "        superline1=DashedLine(start=answer1.get_start(),end=answer1.get_end(), buff=0)\n",
    "        superline2=Line(start=answer2.get_start(),end=answer2.get_end(), buff=0)\n",
    "        superline3=DashedLine(start=answer3.get_start(),end=answer3.get_end(), buff=0)\n",
    "        superline4=Line(start=answer4.get_start(),end=answer4.get_end(), buff=0)        \n",
    "        superline5=Line(start=answer5.get_start(),end=answer5.get_end(), buff=0)\n",
    "        superline6=DashedLine(start=answer6.get_start(),end=answer6.get_end(), buff=0)\n",
    "        superline7=DashedLine(start=answer7.get_start(),end=answer7.get_end(), buff=0)\n",
    "        superline8=DashedLine(start=answer8.get_start(),end=answer8.get_end(), buff=0)\n",
    "        superline9=Line(start=answer9.get_end(),end=answer9.get_start(), buff=0)\n",
    "        superline10=DashedLine(start=answer10.get_start(),end=answer10.get_end(), buff=0)\n",
    "        superline11=DashedLine(start=answer11.get_start(),end=answer11.get_end(), buff=0)\n",
    "        superline12=DashedLine(start=answer12.get_start(),end=answer12.get_end(), buff=0)\n",
    "        superline13=Line(start=answer13.get_start(),end=answer13.get_end(), buff=0)        \n",
    "        superline14=Line(start=answer14.get_start(),end=answer14.get_end(), buff=0)\n",
    "        superline15=Line(start=answer15.get_start(),end=answer15.get_end(), buff=0)            \n",
    "        superline16=Line(start=answer16.get_start(),end=answer16.get_end(), buff=0) \n",
    "\n",
    "        text_label1 = Text(\"1\")\n",
    "        text_label1.next_to(superline0.get_start(), buff=0.2)\n",
    "        \n",
    "        text_label4 = Text(\"4\")\n",
    "        text_label4.next_to(superline0.get_end(), buff=0.2,direction=RIGHT)\n",
    "\n",
    "        text_label2 = Text(\"2\")\n",
    "        text_label2.next_to(superline2.get_end(), buff=0.2,direction=DOWN)\n",
    "\n",
    "        text_label6 = Text(\"6\")\n",
    "        text_label6.next_to(superline5.get_end(), buff=0.2,direction=DOWN)\n",
    "\n",
    "        self.play(Create(VGroup(superline0,superline2,superline4,superline5,text_label1,text_label4,text_label2,text_label6)))\n",
    "        self.wait(1)\n"
   ]
  },
  {
   "cell_type": "code",
   "execution_count": 48,
   "metadata": {},
   "outputs": [
    {
     "data": {
      "text/html": [
       "<pre style=\"white-space:pre;overflow-x:auto;line-height:normal;font-family:Menlo,'DejaVu Sans Mono',consolas,'Courier New',monospace\">Manim Community <span style=\"color: #008000; text-decoration-color: #008000\">v0.19.0</span>\n",
       "\n",
       "</pre>\n"
      ],
      "text/plain": [
       "Manim Community \u001b[32mv0.\u001b[0m\u001b[32m19.0\u001b[0m\n",
       "\n"
      ]
     },
     "metadata": {},
     "output_type": "display_data"
    },
    {
     "name": "stderr",
     "output_type": "stream",
     "text": [
      "                                                                                              \r"
     ]
    },
    {
     "data": {
      "text/html": [
       "<video src=\"media\\jupyter\\Part17@2025-03-04@13-29-42.mp4\" controls autoplay loop style=\"max-width: 60%;\"  >\n",
       "      Your browser does not support the <code>video</code> element.\n",
       "    </video>"
      ],
      "text/plain": [
       "<IPython.core.display.Video object>"
      ]
     },
     "metadata": {},
     "output_type": "display_data"
    }
   ],
   "source": [
    "%%manim -qh -v WARNING Part17\n",
    "\n",
    "class Part17(Scene):     \n",
    "   \n",
    "    def construct(self):\n",
    "        answer = SVGMobject(r\"C:\\Users\\savit\\Downloads\\Mathematics Animations\\Video1\\svg02.svg\")\n",
    "        answer.scale(3)\n",
    "        answer.move_to(np.array([1, 0, 0]))\n",
    "\n",
    "        answer0= answer.submobjects[0]\n",
    "        answer1 = answer.submobjects[1]\n",
    "        answer2 = answer.submobjects[2]\n",
    "        answer3= answer.submobjects[3]\n",
    "        answer4= answer.submobjects[4]\n",
    "        answer5 = answer.submobjects[5]\n",
    "        answer6 = answer.submobjects[6]\n",
    "        answer7 = answer.submobjects[7]\n",
    "        answer8 = answer.submobjects[8]\n",
    "        answer9 = answer.submobjects[9]\n",
    "        answer10= answer.submobjects[10]\n",
    "        answer11 = answer.submobjects[11]\n",
    "        answer12 = answer.submobjects[12]\n",
    "        answer13 = answer.submobjects[13]\n",
    "        answer14 = answer.submobjects[14]\n",
    "        answer15= answer.submobjects[15]\n",
    "        answer16= answer.submobjects[16]\n",
    "\n",
    "        answer0.set_opacity(0)\n",
    "        answer1.set_opacity(0)\n",
    "        answer2.set_opacity(0)\n",
    "        answer3.set_opacity(0)\n",
    "        answer4.set_opacity(0)\n",
    "        answer5.set_opacity(0)\n",
    "        answer6.set_opacity(0)\n",
    "        answer7.set_opacity(0)\n",
    "        answer8.set_opacity(0)\n",
    "        answer9.set_opacity(0)\n",
    "        answer10.set_opacity(0)\n",
    "        answer11.set_opacity(0)\n",
    "        answer12.set_opacity(0)\n",
    "        answer13.set_opacity(0)\n",
    "        answer14.set_opacity(0)\n",
    "        answer15.set_opacity(0)\n",
    "        answer16.set_opacity(0)\n",
    "\n",
    "        superline0=Line(start=answer0.get_end(),end=answer0.get_start(), buff=0)\n",
    "        superline1=DashedLine(start=answer1.get_start(),end=answer1.get_end(), buff=0)\n",
    "        superline2=Line(start=answer2.get_start(),end=answer2.get_end(), buff=0)\n",
    "        superline3=DashedLine(start=answer3.get_start(),end=answer3.get_end(), buff=0)\n",
    "        superline4=Line(start=answer4.get_start(),end=answer4.get_end(), buff=0)        \n",
    "        superline5=Line(start=answer5.get_start(),end=answer5.get_end(), buff=0)\n",
    "        superline6=DashedLine(start=answer6.get_start(),end=answer6.get_end(), buff=0)\n",
    "        superline7=DashedLine(start=answer7.get_start(),end=answer7.get_end(), buff=0)\n",
    "        superline8=DashedLine(start=answer8.get_start(),end=answer8.get_end(), buff=0)\n",
    "        superline9=Line(start=answer9.get_end(),end=answer9.get_start(), buff=0)\n",
    "        superline10=DashedLine(start=answer10.get_start(),end=answer10.get_end(), buff=0)\n",
    "        superline11=DashedLine(start=answer11.get_start(),end=answer11.get_end(), buff=0)\n",
    "        superline12=DashedLine(start=answer12.get_start(),end=answer12.get_end(), buff=0)\n",
    "        superline13=Line(start=answer13.get_start(),end=answer13.get_end(), buff=0)        \n",
    "        superline14=Line(start=answer14.get_start(),end=answer14.get_end(), buff=0)\n",
    "        superline15=Line(start=answer15.get_start(),end=answer15.get_end(), buff=0)            \n",
    "        superline16=Line(start=answer16.get_start(),end=answer16.get_end(), buff=0) \n",
    "\n",
    "        text_label1 = Text(\"1\")\n",
    "        text_label1.next_to(superline0.get_start(), buff=0.2)\n",
    "        \n",
    "        text_label4 = Text(\"4\")\n",
    "        text_label4.next_to(superline0.get_end(), buff=0.2,direction=RIGHT)\n",
    "\n",
    "        text_label2 = Text(\"2\")\n",
    "        text_label2.next_to(superline2.get_end(), buff=0.2,direction=DOWN)\n",
    "\n",
    "        text_label6 = Text(\"6\")\n",
    "        text_label6.next_to(superline5.get_end(), buff=0.2,direction=LEFT)\n",
    "\n",
    "        text_label5 = Text(\"5\")\n",
    "        text_label5.next_to(superline6.get_end(), buff=0.2,direction=DOWN)\n",
    "\n",
    "        self.play(Create(VGroup(superline0,superline2,superline4,superline5,superline6,text_label1,text_label4,text_label2,text_label6,text_label5)))\n",
    "        self.wait(1)\n"
   ]
  },
  {
   "cell_type": "code",
   "execution_count": 51,
   "metadata": {},
   "outputs": [
    {
     "data": {
      "text/html": [
       "<pre style=\"white-space:pre;overflow-x:auto;line-height:normal;font-family:Menlo,'DejaVu Sans Mono',consolas,'Courier New',monospace\">Manim Community <span style=\"color: #008000; text-decoration-color: #008000\">v0.19.0</span>\n",
       "\n",
       "</pre>\n"
      ],
      "text/plain": [
       "Manim Community \u001b[32mv0.\u001b[0m\u001b[32m19.0\u001b[0m\n",
       "\n"
      ]
     },
     "metadata": {},
     "output_type": "display_data"
    },
    {
     "name": "stderr",
     "output_type": "stream",
     "text": [
      "                                                                                              \r"
     ]
    },
    {
     "data": {
      "text/html": [
       "<video src=\"media\\jupyter\\Part18@2025-03-04@13-30-54.mp4\" controls autoplay loop style=\"max-width: 60%;\"  >\n",
       "      Your browser does not support the <code>video</code> element.\n",
       "    </video>"
      ],
      "text/plain": [
       "<IPython.core.display.Video object>"
      ]
     },
     "metadata": {},
     "output_type": "display_data"
    }
   ],
   "source": [
    "%%manim -qh -v WARNING Part18\n",
    "\n",
    "class Part18(Scene):     \n",
    "   \n",
    "    def construct(self):\n",
    "        answer = SVGMobject(r\"C:\\Users\\savit\\Downloads\\Mathematics Animations\\Video1\\svg02.svg\")\n",
    "        answer.scale(3)\n",
    "        answer.move_to(np.array([1, 0, 0]))\n",
    "\n",
    "        answer0= answer.submobjects[0]\n",
    "        answer1 = answer.submobjects[1]\n",
    "        answer2 = answer.submobjects[2]\n",
    "        answer3= answer.submobjects[3]\n",
    "        answer4= answer.submobjects[4]\n",
    "        answer5 = answer.submobjects[5]\n",
    "        answer6 = answer.submobjects[6]\n",
    "        answer7 = answer.submobjects[7]\n",
    "        answer8 = answer.submobjects[8]\n",
    "        answer9 = answer.submobjects[9]\n",
    "        answer10= answer.submobjects[10]\n",
    "        answer11 = answer.submobjects[11]\n",
    "        answer12 = answer.submobjects[12]\n",
    "        answer13 = answer.submobjects[13]\n",
    "        answer14 = answer.submobjects[14]\n",
    "        answer15= answer.submobjects[15]\n",
    "        answer16= answer.submobjects[16]\n",
    "\n",
    "        answer0.set_opacity(0)\n",
    "        answer1.set_opacity(0)\n",
    "        answer2.set_opacity(0)\n",
    "        answer3.set_opacity(0)\n",
    "        answer4.set_opacity(0)\n",
    "        answer5.set_opacity(0)\n",
    "        answer6.set_opacity(0)\n",
    "        answer7.set_opacity(0)\n",
    "        answer8.set_opacity(0)\n",
    "        answer9.set_opacity(0)\n",
    "        answer10.set_opacity(0)\n",
    "        answer11.set_opacity(0)\n",
    "        answer12.set_opacity(0)\n",
    "        answer13.set_opacity(0)\n",
    "        answer14.set_opacity(0)\n",
    "        answer15.set_opacity(0)\n",
    "        answer16.set_opacity(0)\n",
    "\n",
    "        superline0=Line(start=answer0.get_end(),end=answer0.get_start(), buff=0)\n",
    "        superline1=DashedLine(start=answer1.get_start(),end=answer1.get_end(), buff=0)\n",
    "        superline2=Line(start=answer2.get_start(),end=answer2.get_end(), buff=0)\n",
    "        superline3=DashedLine(start=answer3.get_start(),end=answer3.get_end(), buff=0)\n",
    "        superline4=Line(start=answer4.get_start(),end=answer4.get_end(), buff=0)        \n",
    "        superline5=Line(start=answer5.get_start(),end=answer5.get_end(), buff=0)\n",
    "        superline6=DashedLine(start=answer6.get_start(),end=answer6.get_end(), buff=0)\n",
    "        superline7=DashedLine(start=answer7.get_start(),end=answer7.get_end(), buff=0)\n",
    "        superline8=DashedLine(start=answer8.get_start(),end=answer8.get_end(), buff=0)\n",
    "        superline9=Line(start=answer9.get_end(),end=answer9.get_start(), buff=0)\n",
    "        superline10=DashedLine(start=answer10.get_start(),end=answer10.get_end(), buff=0)\n",
    "        superline11=DashedLine(start=answer11.get_start(),end=answer11.get_end(), buff=0)\n",
    "        superline12=DashedLine(start=answer12.get_start(),end=answer12.get_end(), buff=0)\n",
    "        superline13=Line(start=answer13.get_start(),end=answer13.get_end(), buff=0)        \n",
    "        superline14=Line(start=answer14.get_start(),end=answer14.get_end(), buff=0)\n",
    "        superline15=Line(start=answer15.get_start(),end=answer15.get_end(), buff=0)            \n",
    "        superline16=Line(start=answer16.get_start(),end=answer16.get_end(), buff=0) \n",
    "\n",
    "        text_label1 = Text(\"1\")\n",
    "        text_label1.next_to(superline0.get_start(), buff=0.2)\n",
    "        \n",
    "        text_label4 = Text(\"4\")\n",
    "        text_label4.next_to(superline0.get_end(), buff=0.2,direction=RIGHT)\n",
    "\n",
    "        text_label2 = Text(\"2\")\n",
    "        text_label2.next_to(superline2.get_end(), buff=0.2,direction=DOWN)\n",
    "\n",
    "        text_label6 = Text(\"6\")\n",
    "        text_label6.next_to(superline5.get_end(), buff=0.2,direction=LEFT)\n",
    "\n",
    "        text_label5 = Text(\"5\")\n",
    "        text_label5.next_to(superline6.get_end(), buff=0.2,direction=DOWN)\n",
    "\n",
    "        self.play(Create(VGroup(superline0,superline2,superline4,superline5,\n",
    "                                superline6,superline7,superline8,text_label1,text_label4,text_label2,text_label6,text_label5)))\n",
    "        self.wait(1)\n"
   ]
  },
  {
   "cell_type": "code",
   "execution_count": 54,
   "metadata": {},
   "outputs": [
    {
     "data": {
      "text/html": [
       "<pre style=\"white-space:pre;overflow-x:auto;line-height:normal;font-family:Menlo,'DejaVu Sans Mono',consolas,'Courier New',monospace\">Manim Community <span style=\"color: #008000; text-decoration-color: #008000\">v0.19.0</span>\n",
       "\n",
       "</pre>\n"
      ],
      "text/plain": [
       "Manim Community \u001b[32mv0.\u001b[0m\u001b[32m19.0\u001b[0m\n",
       "\n"
      ]
     },
     "metadata": {},
     "output_type": "display_data"
    },
    {
     "name": "stderr",
     "output_type": "stream",
     "text": [
      "                                                                                              \r"
     ]
    },
    {
     "data": {
      "text/html": [
       "<video src=\"media\\jupyter\\Part19@2025-03-04@13-34-23.mp4\" controls autoplay loop style=\"max-width: 60%;\"  >\n",
       "      Your browser does not support the <code>video</code> element.\n",
       "    </video>"
      ],
      "text/plain": [
       "<IPython.core.display.Video object>"
      ]
     },
     "metadata": {},
     "output_type": "display_data"
    }
   ],
   "source": [
    "%%manim -qh -v WARNING Part19\n",
    "\n",
    "class Part19(Scene):     \n",
    "   \n",
    "    def construct(self):\n",
    "        answer = SVGMobject(r\"C:\\Users\\savit\\Downloads\\Mathematics Animations\\Video1\\svg02.svg\")\n",
    "        answer.scale(3)\n",
    "        answer.move_to(np.array([1, 0, 0]))\n",
    "\n",
    "        answer0= answer.submobjects[0]\n",
    "        answer1 = answer.submobjects[1]\n",
    "        answer2 = answer.submobjects[2]\n",
    "        answer3= answer.submobjects[3]\n",
    "        answer4= answer.submobjects[4]\n",
    "        answer5 = answer.submobjects[5]\n",
    "        answer6 = answer.submobjects[6]\n",
    "        answer7 = answer.submobjects[7]\n",
    "        answer8 = answer.submobjects[8]\n",
    "        answer9 = answer.submobjects[9]\n",
    "        answer10= answer.submobjects[10]\n",
    "        answer11 = answer.submobjects[11]\n",
    "        answer12 = answer.submobjects[12]\n",
    "        answer13 = answer.submobjects[13]\n",
    "        answer14 = answer.submobjects[14]\n",
    "        answer15= answer.submobjects[15]\n",
    "        answer16= answer.submobjects[16]\n",
    "\n",
    "        answer0.set_opacity(0)\n",
    "        answer1.set_opacity(0)\n",
    "        answer2.set_opacity(0)\n",
    "        answer3.set_opacity(0)\n",
    "        answer4.set_opacity(0)\n",
    "        answer5.set_opacity(0)\n",
    "        answer6.set_opacity(0)\n",
    "        answer7.set_opacity(0)\n",
    "        answer8.set_opacity(0)\n",
    "        answer9.set_opacity(0)\n",
    "        answer10.set_opacity(0)\n",
    "        answer11.set_opacity(0)\n",
    "        answer12.set_opacity(0)\n",
    "        answer13.set_opacity(0)\n",
    "        answer14.set_opacity(0)\n",
    "        answer15.set_opacity(0)\n",
    "        answer16.set_opacity(0)\n",
    "\n",
    "        superline0=Line(start=answer0.get_end(),end=answer0.get_start(), buff=0)\n",
    "        superline1=DashedLine(start=answer1.get_start(),end=answer1.get_end(), buff=0)\n",
    "        superline2=Line(start=answer2.get_start(),end=answer2.get_end(), buff=0)\n",
    "        superline3=DashedLine(start=answer3.get_start(),end=answer3.get_end(), buff=0)\n",
    "        superline4=Line(start=answer4.get_start(),end=answer4.get_end(), buff=0)        \n",
    "        superline5=Line(start=answer5.get_start(),end=answer5.get_end(), buff=0)\n",
    "        superline6=DashedLine(start=answer6.get_start(),end=answer6.get_end(), buff=0)\n",
    "        superline7=DashedLine(start=answer7.get_start(),end=answer7.get_end(), buff=0)\n",
    "        superline8=DashedLine(start=answer8.get_start(),end=answer8.get_end(), buff=0)\n",
    "        superline9=Line(start=answer9.get_end(),end=answer9.get_start(), buff=0)\n",
    "        superline10=DashedLine(start=answer10.get_start(),end=answer10.get_end(), buff=0)\n",
    "        superline11=DashedLine(start=answer11.get_start(),end=answer11.get_end(), buff=0)\n",
    "        superline12=DashedLine(start=answer12.get_start(),end=answer12.get_end(), buff=0)\n",
    "        superline13=Line(start=answer13.get_start(),end=answer13.get_end(), buff=0)        \n",
    "        superline14=Line(start=answer14.get_start(),end=answer14.get_end(), buff=0)\n",
    "        superline15=Line(start=answer15.get_start(),end=answer15.get_end(), buff=0)            \n",
    "        superline16=Line(start=answer16.get_start(),end=answer16.get_end(), buff=0) \n",
    "\n",
    "        text_label1 = Text(\"1\")\n",
    "        text_label1.next_to(superline0.get_start(), buff=0.2)\n",
    "        \n",
    "        text_label4 = Text(\"4\")\n",
    "        text_label4.next_to(superline0.get_end(), buff=0.2,direction=RIGHT)\n",
    "\n",
    "        text_label2 = Text(\"2\")\n",
    "        text_label2.next_to(superline2.get_end(), buff=0.2,direction=DOWN)\n",
    "\n",
    "        text_label6 = Text(\"6\")\n",
    "        text_label6.next_to(superline5.get_end(), buff=0.2,direction=DOWN)\n",
    "\n",
    "        text_label5 = Text(\"5\")\n",
    "        text_label5.next_to(superline9.get_start(), buff=0.2,direction=UP)\n",
    "\n",
    "        self.play(Create(VGroup(superline0,superline2,superline4,superline5,superline9,text_label1,text_label4,text_label2,text_label6,text_label5)))\n",
    "        self.wait(1)"
   ]
  },
  {
   "cell_type": "code",
   "execution_count": null,
   "metadata": {},
   "outputs": [
    {
     "data": {
      "text/html": [
       "<pre style=\"white-space:pre;overflow-x:auto;line-height:normal;font-family:Menlo,'DejaVu Sans Mono',consolas,'Courier New',monospace\">Manim Community <span style=\"color: #008000; text-decoration-color: #008000\">v0.19.0</span>\n",
       "\n",
       "</pre>\n"
      ],
      "text/plain": [
       "Manim Community \u001b[32mv0.\u001b[0m\u001b[32m19.0\u001b[0m\n",
       "\n"
      ]
     },
     "metadata": {},
     "output_type": "display_data"
    },
    {
     "name": "stderr",
     "output_type": "stream",
     "text": [
      "                                                                                              \r"
     ]
    },
    {
     "data": {
      "text/html": [
       "<video src=\"media\\jupyter\\Part20@2025-03-04@13-37-02.mp4\" controls autoplay loop style=\"max-width: 60%;\"  >\n",
       "      Your browser does not support the <code>video</code> element.\n",
       "    </video>"
      ],
      "text/plain": [
       "<IPython.core.display.Video object>"
      ]
     },
     "metadata": {},
     "output_type": "display_data"
    }
   ],
   "source": [
    "%%manim -qh -v WARNING Part20\n",
    "\n",
    "class Part20(Scene):     \n",
    "   \n",
    "    def construct(self):\n",
    "        answer = SVGMobject(r\"C:\\Users\\savit\\Downloads\\Mathematics Animations\\Video1\\svg02.svg\")\n",
    "        answer.scale(3)\n",
    "        answer.move_to(np.array([1, 0, 0]))\n",
    "\n",
    "        answer0= answer.submobjects[0]\n",
    "        answer1 = answer.submobjects[1]\n",
    "        answer2 = answer.submobjects[2]\n",
    "        answer3= answer.submobjects[3]\n",
    "        answer4= answer.submobjects[4]\n",
    "        answer5 = answer.submobjects[5]\n",
    "        answer6 = answer.submobjects[6]\n",
    "        answer7 = answer.submobjects[7]\n",
    "        answer8 = answer.submobjects[8]\n",
    "        answer9 = answer.submobjects[9]\n",
    "        answer10= answer.submobjects[10]\n",
    "        answer11 = answer.submobjects[11]\n",
    "        answer12 = answer.submobjects[12]\n",
    "        answer13 = answer.submobjects[13]\n",
    "        answer14 = answer.submobjects[14]\n",
    "        answer15= answer.submobjects[15]\n",
    "        answer16= answer.submobjects[16]\n",
    "\n",
    "        answer0.set_opacity(0)\n",
    "        answer1.set_opacity(0)\n",
    "        answer2.set_opacity(0)\n",
    "        answer3.set_opacity(0)\n",
    "        answer4.set_opacity(0)\n",
    "        answer5.set_opacity(0)\n",
    "        answer6.set_opacity(0)\n",
    "        answer7.set_opacity(0)\n",
    "        answer8.set_opacity(0)\n",
    "        answer9.set_opacity(0)\n",
    "        answer10.set_opacity(0)\n",
    "        answer11.set_opacity(0)\n",
    "        answer12.set_opacity(0)\n",
    "        answer13.set_opacity(0)\n",
    "        answer14.set_opacity(0)\n",
    "        answer15.set_opacity(0)\n",
    "        answer16.set_opacity(0)\n",
    "\n",
    "        superline0=Line(start=answer0.get_end(),end=answer0.get_start(), buff=0)\n",
    "        superline1=DashedLine(start=answer1.get_start(),end=answer1.get_end(), buff=0)\n",
    "        superline2=Line(start=answer2.get_start(),end=answer2.get_end(), buff=0)\n",
    "        superline3=DashedLine(start=answer3.get_start(),end=answer3.get_end(), buff=0)\n",
    "        superline4=Line(start=answer4.get_start(),end=answer4.get_end(), buff=0)        \n",
    "        superline5=Line(start=answer5.get_start(),end=answer5.get_end(), buff=0)\n",
    "        superline6=DashedLine(start=answer6.get_start(),end=answer6.get_end(), buff=0)\n",
    "        superline7=DashedLine(start=answer7.get_start(),end=answer7.get_end(), buff=0)\n",
    "        superline8=DashedLine(start=answer8.get_start(),end=answer8.get_end(), buff=0)\n",
    "        superline9=Line(start=answer9.get_end(),end=answer9.get_start(), buff=0)\n",
    "        superline10=DashedLine(start=answer10.get_start(),end=answer10.get_end(), buff=0)\n",
    "        superline11=DashedLine(start=answer11.get_start(),end=answer11.get_end(), buff=0)\n",
    "        superline12=DashedLine(start=answer12.get_start(),end=answer12.get_end(), buff=0)\n",
    "        superline13=Line(start=answer13.get_start(),end=answer13.get_end(), buff=0)        \n",
    "        superline14=Line(start=answer14.get_start(),end=answer14.get_end(), buff=0)\n",
    "        superline15=Line(start=answer15.get_start(),end=answer15.get_end(), buff=0)            \n",
    "        superline16=Line(start=answer16.get_start(),end=answer16.get_end(), buff=0) \n",
    "\n",
    "        text_label1 = Text(\"1\")\n",
    "        text_label1.next_to(superline0.get_start(), buff=0.2)\n",
    "        \n",
    "        text_label4 = Text(\"4\")\n",
    "        text_label4.next_to(superline0.get_end(), buff=0.2,direction=RIGHT)\n",
    "\n",
    "        text_label2 = Text(\"2\")\n",
    "        text_label2.next_to(superline2.get_end(), buff=0.2,direction=DOWN)\n",
    "\n",
    "        text_label6 = Text(\"6\")\n",
    "        text_label6.next_to(superline5.get_end(), buff=0.2,direction=DOWN)\n",
    "\n",
    "        text_label5 = Text(\"5\")\n",
    "        text_label5.next_to(superline9.get_start(), buff=0.2,direction=UP)\n",
    "\n",
    "        self.play(Create(VGroup(superline0,superline2,superline4,superline5,\n",
    "                                superline9,superline10,superline11,superline12,\n",
    "                                text_label1,text_label4,text_label2,text_label6,text_label5)))\n",
    "        self.wait(1)"
   ]
  },
  {
   "cell_type": "code",
   "execution_count": null,
   "metadata": {},
   "outputs": [
    {
     "data": {
      "text/html": [
       "<pre style=\"white-space:pre;overflow-x:auto;line-height:normal;font-family:Menlo,'DejaVu Sans Mono',consolas,'Courier New',monospace\">Manim Community <span style=\"color: #008000; text-decoration-color: #008000\">v0.19.0</span>\n",
       "\n",
       "</pre>\n"
      ],
      "text/plain": [
       "Manim Community \u001b[32mv0.\u001b[0m\u001b[32m19.0\u001b[0m\n",
       "\n"
      ]
     },
     "metadata": {},
     "output_type": "display_data"
    },
    {
     "name": "stderr",
     "output_type": "stream",
     "text": [
      "                                                                                              \r"
     ]
    },
    {
     "data": {
      "text/html": [
       "<video src=\"media\\jupyter\\Part21@2025-03-04@16-59-39.mp4\" controls autoplay loop style=\"max-width: 60%;\"  >\n",
       "      Your browser does not support the <code>video</code> element.\n",
       "    </video>"
      ],
      "text/plain": [
       "<IPython.core.display.Video object>"
      ]
     },
     "metadata": {},
     "output_type": "display_data"
    }
   ],
   "source": [
    "%%manim -qh -v WARNING Part21\n",
    "\n",
    "class Part21(Scene):     \n",
    "   \n",
    "    def construct(self):\n",
    "        answer = SVGMobject(r\"C:\\Users\\savit\\Downloads\\Mathematics Animations\\Video1\\svg02.svg\")\n",
    "        answer.scale(3)\n",
    "        answer.move_to(np.array([1, 0, 0]))\n",
    "\n",
    "        answer0= answer.submobjects[0]\n",
    "        answer1 = answer.submobjects[1]\n",
    "        answer2 = answer.submobjects[2]\n",
    "        answer3= answer.submobjects[3]\n",
    "        answer4= answer.submobjects[4]\n",
    "        answer5 = answer.submobjects[5]\n",
    "        answer6 = answer.submobjects[6]\n",
    "        answer7 = answer.submobjects[7]\n",
    "        answer8 = answer.submobjects[8]\n",
    "        answer9 = answer.submobjects[9]\n",
    "        answer10= answer.submobjects[10]\n",
    "        answer11 = answer.submobjects[11]\n",
    "        answer12 = answer.submobjects[12]\n",
    "        answer13 = answer.submobjects[13]\n",
    "        answer14 = answer.submobjects[14]\n",
    "        answer15= answer.submobjects[15]\n",
    "        answer16= answer.submobjects[16]\n",
    "\n",
    "        answer0.set_opacity(0)\n",
    "        answer1.set_opacity(0)\n",
    "        answer2.set_opacity(0)\n",
    "        answer3.set_opacity(0)\n",
    "        answer4.set_opacity(0)\n",
    "        answer5.set_opacity(0)\n",
    "        answer6.set_opacity(0)\n",
    "        answer7.set_opacity(0)\n",
    "        answer8.set_opacity(0)\n",
    "        answer9.set_opacity(0)\n",
    "        answer10.set_opacity(0)\n",
    "        answer11.set_opacity(0)\n",
    "        answer12.set_opacity(0)\n",
    "        answer13.set_opacity(0)\n",
    "        answer14.set_opacity(0)\n",
    "        answer15.set_opacity(0)\n",
    "        answer16.set_opacity(0)\n",
    "\n",
    "        superline0=Line(start=answer0.get_end(),end=answer0.get_start(), buff=0)\n",
    "        superline1=DashedLine(start=answer1.get_start(),end=answer1.get_end(), buff=0)\n",
    "        superline2=Line(start=answer2.get_start(),end=answer2.get_end(), buff=0)\n",
    "        superline3=DashedLine(start=answer3.get_start(),end=answer3.get_end(), buff=0)\n",
    "        superline4=Line(start=answer4.get_start(),end=answer4.get_end(), buff=0)        \n",
    "        superline5=Line(start=answer5.get_start(),end=answer5.get_end(), buff=0)\n",
    "        superline6=DashedLine(start=answer6.get_start(),end=answer6.get_end(), buff=0)\n",
    "        superline7=DashedLine(start=answer7.get_start(),end=answer7.get_end(), buff=0)\n",
    "        superline8=DashedLine(start=answer8.get_start(),end=answer8.get_end(), buff=0)\n",
    "        superline9=Line(start=answer9.get_end(),end=answer9.get_start(), buff=0)\n",
    "        superline10=DashedLine(start=answer10.get_start(),end=answer10.get_end(), buff=0)\n",
    "        superline11=DashedLine(start=answer11.get_start(),end=answer11.get_end(), buff=0)\n",
    "        superline12=DashedLine(start=answer12.get_start(),end=answer12.get_end(), buff=0)\n",
    "        superline13=Line(start=answer13.get_start(),end=answer13.get_end(), buff=0)        \n",
    "        superline14=Line(start=answer14.get_start(),end=answer14.get_end(), buff=0)\n",
    "        superline15=Line(start=answer15.get_start(),end=answer15.get_end(), buff=0)            \n",
    "        superline16=Line(start=answer16.get_start(),end=answer16.get_end(), buff=0) \n",
    "\n",
    "        text_label1 = Text(\"1\")\n",
    "        text_label1.next_to(superline0.get_start(), buff=0.2)\n",
    "        \n",
    "        text_label4 = Text(\"4\")\n",
    "        text_label4.next_to(superline0.get_end(), buff=0.2,direction=RIGHT)\n",
    "\n",
    "        text_label2 = Text(\"2\")\n",
    "        text_label2.next_to(superline2.get_end(), buff=0.2,direction=DOWN)\n",
    "\n",
    "        text_label6 = Text(\"6\")\n",
    "        text_label6.next_to(superline5.get_end(), buff=0.2,direction=DOWN)\n",
    "\n",
    "        text_label5 = Text(\"5\")\n",
    "        text_label5.next_to(superline9.get_start(), buff=0.2,direction=UP)\n",
    "\n",
    "        text_label3 = Text(\"3\")\n",
    "        text_label3.next_to(superline13.get_end(), buff=0.2,direction=DOWN)\n",
    "\n",
    "        self.play(Create(VGroup(superline0,superline2,superline4,superline5,\n",
    "                                superline9,superline13,superline14,text_label1,text_label4,text_label2,text_label6,text_label5,text_label3)))\n",
    "        self.wait(1)"
   ]
  },
  {
   "cell_type": "code",
   "execution_count": 69,
   "metadata": {},
   "outputs": [
    {
     "data": {
      "text/html": [
       "<pre style=\"white-space:pre;overflow-x:auto;line-height:normal;font-family:Menlo,'DejaVu Sans Mono',consolas,'Courier New',monospace\">Manim Community <span style=\"color: #008000; text-decoration-color: #008000\">v0.19.0</span>\n",
       "\n",
       "</pre>\n"
      ],
      "text/plain": [
       "Manim Community \u001b[32mv0.\u001b[0m\u001b[32m19.0\u001b[0m\n",
       "\n"
      ]
     },
     "metadata": {},
     "output_type": "display_data"
    },
    {
     "name": "stderr",
     "output_type": "stream",
     "text": [
      "                                                                                              \r"
     ]
    },
    {
     "data": {
      "text/html": [
       "<video src=\"media\\jupyter\\Part22@2025-03-04@17-07-17.mp4\" controls autoplay loop style=\"max-width: 60%;\"  >\n",
       "      Your browser does not support the <code>video</code> element.\n",
       "    </video>"
      ],
      "text/plain": [
       "<IPython.core.display.Video object>"
      ]
     },
     "metadata": {},
     "output_type": "display_data"
    }
   ],
   "source": [
    "\n",
    "%%manim -qh -v WARNING Part22\n",
    "\n",
    "class Part22(Scene):     \n",
    "   \n",
    "    def construct(self):\n",
    "        answer = SVGMobject(r\"C:\\Users\\savit\\Downloads\\Mathematics Animations\\Video1\\svg02.svg\")\n",
    "        answer.scale(3)\n",
    "        answer.move_to(np.array([1, 0, 0]))\n",
    "\n",
    "        answer0= answer.submobjects[0]\n",
    "        answer1 = answer.submobjects[1]\n",
    "        answer2 = answer.submobjects[2]\n",
    "        answer3= answer.submobjects[3]\n",
    "        answer4= answer.submobjects[4]\n",
    "        answer5 = answer.submobjects[5]\n",
    "        answer6 = answer.submobjects[6]\n",
    "        answer7 = answer.submobjects[7]\n",
    "        answer8 = answer.submobjects[8]\n",
    "        answer9 = answer.submobjects[9]\n",
    "        answer10= answer.submobjects[10]\n",
    "        answer11 = answer.submobjects[11]\n",
    "        answer12 = answer.submobjects[12]\n",
    "        answer13 = answer.submobjects[13]\n",
    "        answer14 = answer.submobjects[14]\n",
    "        answer15= answer.submobjects[15]\n",
    "        answer16= answer.submobjects[16]\n",
    "\n",
    "        answer0.set_opacity(0)\n",
    "        answer1.set_opacity(0)\n",
    "        answer2.set_opacity(0)\n",
    "        answer3.set_opacity(0)\n",
    "        answer4.set_opacity(0)\n",
    "        answer5.set_opacity(0)\n",
    "        answer6.set_opacity(0)\n",
    "        answer7.set_opacity(0)\n",
    "        answer8.set_opacity(0)\n",
    "        answer9.set_opacity(0)\n",
    "        answer10.set_opacity(0)\n",
    "        answer11.set_opacity(0)\n",
    "        answer12.set_opacity(0)\n",
    "        answer13.set_opacity(0)\n",
    "        answer14.set_opacity(0)\n",
    "        answer15.set_opacity(0)\n",
    "        answer16.set_opacity(0)\n",
    "\n",
    "        superline0=Line(start=answer0.get_end(),end=answer0.get_start(), buff=0)\n",
    "        superline1=DashedLine(start=answer1.get_start(),end=answer1.get_end(), buff=0)\n",
    "        superline2=Line(start=answer2.get_start(),end=answer2.get_end(), buff=0)\n",
    "        superline3=DashedLine(start=answer3.get_start(),end=answer3.get_end(), buff=0)\n",
    "        superline4=Line(start=answer4.get_start(),end=answer4.get_end(), buff=0)        \n",
    "        superline5=Line(start=answer5.get_start(),end=answer5.get_end(), buff=0)\n",
    "        superline6=DashedLine(start=answer6.get_start(),end=answer6.get_end(), buff=0)\n",
    "        superline7=DashedLine(start=answer7.get_start(),end=answer7.get_end(), buff=0)\n",
    "        superline8=DashedLine(start=answer8.get_start(),end=answer8.get_end(), buff=0)\n",
    "        superline9=Line(start=answer9.get_end(),end=answer9.get_start(), buff=0)\n",
    "        superline10=DashedLine(start=answer10.get_start(),end=answer10.get_end(), buff=0)\n",
    "        superline11=DashedLine(start=answer11.get_start(),end=answer11.get_end(), buff=0)\n",
    "        superline12=DashedLine(start=answer12.get_start(),end=answer12.get_end(), buff=0)\n",
    "        superline13=Line(start=answer13.get_start(),end=answer13.get_end(), buff=0)        \n",
    "        superline14=Line(start=answer14.get_start(),end=answer14.get_end(), buff=0)\n",
    "        superline15=Line(start=answer15.get_start(),end=answer15.get_end(), buff=0)            \n",
    "        superline16=Line(start=answer16.get_start(),end=answer16.get_end(), buff=0) \n",
    "\n",
    "        text_label1 = Text(\"1\")\n",
    "        text_label1.next_to(superline0.get_start(), buff=0.2)\n",
    "        \n",
    "        text_label4 = Text(\"4\")\n",
    "        text_label4.next_to(superline0.get_end(), buff=0.2,direction=RIGHT)\n",
    "\n",
    "        text_label2 = Text(\"2\")\n",
    "        text_label2.next_to(superline2.get_end(), buff=0.2,direction=DOWN)\n",
    "\n",
    "        text_label6 = Text(\"6\")\n",
    "        text_label6.next_to(superline5.get_end(), buff=0.3,direction=RIGHT)\n",
    "\n",
    "        text_label5 = Text(\"5\")\n",
    "        text_label5.next_to(superline9.get_start(), buff=0.2,direction=UP)\n",
    "\n",
    "        text_label3 = Text(\"3\")\n",
    "        text_label3.next_to(superline13.get_end(), buff=0.2,direction=DOWN)\n",
    "\n",
    "        text_label7 = Text(\"7\")\n",
    "        text_label7.next_to(superline15.get_end(), buff=0.2,direction=DOWN)\n",
    "\n",
    "        self.play(Create(VGroup(superline0,superline2,superline4,superline5,superline9,\n",
    "                                superline13,superline14,superline15,text_label1,text_label4,text_label2,text_label6,text_label5,text_label3,text_label7)))\n",
    "        self.wait(1)"
   ]
  },
  {
   "cell_type": "code",
   "execution_count": 71,
   "metadata": {},
   "outputs": [
    {
     "data": {
      "text/html": [
       "<pre style=\"white-space:pre;overflow-x:auto;line-height:normal;font-family:Menlo,'DejaVu Sans Mono',consolas,'Courier New',monospace\">Manim Community <span style=\"color: #008000; text-decoration-color: #008000\">v0.19.0</span>\n",
       "\n",
       "</pre>\n"
      ],
      "text/plain": [
       "Manim Community \u001b[32mv0.\u001b[0m\u001b[32m19.0\u001b[0m\n",
       "\n"
      ]
     },
     "metadata": {},
     "output_type": "display_data"
    },
    {
     "name": "stderr",
     "output_type": "stream",
     "text": [
      "                                                                                              \r"
     ]
    },
    {
     "data": {
      "text/html": [
       "<video src=\"media\\jupyter\\Part23@2025-03-04@19-08-46.mp4\" controls autoplay loop style=\"max-width: 60%;\"  >\n",
       "      Your browser does not support the <code>video</code> element.\n",
       "    </video>"
      ],
      "text/plain": [
       "<IPython.core.display.Video object>"
      ]
     },
     "metadata": {},
     "output_type": "display_data"
    }
   ],
   "source": [
    "%%manim -qh -v WARNING Part23\n",
    "\n",
    "class Part23(Scene):     \n",
    "   \n",
    "    def construct(self):\n",
    "        answer = SVGMobject(r\"C:\\Users\\savit\\Downloads\\Mathematics Animations\\Video1\\svg02.svg\")\n",
    "        answer.scale(3)\n",
    "        answer.move_to(np.array([1, 0, 0]))\n",
    "\n",
    "        answer0= answer.submobjects[0]\n",
    "        answer1 = answer.submobjects[1]\n",
    "        answer2 = answer.submobjects[2]\n",
    "        answer3= answer.submobjects[3]\n",
    "        answer4= answer.submobjects[4]\n",
    "        answer5 = answer.submobjects[5]\n",
    "        answer6 = answer.submobjects[6]\n",
    "        answer7 = answer.submobjects[7]\n",
    "        answer8 = answer.submobjects[8]\n",
    "        answer9 = answer.submobjects[9]\n",
    "        answer10= answer.submobjects[10]\n",
    "        answer11 = answer.submobjects[11]\n",
    "        answer12 = answer.submobjects[12]\n",
    "        answer13 = answer.submobjects[13]\n",
    "        answer14 = answer.submobjects[14]\n",
    "        answer15= answer.submobjects[15]\n",
    "        answer16= answer.submobjects[16]\n",
    "\n",
    "        answer0.set_opacity(0)\n",
    "        answer1.set_opacity(0)\n",
    "        answer2.set_opacity(0)\n",
    "        answer3.set_opacity(0)\n",
    "        answer4.set_opacity(0)\n",
    "        answer5.set_opacity(0)\n",
    "        answer6.set_opacity(0)\n",
    "        answer7.set_opacity(0)\n",
    "        answer8.set_opacity(0)\n",
    "        answer9.set_opacity(0)\n",
    "        answer10.set_opacity(0)\n",
    "        answer11.set_opacity(0)\n",
    "        answer12.set_opacity(0)\n",
    "        answer13.set_opacity(0)\n",
    "        answer14.set_opacity(0)\n",
    "        answer15.set_opacity(0)\n",
    "        answer16.set_opacity(0)\n",
    "\n",
    "        superline0=Line(start=answer0.get_end(),end=answer0.get_start(), buff=0)\n",
    "        superline1=DashedLine(start=answer1.get_start(),end=answer1.get_end(), buff=0)\n",
    "        superline2=Line(start=answer2.get_start(),end=answer2.get_end(), buff=0)\n",
    "        superline3=DashedLine(start=answer3.get_start(),end=answer3.get_end(), buff=0)\n",
    "        superline4=Line(start=answer4.get_start(),end=answer4.get_end(), buff=0)        \n",
    "        superline5=Line(start=answer5.get_start(),end=answer5.get_end(), buff=0)\n",
    "        superline6=DashedLine(start=answer6.get_start(),end=answer6.get_end(), buff=0)\n",
    "        superline7=DashedLine(start=answer7.get_start(),end=answer7.get_end(), buff=0)\n",
    "        superline8=DashedLine(start=answer8.get_start(),end=answer8.get_end(), buff=0)\n",
    "        superline9=Line(start=answer9.get_end(),end=answer9.get_start(), buff=0)\n",
    "        superline10=DashedLine(start=answer10.get_start(),end=answer10.get_end(), buff=0)\n",
    "        superline11=DashedLine(start=answer11.get_start(),end=answer11.get_end(), buff=0)\n",
    "        superline12=DashedLine(start=answer12.get_start(),end=answer12.get_end(), buff=0)\n",
    "        superline13=Line(start=answer13.get_start(),end=answer13.get_end(), buff=0)        \n",
    "        superline14=Line(start=answer14.get_start(),end=answer14.get_end(), buff=0)\n",
    "        superline15=Line(start=answer15.get_start(),end=answer15.get_end(), buff=0)            \n",
    "        superline16=Line(start=answer16.get_start(),end=answer16.get_end(), buff=0) \n",
    "\n",
    "        text_label1 = Text(\"1\")\n",
    "        text_label1.next_to(superline0.get_start(), buff=0.2)\n",
    "        \n",
    "        text_label4 = Text(\"4\")\n",
    "        text_label4.next_to(superline0.get_end(), buff=0.2,direction=RIGHT)\n",
    "\n",
    "        text_label2 = Text(\"2\")\n",
    "        text_label2.next_to(superline2.get_end(), buff=0.2,direction=DOWN)\n",
    "\n",
    "        text_label6 = Text(\"6\")\n",
    "        text_label6.next_to(superline5.get_end(), buff=0.3,direction=RIGHT)\n",
    "\n",
    "        text_label5 = Text(\"5\")\n",
    "        text_label5.next_to(superline9.get_start(), buff=0.2,direction=UP)\n",
    "\n",
    "        text_label3 = Text(\"3\")\n",
    "        text_label3.next_to(superline13.get_end(), buff=0.2,direction=DOWN)\n",
    "\n",
    "        text_label7 = Text(\"7\")\n",
    "        text_label7.next_to(superline15.get_end(), buff=0.2,direction=DOWN)\n",
    "\n",
    "        self.play(Create(VGroup(superline0,superline2,superline4,superline5,superline9\n",
    "                                ,superline13,superline14,superline16,superline15,text_label1,text_label4,text_label2,text_label6,text_label5,text_label3,text_label7)))\n",
    "        self.wait(1)"
   ]
  },
  {
   "cell_type": "code",
   "execution_count": 167,
   "metadata": {},
   "outputs": [
    {
     "data": {
      "text/html": [
       "<pre style=\"white-space:pre;overflow-x:auto;line-height:normal;font-family:Menlo,'DejaVu Sans Mono',consolas,'Courier New',monospace\">Manim Community <span style=\"color: #008000; text-decoration-color: #008000\">v0.19.0</span>\n",
       "\n",
       "</pre>\n"
      ],
      "text/plain": [
       "Manim Community \u001b[32mv0.\u001b[0m\u001b[32m19.0\u001b[0m\n",
       "\n"
      ]
     },
     "metadata": {},
     "output_type": "display_data"
    },
    {
     "name": "stderr",
     "output_type": "stream",
     "text": [
      "                                                                                               \r"
     ]
    },
    {
     "data": {
      "text/html": [
       "<video src=\"media\\jupyter\\Part24@2025-03-05@09-02-48.mp4\" controls autoplay loop style=\"max-width: 60%;\"  >\n",
       "      Your browser does not support the <code>video</code> element.\n",
       "    </video>"
      ],
      "text/plain": [
       "<IPython.core.display.Video object>"
      ]
     },
     "metadata": {},
     "output_type": "display_data"
    }
   ],
   "source": [
    "%%manim -qh -v WARNING Part24\n",
    "\n",
    "class Part24(MovingCameraScene):     \n",
    "   \n",
    "    def construct(self):\n",
    "        answer = SVGMobject(r\"C:\\Users\\savit\\Downloads\\Mathematics Animations\\Video1\\svg02.svg\")\n",
    "        answer.scale(3)\n",
    "        answer.move_to(np.array([1, 0, 0]))\n",
    "\n",
    "        answer0= answer.submobjects[0]\n",
    "        answer1 = answer.submobjects[1]\n",
    "        answer2 = answer.submobjects[2]\n",
    "        answer3= answer.submobjects[3]\n",
    "        answer4= answer.submobjects[4]\n",
    "        answer5 = answer.submobjects[5]\n",
    "        answer6 = answer.submobjects[6]\n",
    "        answer7 = answer.submobjects[7]\n",
    "        answer8 = answer.submobjects[8]\n",
    "        answer9 = answer.submobjects[9]\n",
    "        answer10= answer.submobjects[10]\n",
    "        answer11 = answer.submobjects[11]\n",
    "        answer12 = answer.submobjects[12]\n",
    "        answer13 = answer.submobjects[13]\n",
    "        answer14 = answer.submobjects[14]\n",
    "        answer15= answer.submobjects[15]\n",
    "        answer16= answer.submobjects[16]\n",
    "\n",
    "        answer0.set_opacity(0)\n",
    "        answer1.set_opacity(0)\n",
    "        answer2.set_opacity(0)\n",
    "        answer3.set_opacity(0)\n",
    "        answer4.set_opacity(0)\n",
    "        answer5.set_opacity(0)\n",
    "        answer6.set_opacity(0)\n",
    "        answer7.set_opacity(0)\n",
    "        answer8.set_opacity(0)\n",
    "        answer9.set_opacity(0)\n",
    "        answer10.set_opacity(0)\n",
    "        answer11.set_opacity(0)\n",
    "        answer12.set_opacity(0)\n",
    "        answer13.set_opacity(0)\n",
    "        answer14.set_opacity(0)\n",
    "        answer15.set_opacity(0)\n",
    "        answer16.set_opacity(0)\n",
    "\n",
    "        superline0=Line(start=answer0.get_end(),end=answer0.get_start(), buff=0)\n",
    "        superline1=DashedLine(start=answer1.get_start(),end=answer1.get_end(), buff=0)\n",
    "        superline2=Line(start=answer2.get_start(),end=answer2.get_end(), buff=0)\n",
    "        superline3=DashedLine(start=answer3.get_start(),end=answer3.get_end(), buff=0)\n",
    "        superline4=Line(start=answer4.get_start(),end=answer4.get_end(), buff=0)        \n",
    "        superline5=Line(start=answer5.get_start(),end=answer5.get_end(), buff=0)\n",
    "        superline6=DashedLine(start=answer6.get_start(),end=answer6.get_end(), buff=0)\n",
    "        superline7=DashedLine(start=answer7.get_start(),end=answer7.get_end(), buff=0)\n",
    "        superline8=DashedLine(start=answer8.get_start(),end=answer8.get_end(), buff=0)\n",
    "        superline9=Line(start=answer9.get_end(),end=answer9.get_start(), buff=0)\n",
    "        superline10=DashedLine(start=answer10.get_start(),end=answer10.get_end(), buff=0)\n",
    "        superline11=DashedLine(start=answer11.get_start(),end=answer11.get_end(), buff=0)\n",
    "        superline12=DashedLine(start=answer12.get_start(),end=answer12.get_end(), buff=0)\n",
    "        superline13=Line(start=answer13.get_start(),end=answer13.get_end(), buff=0)        \n",
    "        superline14=Line(start=answer14.get_start(),end=answer14.get_end(), buff=0)\n",
    "        superline15=Line(start=answer15.get_start(),end=answer15.get_end(), buff=0)            \n",
    "        superline16=Line(start=answer16.get_start(),end=answer16.get_end(), buff=0) \n",
    "\n",
    "        text_label1 = Text(\"1\")\n",
    "        text_label1.next_to(superline0.get_start(), buff=0.2)\n",
    "        \n",
    "        text_label4 = Text(\"4\")\n",
    "        text_label4.next_to(superline0.get_end(), buff=0.2,direction=RIGHT)\n",
    "\n",
    "        text_label2 = Text(\"2\")\n",
    "        text_label2.next_to(superline2.get_end(), buff=0.2,direction=DOWN)\n",
    "\n",
    "        text_label6 = Text(\"6\")\n",
    "        text_label6.next_to(superline5.get_end(), buff=0.3,direction=RIGHT)\n",
    "\n",
    "        text_label5 = Text(\"5\")\n",
    "        text_label5.next_to(superline9.get_start(), buff=0.2,direction=UP)\n",
    "\n",
    "        text_label3 = Text(\"3\")\n",
    "        text_label3.next_to(superline13.get_end(), buff=0.2,direction=DOWN)\n",
    "\n",
    "        text_label7 = Text(\"7\")\n",
    "        text_label7.next_to(superline15.get_end(), buff=0.2,direction=DOWN)\n",
    "\n",
    "        self.play(Create(VGroup(superline0,superline2,superline4,superline5,superline9\n",
    "                                ,superline13,superline14,superline16,superline15,text_label1,text_label4,text_label2,text_label6,text_label5,text_label3,text_label7)))\n",
    "        self.wait(1)\n",
    "\n",
    "        self.camera.frame.save_state()\n",
    "\n",
    "        m1 = r'$400\\,\\mathrm{N}$'\n",
    "        m2 = r'$1000\\,\\mathrm{N}$'\n",
    "        m3 = r'$1000\\sqrt{2}\\,\\mathrm{N}$'\n",
    "        m4 = r'$500\\,\\mathrm{N}'\n",
    "        m5 = r'$200\\sqrt{2}\\,\\mathrm{N}$'\n",
    "        m6 = r'$300\\sqrt{2}\\,\\mathrm{N}$'\n",
    "        m7 = r'$300\\sqrt{2}\\,\\mathrm{N}$'\n",
    "\n",
    "        brace1 = Brace(superline0, RIGHT, color=BLUE, buff=0.7)  \n",
    "        brace1_text = brace1.get_text(\"1000 N\")\n",
    "\n",
    "        brace2 = BraceBetweenPoints(answer4.get_end(), answer4.get_start(), color=BLUE, buff=0.7)  \n",
    "        brace2_text = brace2.get_text(m3)\n",
    "\n",
    "        brace3 = BraceBetweenPoints(answer5.get_end(), answer5.get_start(), color=BLUE, buff=0.7)  \n",
    "        brace3_text = brace3.get_text(m5)\n",
    "\n",
    "        brace4 = BraceBetweenPoints(answer5.get_start(), answer9.get_end(), color=BLUE, buff=0.8)  \n",
    "        brace4_text = brace4.get_text(m1)\n",
    "\n",
    "        brace5 = BraceBetweenPoints( answer2.get_end(), answer2.get_start(), color=BLUE, buff=2.5)  \n",
    "        brace5_text = brace5.get_text(\"1000 N\")\n",
    "\n",
    "        brace6 = BraceBetweenPoints(  answer4.get_start(), answer10.get_start(),color=BLUE, buff=3.8)  \n",
    "        brace6_text = brace6.get_text(\" 600 N\")\n",
    "\n",
    "        brace7 = BraceBetweenPoints(  answer14.get_end(), answer14.get_start(),color=BLUE, buff=0.6)  \n",
    "        brace7_text = brace7.get_text(m6)\n",
    "\n",
    "        self.play(Create(brace1),Create(brace1_text))\n",
    "        self.wait(1)\n",
    "        self.play(Create(brace2),Create(brace2_text))\n",
    "        self.wait(1)\n",
    "        self.play(self.camera.frame.animate.move_to(superline9.get_start()).scale(0.8))\n",
    "        self.wait(1)\n",
    "        self.play(Create(brace3),Create(brace3_text))\n",
    "        self.wait(1)\n",
    "        self.play(Create(brace4),Create(brace4_text))   \n",
    "        self.wait(1)\n",
    "        self.play(self.camera.frame.animate.move_to(superline9.get_start()).scale(1.5))\n",
    "        self.wait(1)\n",
    "        self.play(Create(brace5),Create(brace5_text))   \n",
    "        self.wait(1)\n",
    "        self.play(Create(brace6),Create(brace6_text))\n",
    "        self.wait(1)\n",
    "        self.play(Create(brace7),Create(brace7_text))\n",
    "        self.wait(1)"
   ]
  },
  {
   "cell_type": "code",
   "execution_count": 183,
   "metadata": {},
   "outputs": [
    {
     "data": {
      "text/html": [
       "<pre style=\"white-space:pre;overflow-x:auto;line-height:normal;font-family:Menlo,'DejaVu Sans Mono',consolas,'Courier New',monospace\">Manim Community <span style=\"color: #008000; text-decoration-color: #008000\">v0.19.0</span>\n",
       "\n",
       "</pre>\n"
      ],
      "text/plain": [
       "Manim Community \u001b[32mv0.\u001b[0m\u001b[32m19.0\u001b[0m\n",
       "\n"
      ]
     },
     "metadata": {},
     "output_type": "display_data"
    },
    {
     "name": "stderr",
     "output_type": "stream",
     "text": [
      "                                                                                                    \r"
     ]
    },
    {
     "data": {
      "text/html": [
       "<video src=\"media\\jupyter\\Part25@2025-03-05@15-24-26.mp4\" controls autoplay loop style=\"max-width: 60%;\"  >\n",
       "      Your browser does not support the <code>video</code> element.\n",
       "    </video>"
      ],
      "text/plain": [
       "<IPython.core.display.Video object>"
      ]
     },
     "metadata": {},
     "output_type": "display_data"
    }
   ],
   "source": [
    "%%manim -qh -v WARNING Part25\n",
    "\n",
    "class Part25(Scene):\n",
    "    \n",
    "    def construct(self):\n",
    "\n",
    "        structure=SVGMobject(r\"C:\\Users\\savit\\Downloads\\Mathematics Animations\\Video1\\SVG03.svg\")\n",
    "        structure.scale(2.5)\n",
    "        structure.move_to(np.array([-1,-1,0]))          #uploading the SVG     \n",
    "        \n",
    "        line0= structure.submobjects[0]\n",
    "        line1= structure.submobjects[1]\n",
    "        line2= structure.submobjects[2]\n",
    "        line3= structure.submobjects[3]\n",
    "        line4= structure.submobjects[4] \n",
    "        line5= structure.submobjects[5]\n",
    "        line6= structure.submobjects[6]\n",
    "        line7= structure.submobjects[7]\n",
    "        line8= structure.submobjects[8]\n",
    "        line9= structure.submobjects[9] \n",
    "        line10= structure.submobjects[10]\n",
    "        line11= structure.submobjects[11]\n",
    "        line12= structure.submobjects[12]\n",
    "        line13= structure.submobjects[13]\n",
    "        line14= structure.submobjects[14] \n",
    "        line15= structure.submobjects[15]\n",
    "        line16= structure.submobjects[16]\n",
    "        line17= structure.submobjects[17]\n",
    "        line18= structure.submobjects[18]\n",
    "        line19= structure.submobjects[19] \n",
    "        line20= structure.submobjects[20]\n",
    "        line21= structure.submobjects[21]\n",
    "        line22= structure.submobjects[22]\n",
    "        line23= structure.submobjects[23]\n",
    "        line24= structure.submobjects[24] \n",
    "        line25= structure.submobjects[25]\n",
    "        line26= structure.submobjects[26]\n",
    "        line27= structure.submobjects[27]\n",
    "        line28= structure.submobjects[28]\n",
    "        line29= structure.submobjects[29]\n",
    "        line30= structure.submobjects[30]\n",
    "        line31= structure.submobjects[31]\n",
    "        line32= structure.submobjects[32]\n",
    "        line33= structure.submobjects[33] \n",
    "        line34= structure.submobjects[34]\n",
    "        line35= structure.submobjects[35]\n",
    "        line36= structure.submobjects[36]\n",
    "        line37= structure.submobjects[37]\n",
    "        line38= structure.submobjects[38] \n",
    "        line39= structure.submobjects[39]\n",
    "        line40= structure.submobjects[40]\n",
    "        line41= structure.submobjects[41]\n",
    "        line42= structure.submobjects[42]   \n",
    "        line43= structure.submobjects[43]\n",
    "\n",
    "        for i in range(43):\n",
    "            structure.submobjects[i].set_opacity(0)\n",
    "\n",
    "        letterA=Text(\"A\", color=\"YELLOW\", font_size=21)\n",
    "        letterB=Text(\"B\", color=\"YELLOW\", font_size=21)\n",
    "        letterC=Text(\"C\", color=\"YELLOW\", font_size=21)\n",
    "        letterD=Text(\"D\", color=\"YELLOW\", font_size=21)\n",
    "        letterE=Text(\"E\", color=\"YELLOW\", font_size=21)          \n",
    "\n",
    "        letterA.next_to(line7.get_start(),UP, buff=0.2)\n",
    "        letterB.next_to(line5.get_end(),UP, buff=0.2)\n",
    "        letterC.next_to(line6.get_end(),UP, buff=0.2)\n",
    "        letterD.next_to(line1.get_start(),LEFT, buff=0.5)\n",
    "        letterE.next_to(line0.get_end(),DOWN+LEFT, buff=0.3)            \n",
    "\n",
    "        arrow1=Arrow(start=line7.get_start(), \n",
    "                     end=(line7.get_end()), \n",
    "                     buff=0, color=RED)\n",
    "        \n",
    "        arrow2=Arrow(start=line9.get_start(),\n",
    "                      end=(line9.get_end()),\n",
    "                        buff=0, color=RED)\n",
    "        \n",
    "        arrow3=Arrow(start=line8.get_start(),\n",
    "                      end=(line8.get_end()), \n",
    "                      buff=0, color=RED)   \n",
    "\n",
    "        l0=Line(start=line0.get_start(), end=line0.get_end(), buff=0,color=YELLOW)       \n",
    "        l1=Line(start=line1.get_start(), end=line1.get_end(), buff=0,color=YELLOW)\n",
    "        l2=Line(start=line2.get_start(), end=line2.get_end(), buff=0,color=YELLOW)\n",
    "        l3=Line(start=line3.get_start(), end=line3.get_end(), buff=0,color=YELLOW)\n",
    "        l4=Line(start=line4.get_start(), end=line4.get_end(), buff=0,color=YELLOW)\n",
    "        l5=Line(start=line5.get_start(), end=line5.get_end(), buff=0,color=YELLOW)\n",
    "        l6=Line(start=line6.get_start(), end=line6.get_end(), buff=0,color=YELLOW)\n",
    "\n",
    "        dot8 = Dot(point=line8.get_start(),\n",
    "                    color=RED)\n",
    "        dot9 = Dot(point=line9.get_start(),\n",
    "                    color=RED)\n",
    "        dot10 = Dot(point=line7.get_start(),\n",
    "                     color=RED)                    \n",
    "\n",
    "        self.play(Create(VGroup(structure,\n",
    "                                arrow1, arrow2, arrow3,\n",
    "                                 l0,l1,l2,l3,l4,l5,l6, dot8, dot9, dot10,)))        \n",
    "\n",
    "        self.play(Create(VGroup(letterA,\n",
    "                                letterB,\n",
    "                                letterC,\n",
    "                                letterD,\n",
    "                                letterE)))          \n",
    "        self.wait(3)\n",
    "\n",
    "        number1=Text(\"1\",font_size=42, font=\"Arial\")\n",
    "        number2=Text(\"2\", font_size=42, font=\"Arial\")\n",
    "        number3=Text(\"3\", font_size=42, font=\"Arial\")\n",
    "        number4=Text(\"4\", font_size=42, font=\"Arial\")\n",
    "        number5=Text(\"5\",font_size=42, font=\"Arial\")\n",
    "        number6=Text(\"6\",font_size=42, font=\"Arial\")\n",
    "        number7=Text(\"7\", font_size=42, font=\"Arial\")\n",
    "    \n",
    "        number1.move_to(np.array([2.5,-2,0]))\n",
    "        number2.move_to(np.array([1.6,0.7,0]))\n",
    "        number3.move_to(np.array([0,0.5,0]))\n",
    "        number4.move_to(np.array([0,3,0]))\n",
    "        number5.move_to(np.array([-1.45,0.55,0]))\n",
    "        number6.move_to(np.array([-4,-2,0]))           \n",
    "        number7.move_to(np.array([0,-2,0]))    \n",
    "        \n",
    "        dashline=DashedLine(start=(line4.get_start()), end=np.array([2,-20,0]))\n",
    "\n",
    "        self.play(arrow1.animate.scale(5, about_point=arrow1.get_start()))\n",
    "        self.play(arrow2.animate.scale(5, about_point=arrow2.get_start()))\n",
    "        self.play(arrow3.animate.scale(5, about_point=arrow3.get_start()))\n",
    "        self.play(Create(dashline))     \n",
    "        self.play(Create(VGroup(\n",
    "                number1, number2, number3,\n",
    "                number4, number5, number6, number7\n",
    "                        )))\n",
    "        self.wait(3)\n",
    "\n",
    "        a10=Line(start=line10.get_start(), end=line10.get_end(), buff=0,color=RED)       \n",
    "        a11=Line(start=line11.get_start(), end=line11.get_end(), buff=0,color=RED)\n",
    "        a12=Line(start=line12.get_start(), end=line12.get_end(), buff=0,color=RED)\n",
    "        a13=Line(start=line13.get_start(), end=line13.get_end(), buff=0,color=RED)\n",
    "        a20=Line(start=line20.get_start(), end=line20.get_end(), buff=0,color=RED)\n",
    "        a21=Line(start=line21.get_start(), end=line21.get_end(), buff=0,color=RED)\n",
    "        a22=Line(start=line22.get_start(), end=line22.get_end(), buff=0,color=RED)\n",
    "        a23=Line(start=line23.get_start(), end=line23.get_end(), buff=0,color=RED)       \n",
    "        a24=Line(start=line24.get_start(), end=line24.get_end(), buff=0,color=RED)\n",
    "        a25=Line(start=line25.get_start(), end=line25.get_end(), buff=0,color=RED)\n",
    "        a26=Line(start=line26.get_start(), end=line26.get_end(), buff=0,color=RED)\n",
    "        a27=Line(start=line27.get_start(), end=line27.get_end(), buff=0,color=RED)\n",
    "        a28=Line(start=line28.get_start(), end=line28.get_end(), buff=0,color=RED)\n",
    "        a29=Line(start=line29.get_start(), end=line29.get_end(), buff=0,color=RED)\n",
    "        a30=Line(start=line30.get_start(), end=line30.get_end(), buff=0,color=RED)\n",
    "        a31=Line(start=line31.get_start(), end=line31.get_end(), buff=0,color=RED)\n",
    "        a32=Line(start=line32.get_start(), end=line32.get_end(), buff=0,color=RED)\n",
    "        a33=Line(start=line33.get_start(), end=line33.get_end(), buff=0,color=RED)\n",
    "        a34=Line(start=line34.get_start(), end=line34.get_end(), buff=0,color=RED)       \n",
    "        a35=Line(start=line35.get_start(), end=line35.get_end(), buff=0,color=RED)\n",
    "        a36=Line(start=line36.get_start(), end=line36.get_end(), buff=0,color=RED)\n",
    "        a37=Line(start=line37.get_start(), end=line37.get_end(), buff=0,color=RED)\n",
    "        a38=Line(start=line38.get_start(), end=line38.get_end(), buff=0,color=RED)\n",
    "        a39=Line(start=line39.get_start(), end=line39.get_end(), buff=0,color=RED)\n",
    "        a40=Line(start=line40.get_start(), end=line40.get_end(), buff=0,color=RED)\n",
    "        a41=Line(start=line41.get_start(), end=line41.get_end(), buff=0,color=RED)\n",
    "        a42=Line(start=line42.get_start(), end=line42.get_end(), buff=0,color=RED)\n",
    "        a43=Line(start=line43.get_start(), end=line43.get_end(), buff=0,color=RED)\n",
    "        \n",
    "        VG1=VGroup(a10,a11)\n",
    "        VG2=VGroup(a12,a13)\n",
    "        VG3=VGroup(a20,a21)\n",
    "        VG4=VGroup(a22,a23)\n",
    "        VG5=VGroup(a24,a25)\n",
    "        VG6=VGroup(a26,a27)\n",
    "        VG7=VGroup(a32,a33)\n",
    "        VG8=VGroup(a34,a35)\n",
    "        VG9=VGroup(a36,a37)\n",
    "        VG10=VGroup(a38,a39)\n",
    "        VG11=VGroup(a40,a41)\n",
    "        VG12=VGroup(a42,a43)\n",
    "        VG13=VGroup(a28,a29)\n",
    "        VG14=VGroup(a30,a31)\n",
    "\n",
    "        self.play(Create(VG4),Create(VG6))\n",
    "        self.wait(1)\n",
    "        self.play(Create(VG3))\n",
    "        self.wait(1)\n",
    "        self.play(Create(VG5))\n",
    "        self.wait(1)\n",
    "        self.play(Create(VG7),Create(VG1))\n",
    "        self.wait(1)\n",
    "        self.play(Create(VG8))\n",
    "        self.wait(1)    \n",
    "        self.play(Create(VG2))\n",
    "        self.wait(1)\n",
    "        self.play(Create(VG12),Create(VG9))\n",
    "        self.wait(1)\n",
    "        self.play(Create(VG11))\n",
    "        self.wait(1)\n",
    "        self.play(Create(VG10))\n",
    "        self.wait(1)\n",
    "        self.play(Create(VG13))\n",
    "        self.wait(1)\n",
    "        self.play(Create(VG14)) \n",
    "        self.wait(1)"
   ]
  }
 ],
 "metadata": {
  "kernelspec": {
   "display_name": "Python 3",
   "language": "python",
   "name": "python3"
  },
  "language_info": {
   "codemirror_mode": {
    "name": "ipython",
    "version": 3
   },
   "file_extension": ".py",
   "mimetype": "text/x-python",
   "name": "python",
   "nbconvert_exporter": "python",
   "pygments_lexer": "ipython3",
   "version": "3.12.8"
  }
 },
 "nbformat": 4,
 "nbformat_minor": 2
}
