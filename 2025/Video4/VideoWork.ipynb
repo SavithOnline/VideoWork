{
 "cells": [
  {
   "cell_type": "code",
   "execution_count": 1,
   "id": "fa898fe7",
   "metadata": {},
   "outputs": [],
   "source": [
    "from manim import*"
   ]
  },
  {
   "cell_type": "code",
   "execution_count": 2,
   "id": "746a9175",
   "metadata": {},
   "outputs": [],
   "source": [
    "config.renderer=\"opengl\"\n",
    "SINHALA_FONT = \"Noto Sans Sinhala\"\n",
    "TABLE_FONT = \"Abhaya Libre\""
   ]
  },
  {
   "cell_type": "code",
   "execution_count": 12,
   "id": "9124c969",
   "metadata": {},
   "outputs": [
    {
     "data": {
      "text/html": [
       "<pre style=\"white-space:pre;overflow-x:auto;line-height:normal;font-family:Menlo,'DejaVu Sans Mono',consolas,'Courier New',monospace\">Manim Community <span style=\"color: #008000; text-decoration-color: #008000\">v0.19.0</span>\n",
       "\n",
       "</pre>\n"
      ],
      "text/plain": [
       "Manim Community \u001b[32mv0.\u001b[0m\u001b[32m19.0\u001b[0m\n",
       "\n"
      ]
     },
     "metadata": {},
     "output_type": "display_data"
    },
    {
     "name": "stderr",
     "output_type": "stream",
     "text": [
      "                                                                                  \r"
     ]
    },
    {
     "data": {
      "text/html": [
       "<video src=\"media\\jupyter\\Part1@2025-04-16@23-45-03.mp4\" controls autoplay loop style=\"max-width: 60%;\"  >\n",
       "      Your browser does not support the <code>video</code> element.\n",
       "    </video>"
      ],
      "text/plain": [
       "<IPython.core.display.Video object>"
      ]
     },
     "metadata": {},
     "output_type": "display_data"
    }
   ],
   "source": [
    "%%manim -qh -v WARNING Part1\n",
    "\n",
    "class Part1(Scene):\n",
    "\n",
    "    def construct(self):\n",
    "\n",
    "        screen_1=FullScreenRectangle(stroke_width=0.01)\n",
    "        screen_1.set_fill(\n",
    "                    color=WHITE,\n",
    "                    opacity=1           \n",
    "                )\n",
    "        self.play(FadeIn(screen_1))\n",
    "        self.wait(1)\n",
    "\n",
    "        image = ImageMobject(r\"C:\\Users\\savit\\Downloads\\VideoWork\\2025\\Video4\\CropedQuestion.png\")\n",
    "        \n",
    "        image.move_to(ORIGIN) \n",
    "             \n",
    "        self.play(FadeIn(image))\n",
    "        self.wait(5)"
   ]
  },
  {
   "cell_type": "code",
   "execution_count": 13,
   "id": "70e58464",
   "metadata": {},
   "outputs": [
    {
     "data": {
      "text/html": [
       "<pre style=\"white-space:pre;overflow-x:auto;line-height:normal;font-family:Menlo,'DejaVu Sans Mono',consolas,'Courier New',monospace\">Manim Community <span style=\"color: #008000; text-decoration-color: #008000\">v0.19.0</span>\n",
       "\n",
       "</pre>\n"
      ],
      "text/plain": [
       "Manim Community \u001b[32mv0.\u001b[0m\u001b[32m19.0\u001b[0m\n",
       "\n"
      ]
     },
     "metadata": {},
     "output_type": "display_data"
    },
    {
     "name": "stderr",
     "output_type": "stream",
     "text": [
      "                                                                                                   \r"
     ]
    },
    {
     "data": {
      "text/html": [
       "<video src=\"media\\jupyter\\Part2@2025-04-16@23-51-29.mp4\" controls autoplay loop style=\"max-width: 60%;\"  >\n",
       "      Your browser does not support the <code>video</code> element.\n",
       "    </video>"
      ],
      "text/plain": [
       "<IPython.core.display.Video object>"
      ]
     },
     "metadata": {},
     "output_type": "display_data"
    }
   ],
   "source": [
    "%%manim -qh -v WARNING Part2\n",
    "\n",
    "class Part2(MovingCameraScene):\n",
    "\n",
    "    def construct(self):\n",
    "\n",
    "        tex = always_redraw(lambda: Text(\"පෙර වැඩ\", font_size=49, font=TABLE_FONT).move_to(UP*3+LEFT*4))\n",
    "        self.play(Write(tex))\n",
    "\n",
    "        self.wait(2)    \n",
    "        s1 = Rectangle(width=4, height=1, color=BLUE, fill_opacity=0.5).move_to(UP+LEFT*4)\n",
    "        s2 = Rectangle(width=4, height=1, color=YELLOW, fill_opacity=0.5).move_to(DOWN)\n",
    "        s3 = Rectangle(width=4, height=1, color=YELLOW, fill_opacity=0.5).move_to(DOWN+RIGHT*4)\n",
    "        s4 = Rectangle(width=4, height=1, color=BLUE, fill_opacity=0.5).move_to(UP+RIGHT*7)\n",
    "        s5 = Rectangle(width=4, height=1, color=YELLOW, fill_opacity=0.5).move_to(DOWN+RIGHT*7)\n",
    "        \n",
    "        labelA = always_redraw(lambda: Text(\"B\", font_size=49, font=TABLE_FONT).move_to(s1.get_center()))\n",
    "        labelB = always_redraw(lambda: Text(\"A\", font_size=49, font=TABLE_FONT).move_to(s2.get_center()))\n",
    "        \n",
    "        # s1--> s4\n",
    "        # s2--> s3 --> s5\n",
    "        self.play(Create(s1),Create(s2))\n",
    "        self.add(labelA,labelB)\n",
    "        mtex1 = MathTex(r\"T = 0\", font_size=49, color=RED).move_to(DOWN*3)\n",
    "        self.play(Write(mtex1))\n",
    "        self.wait(5)\n",
    "\n",
    "        self.play(Unwrite(mtex1))\n",
    "        self.play(ReplacementTransform(s2,s3))\n",
    "        labelB.add_updater(lambda m: m.move_to(s3.get_center()))\n",
    "        mtex2 = MathTex(r\"T = \\frac{d}{v}\", font_size=49, color=RED).move_to(DOWN*3)\n",
    "        self.play(Write(mtex2))\n",
    "        self.play(self.camera.frame.animate.move_to(ORIGIN).scale(1.5))    \n",
    "        self.wait(5)\n",
    "\n",
    "        self.play(Unwrite(mtex2))\n",
    "        self.play(ReplacementTransform(s3,s5))\n",
    "        mtex3 = MathTex(r\"T = t^{l}\", font_size=49, color=RED).move_to(DOWN*3)\n",
    "        self.play(Write(mtex3))\n",
    "        self.wait(5)\n",
    "\n",
    "        self.play(ReplacementTransform(s1,s4))\n",
    "        self.wait(5)\n"
   ]
  },
  {
   "cell_type": "code",
   "execution_count": 5,
   "id": "280d4f96",
   "metadata": {},
   "outputs": [
    {
     "data": {
      "text/html": [
       "<pre style=\"white-space:pre;overflow-x:auto;line-height:normal;font-family:Menlo,'DejaVu Sans Mono',consolas,'Courier New',monospace\">Manim Community <span style=\"color: #008000; text-decoration-color: #008000\">v0.19.0</span>\n",
       "\n",
       "</pre>\n"
      ],
      "text/plain": [
       "Manim Community \u001b[32mv0.\u001b[0m\u001b[32m19.0\u001b[0m\n",
       "\n"
      ]
     },
     "metadata": {},
     "output_type": "display_data"
    },
    {
     "name": "stderr",
     "output_type": "stream",
     "text": [
      "                                                                                                                                            \r"
     ]
    },
    {
     "data": {
      "text/html": [
       "<video src=\"media\\jupyter\\Part3@2025-04-16@23-37-54.mp4\" controls autoplay loop style=\"max-width: 60%;\"  >\n",
       "      Your browser does not support the <code>video</code> element.\n",
       "    </video>"
      ],
      "text/plain": [
       "<IPython.core.display.Video object>"
      ]
     },
     "metadata": {},
     "output_type": "display_data"
    }
   ],
   "source": [
    "%%manim -qh -v WARNING Part3\n",
    "\n",
    "class Part3(MovingCameraScene):\n",
    "    def construct(self):\n",
    "        ax = Axes(\n",
    "            x_range=[0, 40, 5],\n",
    "            y_range=[-8, 32, 5],\n",
    "            x_length=9,\n",
    "            y_length=6,\n",
    "            #x_axis_config={\"numbers_to_include\": np.arange(0, 40, 5)},\n",
    "            #y_axis_config={\"numbers_to_include\": np.arange(-5, 34, 5)},\n",
    "            tips=False,\n",
    "        )\n",
    "        labels = ax.get_axis_labels(\n",
    "            x_label=Tex(r\"$V$\"), y_label=Tex(r\"$T$\")\n",
    "        )\n",
    "\n",
    "        x_vals = [0, 35]\n",
    "        y_vals = [10, 10]\n",
    "        graph_1 = ax.plot_line_graph(x_values=x_vals, y_values=y_vals)\n",
    "        graph_2 = ax.plot_line_graph(x_values=[10,30], y_values=[0,30]).set_color(BLUE)\n",
    "        graph_3 = ax.plot_line_graph(x_values=[0,30,30], y_values=[30,30,0]).set_color(GRAY)\n",
    "\n",
    "        l1 = MathTex(r\"v\", font_size=49, color=YELLOW).next_to(graph_1, LEFT)\n",
    "        l2 = MathTex(r\"v^{l}\", font_size=49, color=YELLOW).next_to(ax.coords_to_point(0, 30), LEFT)\n",
    "        l3 = MathTex(r\"t^{l}\", font_size=49, color=YELLOW).next_to(ax.coords_to_point(30, 0), DOWN)\n",
    "        l4 = MathTex(r\"\\frac{d}{v}\", font_size=49, color=YELLOW).next_to(ax.coords_to_point(10, 0), DOWN)\n",
    "\n",
    "        b1 = BraceBetweenPoints( ax.coords_to_point(10,0), ax.coords_to_point(30,0), color=YELLOW, buff=1.5)\n",
    "        b1_label = b1.get_text(r\"$T^{l}$\").next_to(b1, DOWN)\n",
    "        b1.add(b1_label)\n",
    "\n",
    "        # Group all labels together\n",
    "        labels_group = VGroup(l1, l2, l3, l4)\n",
    "\n",
    "        self.play(Create(ax), Write(labels))\n",
    "        self.play(Create(graph_1), Create(graph_2), Create(graph_3))\n",
    "        self.play(Write(labels_group))\n",
    "        self.wait(5)\n",
    "        self.play(self.camera.frame.animate.move_to(ORIGIN).scale(1.5))    \n",
    "        self.play(Create(b1))\n",
    "        self.wait(5)"
   ]
  },
  {
   "cell_type": "code",
   "execution_count": 6,
   "id": "f7e586c4",
   "metadata": {},
   "outputs": [
    {
     "data": {
      "text/html": [
       "<pre style=\"white-space:pre;overflow-x:auto;line-height:normal;font-family:Menlo,'DejaVu Sans Mono',consolas,'Courier New',monospace\">Manim Community <span style=\"color: #008000; text-decoration-color: #008000\">v0.19.0</span>\n",
       "\n",
       "</pre>\n"
      ],
      "text/plain": [
       "Manim Community \u001b[32mv0.\u001b[0m\u001b[32m19.0\u001b[0m\n",
       "\n"
      ]
     },
     "metadata": {},
     "output_type": "display_data"
    },
    {
     "name": "stderr",
     "output_type": "stream",
     "text": [
      "                                                                                             \r"
     ]
    },
    {
     "data": {
      "text/html": [
       "<video src=\"media\\jupyter\\Part4@2025-04-16@23-38-40.mp4\" controls autoplay loop style=\"max-width: 60%;\"  >\n",
       "      Your browser does not support the <code>video</code> element.\n",
       "    </video>"
      ],
      "text/plain": [
       "<IPython.core.display.Video object>"
      ]
     },
     "metadata": {},
     "output_type": "display_data"
    }
   ],
   "source": [
    "%%manim -qh -v WARNING Part4\n",
    "\n",
    "class Part4(Scene):\n",
    "\n",
    "    def construct(self):\n",
    "        \n",
    "        tex_1 = MathTex(r\"( \\frac{d}{v} + T^{l} ) v + d = \\frac{v^l}{2}T^l\", font_size=49, color=YELLOW)\n",
    "        tex_2 = MathTex(r\" T^{l}v + 2d = \\frac{v^l}{2} . T^l . \\frac{T^l}{T^l}\", font_size=49, color=YELLOW)\n",
    "        tex_3 = MathTex(r\" T^l.v + 2d = \\frac{v^l}{T^l}. \\frac{(T^{l})^2}{2} \", font_size=49, color=YELLOW)\n",
    "        tex_4 = MathTex(r\" T^l.v + 2d = \\frac{2v^2}{d}. \\frac{(T^{l})^2}{2} \", font_size=49, color=YELLOW)\n",
    "        tex_5 = MathTex(r\" T^l.v.d + 2d^{2} = v^{2}.(T^{l})^2\", font_size=49, color=YELLOW)\n",
    "\n",
    "        VG=VGroup(tex_1,tex_2,tex_3,tex_4,tex_5).arrange(DOWN)\n",
    "        self.play(FadeIn(VG))\n",
    "        self.wait(20)"
   ]
  },
  {
   "cell_type": "code",
   "execution_count": 7,
   "id": "e806eb8a",
   "metadata": {},
   "outputs": [
    {
     "data": {
      "text/html": [
       "<pre style=\"white-space:pre;overflow-x:auto;line-height:normal;font-family:Menlo,'DejaVu Sans Mono',consolas,'Courier New',monospace\">Manim Community <span style=\"color: #008000; text-decoration-color: #008000\">v0.19.0</span>\n",
       "\n",
       "</pre>\n"
      ],
      "text/plain": [
       "Manim Community \u001b[32mv0.\u001b[0m\u001b[32m19.0\u001b[0m\n",
       "\n"
      ]
     },
     "metadata": {},
     "output_type": "display_data"
    },
    {
     "name": "stderr",
     "output_type": "stream",
     "text": [
      "                                                                                             \r"
     ]
    },
    {
     "data": {
      "text/html": [
       "<video src=\"media\\jupyter\\Part5@2025-04-16@23-38-53.mp4\" controls autoplay loop style=\"max-width: 60%;\"  >\n",
       "      Your browser does not support the <code>video</code> element.\n",
       "    </video>"
      ],
      "text/plain": [
       "<IPython.core.display.Video object>"
      ]
     },
     "metadata": {},
     "output_type": "display_data"
    }
   ],
   "source": [
    "%%manim -qh -v WARNING Part5\n",
    "\n",
    "class Part5(Scene):\n",
    "\n",
    "    def construct(self):\n",
    "\n",
    "        tex_1 = MathTex(r\" T^l.v.d + 2d^{2} = (v^{l})^{2}.(T^{l})^2\", font_size=49, color=YELLOW)\n",
    "        tex_2 = MathTex(r\" v^{2}.(T^{l})^2 - v.d.T^l - 2d^{2} = 0\", font_size=49, color=YELLOW)\n",
    "\n",
    "        VG=VGroup(tex_1,tex_2).arrange(DOWN)\n",
    "        self.play(FadeIn(VG))\n",
    "        self.wait(3)"
   ]
  },
  {
   "cell_type": "code",
   "execution_count": 8,
   "id": "19c0ab19",
   "metadata": {},
   "outputs": [
    {
     "data": {
      "text/html": [
       "<pre style=\"white-space:pre;overflow-x:auto;line-height:normal;font-family:Menlo,'DejaVu Sans Mono',consolas,'Courier New',monospace\">Manim Community <span style=\"color: #008000; text-decoration-color: #008000\">v0.19.0</span>\n",
       "\n",
       "</pre>\n"
      ],
      "text/plain": [
       "Manim Community \u001b[32mv0.\u001b[0m\u001b[32m19.0\u001b[0m\n",
       "\n"
      ]
     },
     "metadata": {},
     "output_type": "display_data"
    },
    {
     "name": "stderr",
     "output_type": "stream",
     "text": [
      "                                                                                         \r"
     ]
    },
    {
     "data": {
      "text/html": [
       "<video src=\"media\\jupyter\\Part6@2025-04-16@23-39-15.mp4\" controls autoplay loop style=\"max-width: 60%;\"  >\n",
       "      Your browser does not support the <code>video</code> element.\n",
       "    </video>"
      ],
      "text/plain": [
       "<IPython.core.display.Video object>"
      ]
     },
     "metadata": {},
     "output_type": "display_data"
    }
   ],
   "source": [
    "%%manim -qh -v WARNING Part6\n",
    "\n",
    "class Part6(Scene):\n",
    "\n",
    "    def construct(self):\n",
    "\n",
    "        screen_1=FullScreenRectangle(stroke_width=0.01)\n",
    "        screen_1.set_fill(\n",
    "                    color=BLACK,\n",
    "                    opacity=1           \n",
    "                )\n",
    "        self.play(FadeIn(screen_1))\n",
    "        self.wait(1)\n",
    "\n",
    "        image = ImageMobject(r\"C:\\Users\\savit\\Downloads\\VideoWork\\2025\\Video4\\602.jpg\")\n",
    "        \n",
    "        image.move_to(ORIGIN) \n",
    "             \n",
    "        self.play(FadeIn(image))\n",
    "        self.wait(5)"
   ]
  },
  {
   "cell_type": "code",
   "execution_count": 17,
   "id": "8836ab9b",
   "metadata": {},
   "outputs": [
    {
     "data": {
      "text/html": [
       "<pre style=\"white-space:pre;overflow-x:auto;line-height:normal;font-family:Menlo,'DejaVu Sans Mono',consolas,'Courier New',monospace\">Manim Community <span style=\"color: #008000; text-decoration-color: #008000\">v0.19.0</span>\n",
       "\n",
       "</pre>\n"
      ],
      "text/plain": [
       "Manim Community \u001b[32mv0.\u001b[0m\u001b[32m19.0\u001b[0m\n",
       "\n"
      ]
     },
     "metadata": {},
     "output_type": "display_data"
    },
    {
     "name": "stderr",
     "output_type": "stream",
     "text": [
      "                                                                                                                                                        \r"
     ]
    },
    {
     "data": {
      "text/html": [
       "<video src=\"media\\jupyter\\Part7@2025-04-17@00-07-09.mp4\" controls autoplay loop style=\"max-width: 60%;\"  >\n",
       "      Your browser does not support the <code>video</code> element.\n",
       "    </video>"
      ],
      "text/plain": [
       "<IPython.core.display.Video object>"
      ]
     },
     "metadata": {},
     "output_type": "display_data"
    }
   ],
   "source": [
    "%%manim -qh -v WARNING Part7\n",
    "\n",
    "class Part7(Scene):\n",
    "\n",
    "    def construct(self):\n",
    "\n",
    "        tex_1 = MathTex(r\" T^l = \\frac{v.d \\pm \\sqrt{(v.d)^{2}-(4)(v^{2})(-2d^{2})}}{2v^2}\", font_size=49, color=YELLOW)\n",
    "        tex_2 = MathTex(r\" T^l = \\frac{v.d \\pm \\sqrt{9.v^2.d^2}}{2v^2}\", font_size=49, color=YELLOW)\n",
    "        tex_3 = MathTex(r\" T^l = \\frac{v.d \\pm 3.v.d}{2v^2}\", font_size=49, color=YELLOW)\n",
    "        tex_4 = MathTex(r\" T^l = \\frac{4.v.d}{2v^2}\", font_size=49, color=YELLOW)\n",
    "        tex_5 = MathTex(r\" T^l = \\frac{2d}{v}\", font_size=49, color=YELLOW)\n",
    "\n",
    "        self.play(Write(tex_1))\n",
    "        self.wait(3)\n",
    "        self.play(ReplacementTransform(tex_1,tex_2))\n",
    "        self.wait(3)\n",
    "        self.play(ReplacementTransform(tex_2,tex_3))\n",
    "        self.wait(3)    \n",
    "        self.play(ReplacementTransform(tex_3,tex_4))\n",
    "        self.wait(3)\n",
    "        self.play(ReplacementTransform(tex_4,tex_5))\n",
    "        self.wait(3)"
   ]
  }
 ],
 "metadata": {
  "kernelspec": {
   "display_name": "Python 3",
   "language": "python",
   "name": "python3"
  },
  "language_info": {
   "codemirror_mode": {
    "name": "ipython",
    "version": 3
   },
   "file_extension": ".py",
   "mimetype": "text/x-python",
   "name": "python",
   "nbconvert_exporter": "python",
   "pygments_lexer": "ipython3",
   "version": "3.12.8"
  }
 },
 "nbformat": 4,
 "nbformat_minor": 5
}
